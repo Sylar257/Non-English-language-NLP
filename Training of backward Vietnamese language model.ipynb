{
 "cells": [
  {
   "cell_type": "markdown",
   "metadata": {},
   "source": [
    "# Backgroud\n",
    "We have achieved 0.89 classification F1-score in our [last notebook](https://github.com/Sylar257/Non-English-language-NLP/blob/master/Vietnamese%20Sentiment%20Analysis.ipynb) which is just a little shy of the best performing model of the [Vietnamese sentiment competition](https://www.aivivn.com/contests/1) top score (F1-score: 0.90).\n",
    "This notebook follows similar training steps of the [last notebook](https://github.com/Sylar257/Non-English-language-NLP/blob/master/Vietnamese%20Sentiment%20Analysis.ipynb) but tries to build a **Backward** Vietnamese language model for classification.\n",
    "The idea is, since our input data is not reading from streaming data, we have the freedom to read the text *forawrd* or *backward* resulting in different **feature extraction** for the language classifier. Hence, let's create a backward model and build an **ensemble model** for more robust performance."
   ]
  },
  {
   "cell_type": "code",
   "execution_count": 1,
   "metadata": {},
   "outputs": [],
   "source": [
    "%matplotlib inline\n",
    "\n",
    "from fastai import *\n",
    "from fastai.text import *"
   ]
  },
  {
   "cell_type": "code",
   "execution_count": 2,
   "metadata": {},
   "outputs": [],
   "source": [
    "bs=48"
   ]
  },
  {
   "cell_type": "code",
   "execution_count": 3,
   "metadata": {},
   "outputs": [
    {
     "data": {
      "text/plain": [
       "PosixPath('/home/projectx/.fastai/data')"
      ]
     },
     "execution_count": 3,
     "metadata": {},
     "output_type": "execute_result"
    }
   ],
   "source": [
    "Config.data_path()"
   ]
  },
  {
   "cell_type": "code",
   "execution_count": 4,
   "metadata": {},
   "outputs": [
    {
     "data": {
      "text/plain": [
       "PosixPath('/home/projectx/Documents/Non-English sentiment analysis')"
      ]
     },
     "execution_count": 4,
     "metadata": {},
     "output_type": "execute_result"
    }
   ],
   "source": [
    "data_path = Path(os.getcwd())\n",
    "data_path"
   ]
  },
  {
   "cell_type": "code",
   "execution_count": 5,
   "metadata": {},
   "outputs": [],
   "source": [
    "# Same deal here, change the default data_path \n",
    "# and create all variable for model construct with `_bwd`\n",
    "lang = 'vi'\n",
    "name = f'{lang}wiki'\n",
    "path = data_path/name\n",
    "dest = path/'docs'\n",
    "lm_fns = [f'{lang}_wt_bwd', f'{lang}_wt_vocab_bwd']"
   ]
  },
  {
   "cell_type": "code",
   "execution_count": 6,
   "metadata": {},
   "outputs": [
    {
     "data": {
      "text/plain": [
       "PosixPath('/home/projectx/Documents/Non-English sentiment analysis/viwiki/docs')"
      ]
     },
     "execution_count": 6,
     "metadata": {},
     "output_type": "execute_result"
    }
   ],
   "source": [
    "dest"
   ]
  },
  {
   "cell_type": "code",
   "execution_count": 15,
   "metadata": {},
   "outputs": [],
   "source": [
    "data = (TextList.from_folder(dest)\n",
    "            .split_by_rand_pct(0.1, seed=42)\n",
    "            .label_for_lm()\n",
    "            .databunch(bs=bs, backwards=True))\n",
    "\n",
    "# data.save(f'{lang}_databunch_bwd')"
   ]
  },
  {
   "cell_type": "code",
   "execution_count": 16,
   "metadata": {},
   "outputs": [
    {
     "data": {
      "text/plain": [
       "<bound method DataBunch.show_batch of TextLMDataBunch;\n",
       "\n",
       "Train: LabelList (66149 items)\n",
       "x: LMTextList\n",
       "xxbos xxmaj thuyết hỗ sinh \n",
       " \n",
       "  xxmaj thuyết hỗ sinh hay thuyết tương sinh ( \" xxmaj xxunk \" ) là lý thuyết sinh học mô tả sự tương tác sinh thái giữa hai hoặc nhiều loài trong đó mỗi loài đều được hưởng lợi từ việc này . xxmaj thuyết hỗ sinh được cho là loại tương tác sinh thái phổ biến nhất và nó thường chiếm ưu thế trong hầu hết các cộng đồng trên toàn thế giới . xxmaj thuyết hỗ sinh có thể tương phản với cạnh tranh giữa các quan thể , giống loài , trong đó mỗi loài có kinh nghiệm trong việc tiến kiệm sức lực , năng lượng , và cùng khai thác tài nguyên , hoặc ký sinh trùng , trong đó một loài được hưởng lợi từ \" \" công sức \" \" của loài kia . \n",
       "  xxmaj thuật ngữ tương sinh đã được xxmaj pierre - xxmaj joseph van xxmaj xxunk giới thiệu trong cuốn sách năm 1876 của ông xxmaj ký sinh trùng và động vật . xxmaj thuyết tương sinh thường bị bó hẹp với hai loại hiện tượng sinh thái khác : hợp tác và cộng sinh . xxmaj hợp tác đề cập đến sự gia tăng sức lực thông qua các tương tác bên trong loài ( xxunk ) . xxmaj sự cộng sinh liên quan đến hai loài sống gần nhau và có thể là tương sinh , ký sinh hoặc giao hợp , vì vậy mối quan hệ cộng sinh không phải lúc nào cũng là sụ tương hỗ . xxmaj các ví dụ nổi bật bao gồm hầu hết các thực vật có mạch tương tác với xxunk , còn thực vật có hoa được thụ phấn bởi động vật , thực vật có mạch được phân tán bởi động vật và san hô với xxunk . \n",
       " \n",
       "  xxmaj thuyết tương sinh đóng một phần quan trọng trong sinh thái học . xxmaj ví dụ , các tương tác lẫn nhau rất quan trọng đối với chức năng hệ sinh thái trên cạn vì hơn 48 % thực vật trên đất liền dựa vào mối quan hệ của nấm với nấm để cung cấp cho chúng các hợp chất vô cơ và các nguyên tố vi lượng . xxmaj một ví dụ khác , ước tính cây rừng nhiệt đới có sự tương tác phân tán hạt giống với động vật dao động từ xxunk % . xxmaj ngoài ra , sự tương hỗ được cho là đã thúc đẩy sự tiến hóa của phần lớn sự đa dạng sinh học , chẳng hạn như các dạng hoa ( quan trọng đối với sự tương tác thụ phấn ) và đồng tiến hóa giữa các nhóm loài . xxmaj tuy nhiên , chủ nghĩa tương hỗ trong lịch sử đã nhận được ít sự chú ý hơn so với các tương tác khác như ăn thịt và ký sinh trùng . \n",
       " \n",
       "  xxmaj sự đong đếm lợi ích về sức lực chính xác cho các cá thể trong mối quan hệ tương hỗ không phải lúc nào cũng đơn giản , đặc biệt khi các cá thể có thể nhận được lợi ích từ nhiều loài , ví dụ như hầu hết các loài tương tác thụ phấn - thực vật . xxmaj do đó , thông thường để phân loại các tương tác theo sự gần gũi của sự cộng tác này , sử dụng các thuật ngữ như nghĩa vụ và khoa học . xxmaj xác định \" sự gần gũi \" , tuy nhiên , cũng có vấn đề . xxmaj nó có thể đề cập đến sự phụ thuộc lẫn nhau ( loài này không thể sống mà không có nhau ) hoặc sự thân mật sinh học của mối quan hệ liên quan đến sự gần gũi về thể xác ( ví dụ : một loài sống trong các mô của loài khác ) . \n",
       " \n",
       "  xxmaj mối quan hệ tương hỗ có thể được coi là một dạng \" trao đổi sinh học \" trong mối liên hệ bệnh nấm giữa rễ cây và nấm , với việc cây cung cấp carbohydrate cho nấm để đổi lấy chủ yếu là hợp chất phốt phát mà còn là nitơ . xxmaj các ví dụ khác bao gồm vi khuẩn xxunk cố định nitơ cho cây họ đậu ( họ xxmaj fabaceae ) để đổi lấy carbohydrate chứa năng lượng . xxmaj mối quan hệ tài nguyên dịch vụ tức là phục vụ để đổi lấy và hưởng lợi là phổ biến . xxmaj ba loại quan trọng là thụ phấn , làm sạch cộng sinh và đeo đám đi nhờ . xxmaj trong việc thụ phấn , một tác nhân thụ phấn sử dụng các nguồn thực phẩm dưới dạng mật hoa hoặc phấn hoa để phục vụ phân tán phấn hoa . xxmaj xxunk là sự phân tán hạt giống của động vật . xxmaj điều này tương tự như thụ phấn ở chỗ cây tạo ra nguồn thức ăn ( ví dụ , quả thịt , thừa hạt ) cho động vật phát tán hạt . xxmaj một loại khác là kiến bảo vệ rệp , trong đó rệp sẽ tiết ra mật ong giàu đường ( sản phẩm phụ của chế độ ăn nhựa cây ) để đổi lấy sự bảo vệ chống lại kẻ săn mồi như bọ rùa . \n",
       " \n",
       "  xxmaj các tương tác về sự phục vụ đổi lấy sự phục vụ lại là rất hiếm , vì những lý do không rõ ràng . xxmaj một ví dụ là mối quan hệ giữa hải quỳ và cá hải quỳ trong họ xxmaj xxunk : hải quỳ cung cấp cho cá sự bảo vệ khỏi những kẻ săn mồi ( vì chúng không thể chịu đựng được các vết cắn của hải quỳ ) và cá bảo vệ hải quỳ chống lại cá bướm ( họ xxmaj chaetodontidae ) là loài chuyên ăn hải quỳ . xxmaj tuy nhiên , điểm chung của nhiều tương tác , có nhiều hơn một khía cạnh của nó : trong sự tương sinh giữa hải quỳ - cá hải quỳ , chất thải amoniac từ cá ăn tảo cộng sinh được tìm thấy trong các xúc tu của hải quỳ . xxmaj do đó , những gì dường như là một sự tương hỗ dịch vụ - dịch vụ trong thực tế có một thành phần tài nguyên dịch vụ . \n",
       " \n",
       "  xxmaj một ví dụ thứ hai là mối quan hệ giữa một số loài kiến trong chi xxmaj xxunk và cây trong chi keo , chẳng hạn như cây gai huýt sáo và cây keo sừng bò . xxmaj những con kiến làm tổ bên trong gai của cây . xxmaj để đổi lấy nơi trú ẩn , loài kiến bảo vệ cây xxunk khỏi sự tấn công của động vật ăn cỏ ( chúng thường ăn ) và cạnh tranh với các loài thực vật khác bằng cách cắt tỉa thảm thực vật che bóng cây keo . xxmaj trong hệ thần kinh , loài kiến xxmaj xxunk xxunk làm tổ của nó trong các hốc đặc biệt ở xxmaj xxunk xxunk . xxmaj thực vật trong vùng lân cận thuộc về các loài khác bị giết bằng axit formic . xxmaj việc làm vườn chọn lọc này có thể rất mạnh mẽ đến nỗi các khu vực nhỏ của rừng mưa nhiệt đới bị chi phối bởi người chăn gia súc xxmaj xxunk . xxmaj những miếng vá kỳ dị này được người dân địa phương gọi là \" khu vườn của quỷ \" . \n",
       " \n",
       "  xxmaj trong một số mối quan hệ này , chi phí cho việc bảo vệ của loài kiến có thể khá tốn kém . xxmaj các loài cây thuộc chi xxmaj xxunk sp . trong rừng nhiệt đới xxmaj amazon có mối quan hệ hợp tác với các loài kiến thuộc chủng xxmaj xxunk sp , làm cho tổ của chúng trong lá . xxmaj để tăng lượng không gian sống có sẵn , những con kiến sẽ phá hủy nụ hoa của cây . xxmaj những bông hoa chết và lá phát triển thay vào đó , cung cấp cho kiến nhiều nhà ở hơn . xxmaj một loại khác của xxmaj xxunk sp . xxmaj kiến sống với các loài xxmaj xxunk sp trong cùng một khu rừng , nhưng trong mối quan hệ này , khi cây đã sẵn sàng để ra hoa , những con kiến ở một số nhánh bắt đầu héo và co lại , buộc những kẻ cư ngụ phải chạy trốn , để lại những bông hoa xxmaj cây phát triển không bị kiến tấn công . \n",
       " \n",
       "  xxmaj thuật ngữ \" nhóm loài \" có thể được sử dụng để mô tả cách thức mà các sinh vật riêng lẻ nhóm lại với nhau . xxmaj trong bối cảnh phi phân loại này , người ta có thể đề cập đến \" các nhóm cùng loài \" và \" các nhóm loài hỗn hợp \" . xxmaj trong khi các nhóm cùng loài là chuẩn mực , ví dụ về các nhóm loài hỗn hợp rất nhiều . xxmaj ví dụ , ngựa vằn ( xxmaj equus xxunk ) và linh dương đầu bò ( xxmaj connochaetes taurinus ) có thể vẫn liên kết trong các giai đoạn di cư đường dài qua bình nguyên xxmaj serengeti như một chiến lược để ngăn chặn những kẻ săn mồi . xxmaj cercopithecus mitis và xxmaj cercopithecus ascanius , là các loài khỉ trong rừng xxmaj xxunk của xxmaj kenya , có thể ở gần nhau và đi dọc theo các tuyến đường chính xác trong rừng trong thời gian lên tới 12 giờ . xxmaj những nhóm loài hỗn hợp này không thể được giải thích bằng sự trùng hợp của việc chia sẻ cùng một môi trường sống . xxmaj thay vào đó , chúng được tạo ra bởi sự lựa chọn hành vi tích cực của ít nhất một trong số các loài được đề cập . \n",
       " \n",
       "  xxmaj các phương pháp toán học về sự tương hỗ , như nghiên cứu về sự tương hỗ nói chung , đã bị tụt hậu so với những kẻ săn mồi , hoặc động vật ăn thịt , người tiêu dùng , tài nguyên , tương tác . xxmaj trong các mô hình tương tác , các đáp ứng chức năng \" loại i \" và \" loại xxup ii \" đề cập đến mối quan hệ tuyến tính và bão hòa , tương ứng , giữa lợi ích cung cấp cho một cá thể của loài 1 ( trục y ) về mật độ của loài 2 ( x xxunk ) . \n",
       " \n",
       "  xxmaj năm 1989 , xxmaj david xxmaj hamilton xxmaj wright đã sửa đổi các xxmaj phương trình xxmaj lotka – xxmaj volterra bằng cách thêm một thuật ngữ mới , xxunk / k , để thể hiện mối quan hệ tương hỗ . xxmaj wright cũng đã xem xét khái niệm bão hòa , có nghĩa là với mật độ cao hơn , có những lợi ích giảm dần của sự gia tăng hơn nữa của quần thể tương hỗ . xxmaj nếu không bão hòa , mật độ của loài sẽ tăng lên vô hạn . xxmaj bởi vì điều đó là không thể do các hạn chế về môi trường và khả năng mang theo , một mô hình bao gồm độ bão hòa sẽ chính xác hơn . xxmaj lý thuyết toán học của xxmaj wright dựa trên tiền đề của mô hình tương sinh hai loài đơn giản , trong đó lợi ích của chủ nghĩa tương hỗ trở nên bão hòa do các giới hạn đặt ra bởi thời gian xử lý . xxmaj wright định nghĩa thời gian xử lý là thời gian cần thiết để xử lý một loại thức ăn , từ khi tương tác ban đầu đến khi bắt đầu tìm kiếm các thực phẩm mới và cho rằng chế biến thực phẩm và tìm kiếm thực phẩm là loại trừ lẫn nhau . xxmaj theo lý thuyết tương hỗ thể hiện hành vi tìm kiếm thức ăn được tiếp xúc với những hạn chế về thời gian xử lý . xxmaj thuyết tương sinh có thể được liên kết với sự cộng sinh . \n",
       " \n",
       "  xxmaj các mạng lưới tương hỗ được tạo ra từ sự tương tác giữa thực vật và côn trùng thụ phấn đã được tìm thấy có cấu trúc tương tự trong các hệ sinh thái rất khác nhau trên các lục địa khác nhau , bao gồm các loài hoàn toàn khác nhau . xxmaj cấu trúc của các mạng lưới tương hỗ này có thể có những hậu quả lớn đối với cách các cộng đồng thụ phấn phản ứng với các điều kiện ngày càng khắc nghiệt và khả năng chuyên chở của cộng đồng quần thể này . \n",
       "  xxmaj các mô hình toán học kiểm tra hậu quả của cấu trúc mạng này đối với sự ổn định của các cộng đồng thụ phấn cho thấy cách thức cụ thể trong đó mạng lưới thụ phấn thực vật được tổ chức giảm thiểu sự cạnh tranh giữa các loài thụ phấn , làm giảm sự lan truyền của các tác động gián tiếp và do đó tăng cường sự ổn định của hệ sinh thái và thậm chí có thể dẫn đến sự thuận lợi gián tiếp mạnh mẽ giữa các loài thụ phấn khi điều kiện khắc nghiệt . xxmaj điều này có nghĩa là các loài thụ phấn cùng nhau có thể tồn tại trong điều kiện khắc nghiệt . \n",
       " \n",
       "  xxmaj nhưng nó cũng có nghĩa là các loài thụ phấn sụp đổ đồng thời khi điều kiện vượt qua điểm tới hạn . xxmaj sự sụp đổ đồng thời này xảy ra , bởi vì các loài thụ phấn phụ thuộc lẫn nhau khi sống sót trong điều kiện khó khăn . xxmaj sự sụp đổ toàn cộng đồng như vậy , liên quan đến nhiều loài thụ phấn , có thể xảy ra đột ngột khi điều kiện ngày càng khắc nghiệt vượt qua điểm quan trọng và việc phục hồi từ sự sụp đổ như vậy có thể không dễ dàng . xxmaj sự cải thiện về điều kiện cần thiết cho các loài thụ phấn để phục hồi có thể lớn hơn đáng kể so với sự cải thiện cần thiết để trở lại các điều kiện mà cộng đồng thụ phấn bị sụp đổ . \n",
       "  xxmaj thuyết tương sinh không nằm ở trạng tái tĩnh mà luôn có sự vận động và đổi thay và có thể bị mất đi bởi quá trình tiến hóa . xxmaj sachs và xxmaj simms ( 2006 ) đề xuất rằng điều này có thể xảy ra thông qua 4 phương cách chính : \n",
       "  xxmaj có rất nhiều ví dụ về sự đổ vỡ lẫn nhau . xxmaj ví dụ , dòng dõi thực vật sống trong môi trường giàu chất dinh dưỡng đã dần dần từ bỏ sự tương tác xxunk nhiều lần một cách độc lập . \n",
       " \n",
       "  xxmaj con người có liên quan đến sự tương tác với các loài khác : hệ thực vật đường ruột của chúng rất cần thiết cho quá trình tiêu hóa hiệu quả . xxmaj nhiễm chấy có thể có lợi cho con người bằng cách thúc đẩy phản ứng miễn dịch giúp giảm nguy cơ mắc bệnh rận do cơ thể gây ra . xxmaj một số mối quan hệ giữa con người với động vật và thực vật được thuần hóa ở các mức độ khác nhau . xxmaj ví dụ , các giống ngô nông nghiệp cung cấp thức ăn cho con người và không thể sinh sản mà không có sự can thiệp của con người vì vỏ lá không bị mở ra và hạt giống ( \" ngô trên lõi ngô \" ) không bị vỡ để phân tán hạt một cách tự nhiên . \n",
       "  xxmaj trong nông nghiệp truyền thống , một số cây trồng có tính tương hỗ là cây đồng hành , cung cấp cho nhau nơi trú ẩn , độ phì nhiêu của đất và / hoặc kiểm soát dịch hại tự nhiên . xxmaj ví dụ , đậu có thể mọc lên trên thân cây ngô như một tấm lưới , trong khi cố định nitơ trong đất để lấy ngô . xxmaj một nhà nghiên cứu đã đề xuất rằng lợi thế chính của xxmaj homo sapiens so với người xxmaj neanderthal trong việc cạnh tranh với môi trường sống tương tự là sự tương hỗ của người với chó . xxmaj chó và cừu là một trong những động vật đầu tiên được thuần hóa . \n",
       " \n",
       " \n",
       " \n",
       "  < / doc > \n",
       " ,xxbos xxmaj mercedes xxup amg \n",
       " \n",
       "  xxmaj mercedes - xxup amg gmbh , thường được gọi là xxup amg , là một nhà thiết kế , sản xuất và lắp ráp các loại xe hơi thuộc thương hiệu xxmaj mercedes xxmaj benz . xxmaj mercedes xxup amg đặt trụ sở tại xxmaj xxunk , xxmaj baden - xxmaj württemberg , xxmaj cộng hòa xxmaj liên bang xxmaj đức . xxmaj trước đây là một nhà sản xuất động cơ độc lập chuyên nghiên cứu và nâng cấp các dòng xe của xxmaj mercedes . daimlerchrysler cho thấy sự quan tâm về việc giành quyền kiểm soát xxup amg vào năm 1990 và trở thành sở hữu của xxup amg vào năm 2005 . xxup amg hiện tại là một công ty con được sở hữu hoàn toàn bởi xxmaj daimler xxup ag . \n",
       " \n",
       "  xxmaj các mẫu xe của xxup amg thường có vẻ bề ngoài mạnh mẽ hơn , một công suất mạnh hơn , lái dễ dàng hơn , độ ổn định cao hơn và sử dụng một cách rộng rãi vật liệu sợi carbon so với những chiếc xe nguyên bản của xxmaj mercedes . xxmaj các mẫu xe của xxup amg thường là những mẫu xe đắt nhất và có hiệu suất cao nhất so với chiếc xe cùng dòng của xxmaj mercedes . \n",
       " \n",
       "  xxmaj những chiếc xe của xxup amg thường có tên mã với 2 chữ số so với 3 chữ số của xxmaj mercedes . \n",
       "  xxup amg được thành lập năm 1967 như một nhà sản xuất động cơ xe đua dưới cái tên là xxup amg xxmaj xxunk und xxmaj xxunk mbh ( xxmaj công ty trách nhiệm hữu hạn sản xuất và phát triển động cơ xxup amg ) bởi hai cựu kĩ sư của xxmaj mercedes tên là xxmaj hans xxmaj werner xxmaj xxunk và xxmaj erhard xxmaj xxunk ở xxmaj xxunk an der xxmaj xxunk , gần xxmaj stuttgart . xxmaj cái tên \" xxup amg \" là viết tắt của xxmaj xxunk , xxmaj xxunk và xxmaj xxunk ( nơi sinh của xxmaj xxunk ) . xxmaj vào năm 1976 hầu hết xxup amg chuyển đến xxmaj xxunk , với bộ phận nghiên cứu động cơ xe đua còn ở lại vị trí cũ ở xxmaj xxunk . xxmaj lúc này xxmaj erhard xxmaj xxunk không còn là thành viên hội đồng quản trị , nhưng vẫn tiếp tục làm việc như một nhân viên ở xxmaj xxunk . \n",
       " \n",
       "  xxmaj năm 1990 , xxup amg đã trở thành một nhà thầu cao cấp cung cấp việc chỉnh sửa , \" độ \" lại các mẫu xe của xxmaj mercedes . xxmaj daimler - xxmaj benz xxup ag và xxup amg đã ký một hợp đồng cho phép xxup amg sử dụng mạng lưới đại lý rộng khắp của xxmaj daimler - xxmaj benz và tiến tới phát triển hoàn toàn một mẫu xe ( mẫu xe đầu tiên là xxmaj mercedes - xxmaj benz xxup xxunk xxup amg ra đời năm 1993 ) . xxmaj vào ngày 1 tháng 1 năm 1999 , daimlerchrysler thâu tóm đủ 51 % cổ phần của xxup amg và đổi tên công ty thành xxmaj mercedes - xxup amg gmbh đồng thời thoái vốn khỏi bộ phận phát triển động cơ xe đua , bộ phận này tiếp tục tồn đại dưới cái tên xxup hwa . xxmaj vào ngày 1 tháng 1 năm 2005 , xxmaj xxunk bán phần cố phiếu còn lại cho daimlerchrysler , từ đó xxmaj mercedes - xxup amg gmbh trở thành một công ty con và thuộc sở hữu hoàn toàn của daimlerchrysler . \n",
       "  xxup amg bắt đầu bằng việc thiết kế và thử nghiệm các động cơ . xxmaj sau đó mở rộng sang thiết kế và tùy chỉnh các xe nguyên bản của xxmaj mercedes \n",
       " \n",
       " \n",
       " \n",
       "  < / doc > \n",
       " ,xxbos xxmaj daniel xxmaj padilla \n",
       " \n",
       "  xxmaj daniel xxmaj john xxmaj ford xxmaj padilla ( sinh ngày 26 tháng 4 năm 1995 ) , còn được gọi là xxmaj daniel xxmaj padilla , là một diễn viên người xxmaj philippines và nghệ sĩ thu âm / bassist ban nhạc , xxmaj xxunk 5 . xxmaj anh hiện đang   là một tài năng của xxup abs - xxup cbn và xxmaj star xxmaj magic và đã được chọn là một trong   những xxmaj đại sứ trẻ tuổi của xxmaj original xxmaj pilipino xxmaj music để phát triển âm nhạc địa phương đến những người trẻ . \n",
       " \n",
       "  xxmaj padilla , tên đầy đủ là xxmaj daniel xxmaj john xxmaj ford xxmaj padilla sinh ngày 26 tháng 4 năm 1995 ở xxmaj manila , xxmaj philippines . xxmaj anh   là con của diễn viên nổi tiếng   xxmaj rommel xxmaj padilla và xxmaj karla xxmaj estrada . xxmaj daniel cũng là cháu của ngôi sao phim hành động   xxmaj robin xxmaj padilla và xxmaj xxunk xxmaj padilla , được biết đến như là \" xxup bb xxmaj xxunk \" . \n",
       " \n",
       "  xxmaj padilla sống trong một năm ở xxmaj tacloban và học ở đó ( lớp 4 ) . xxmaj năm 2014 , anh đăng ký là sinh viên của hệ thống giáo dục xxup ama . xxmaj do lịch làm việc quá khắt khe nên anh đã lấy chương trình học tại nhà của xxmaj xxunk xxmaj college nhiều năm trước . xxmaj daniel xxmaj padilla đã chia sẻ kế hoạch của mình về việc trở lại trường học sau khi mẹ của mình , xxmaj karla xxmaj estrada , công bố trên \" xxmaj xxunk xxmaj xxunk \" rằng cô ấy muốn tất cả các con cô để hoàn thành việc học của chúng . \n",
       " \n",
       "  xxmaj padilla đã được phát hiện bởi nhà quản lý tài năng xxmaj douglas giới thiệu anh đến thử giọng với xxmaj star xxmaj magic . xxmaj ông đã được giới thiệu với giới truyền thông như là một thành viên của xxmaj star xxmaj magic xxmaj circle 203 . xxmaj tại một cuộc họp báo vào năm 2013 , xxmaj padilla nói anh đã nghĩ rằng anh không bao giờ tưởng tượng được mình sẽ làm trong lĩnh vực giải trí mà nghĩ rằng anh đáng ra sẽ làm công việc kinh doanh để lo cho gia đình anh từ khi họ trải qua những khó khăn về tài chính . \n",
       " \n",
       "  xxmaj daniel xxmaj padilla và xxmaj kathryn xxmaj bernardo ( còn gọi là xxunk nhau từ năm 2011 đến nay , họ rất hạnh phúc và không chỉ đơn thuần là một nửa của đối phương trên màn ảnh . xxup dj và xxmaj xxunk thực sự khiến mọi người nghi ngờ rằng họ là một đôi ngoài đời . \n",
       " \n",
       "  xxunk còn được công nhận là xxunk hàng đầu xxmaj philipines với những bộ phim truyền hình có tỉ suất người xem cao ngất ngưởng ( trung bình hơn 32 % ) và những bộ phim chiếu rạp bom tấn có doanh thu khủng . xxmaj fandom của họ cũng là một trong những fandom hùng mạnh nhất xxmaj philippines với lượng fan đông đảo cả trong và ngoài nước . \n",
       " \n",
       "  xxmaj padilla bắt đầu gây ấn tượng trong năm 2010 , khi anh góp một vai nhỏ trong \" xxmaj xxunk năm 2010 \" , một phiên bản làm lại của chương trình hướng tới giới trẻ gây hit năm 1990 và được kết hợp với xxmaj julia xxmaj montes . xxmaj anh cũng được chọn vào vai xxmaj patrick xxmaj rivero trong một chương trình có tựa đề xxmaj growing xxmaj up ,   thay thế xxmaj xxunk xxmaj xxunk ( người đưa   xxmaj kathryn xxmaj bernardo   thành công trong   \" xxmaj mara xxmaj clara \" ) cho vai diễn đó . \n",
       " \n",
       "  xxmaj sau hai chương trình liên tiếp về xxmaj sunday youth , xxmaj padilla cuối cùng cũng đã có được một vai trò quan trọng trong một bộ phim truyền hình vào giờ vàng mang tên   \" công xxmaj chúa xxmaj và tôi \" . xxmaj anh thử sức với nhân vật xxmaj gerald xxmaj antonio \" xxmaj gino \" xxunk xxmaj rosa hay xxmaj xxunk xxmaj yuan xxmaj rinpoche , một nhân vật mà anh miêu tả như \" một đứa trẻ giàu có và ngang tàng , người sẽ thay đổi và hy sinh rất nhiều vì lợi ích của tình yêu \" .   xxmaj bộ phim   lãng mạn - hài kịch hoàng tộc đã gây ấn tượng tốt ở bảng xếp hạng , đạt mức 40 % và đứng thứ hai sau   \" xxmaj xxunk xxmaj xxunk \" . \n",
       " \n",
       "  xxmaj vào ngày 28 tháng 5 năm 2012 , xxmaj padilla đã phát hành album đầu tay mang tên mình ,   \" xxmaj daniel xxmaj padilla \" . xxmaj album có sáu bài hát dấu với một single \" xxmaj xxunk - xxunk xxmaj kita \" , đó cũng là bài hát chủ đề trong   \" công xxmaj chúa xxmaj và tôi \" . xxmaj theo xxmaj star xxmaj records của nhà sản xuất xxmaj jonathan xxmaj xxunk , album đầu tay của xxmaj padilla bán được hơn 10.000 bản trong vòng chưa đầy một tuần . xxmaj vào ngày 17 tháng 6 cùng năm , xxmaj padilla được trao giài thưởng xxmaj gold xxmaj record xxmaj award cho album đầu tay của mình và sau này bán được hơn 30.000 bản và đạt xxmaj double xxmaj xxunk .   xxmaj vào ngày 14 xxmaj tháng xxmaj tư năm 2014 , xxmaj star xxmaj records phát hành album mới của xxmaj daniel xxmaj padilla , i xxmaj heart xxmaj you . i xxmaj heart xxmaj you   là một trong những single trong album đó . \n",
       " \n",
       " \n",
       " \n",
       " \n",
       "  < / doc > \n",
       " ,xxbos xxmaj doraemon : xxmaj nobita và binh đoàn người sắt \n",
       " \n",
       "  xxmaj câu chuyện được bắt đầu với việc xxmaj suneo khoe khoang về con robot xxmaj xxunk khiến xxmaj nobita cảm thấy ganh tị . xxmaj tình cờ , xxmaj nobita nhận được con robot xxmaj zanda xxmaj xxunk bí ẩn cùng quả cầu - bộ não của xxmaj zanda xxmaj xxunk , cậu ta và xxmaj doraemon lắp ráp hoàn chỉnh và đặt trong \" xxmaj thế giới gương soi \" - xxmaj một thế giới ảo không có người . xxmaj họ rủ thêm xxmaj shizuka cùng chơi với con xxunk ấy và phát hiện ra khả năng đặc biệt của nó nên hứa với nhau sẽ giữ i m lặng . xxmaj thế nhưng xxmaj nobita đã tiết lộ điều ấy với xxmaj riruru - chủ nhân của xxmaj xxunk ' , tức là \" xxmaj zanda xxmaj xxunk \" , và cô ta bảo cậu ta phải giữ bí mật . xxmaj với những bí ẩn về bọn xxunk , xxmaj nobita đã tiết lộ cho xxmaj doraemon tất cả . xxmaj họ phát hiện ra âm mưu thôn tính xxmaj địa cầu của bọn xxunk và bị truy sát . xxmaj cả hai báo cho những người lớn nhưng không ai tin . xxmaj họ báo cho xxmaj suneo và xxmaj jaian rồi cùng nhau cải tạo quả cầu nọ . xxmaj tất cả xuống \" xxmaj thế giới gương soi \" và cùng xxmaj xxunk phá hủy căn cứ xxunk . xxmaj tuy bị toán xxunk chống trả nhưng với vũ khí của mình họ đã làm chủ được tình hình và lập kế hoạch lừa bọn robot từ hành tinh xxmaj xxunk xuống \" xxmaj thế giới gương soi \" . \n",
       " \n",
       "  xxmaj trong lúc ấy , xxmaj shizuka cũng tìm đường đến \" xxmaj thế giới gương soi \" và đưa xxmaj riruru trong đống đổ nát đang thương nặng về nhà ( cũng trong thế giới này ) chăm sóc và báo cho các bạn biết . xxmaj riruru bảo loài người là hạ đẳng phải chịu làm nô lệ cho robot và đó là ý muốn của xxmaj thượng đế , sau đó cô ta đã bỏ trốn . xxmaj bọn robot bị lừa sang tấn công thế giới ảo bắt gặp xxmaj riruru . xxmaj cảm động trước tấm lòng của loài người , cô ta đã khuyên tên xxunk chỉ huy dừng kế hoạch phi nghĩa này và xxmaj riruru đã bị bắt giam . xxmaj thế nhưng xxmaj doraemon và xxmaj nobita đã cứu cô ta . \n",
       " \n",
       "  xxmaj bọn robot phát hiện ra kế hoạch của nhóm xxmaj doraemon nên tìm đường quay lại thế giới thực . xxmaj nhóm xxmaj doraemon đã phục kích và chiến đấu không cho chúng đến thế giới thực . xxmaj trong lúc ấy xxmaj shizuka nảy ra ý định cùng xxmaj xxunk trở về quá khứ gặp người chế tạo ra xxmaj amu và xxmaj emu - những cư dân xxunk đầu tiên ở hành tinh xxmaj xxunk . xxmaj biết được sai lầm trong tương lai của mình , ông đã cấy \" xxmaj tế bào nhân ái \" thay vì \" xxmaj bản năng cạnh tranh \" cho những cư dân ấy . xxmaj nhưng ông đã quá kiệt sức và được xxmaj riruru giúp đỡ . xxmaj cuộc chiến giữa nhóm xxmaj doraemon với bọn xxunk đang quyết liệt thì bọn xxunk biến mất , xxmaj riruru cũng tan biến theo . xxmaj khi xxmaj nobita chợt thấy hình bóng của xxmaj riruru lướt qua cũng chính là lúc câu chuyện kết thúc . \n",
       " \n",
       "  xxmaj bộ phim là sản phẩm của : \n",
       " \n",
       "  xxmaj một phiên bản làm lại của bộ phim với nhiều thay đổi về mặt nội dung mang tên \" \" , được phát hành năm 2011 . \n",
       " \n",
       " \n",
       " \n",
       "  < / doc > \n",
       " ,xxbos xxmaj mikhail xxmaj yuryevich xxmaj lermontov \n",
       " \n",
       "  xxmaj mikhail xxmaj yuryevich xxmaj lermontov ( tiếng xxmaj nga : xxmaj xxunk xxmaj xxunk xxmaj xxunk , 15 tháng 10 năm 1814 – 27 tháng 7 năm 1841 ) – nhà thơ , nhà văn xxmaj nga . xxmaj là nhà thơ lớn của xxmaj nga sau xxmaj aleksandr xxmaj pushkin . \n",
       " \n",
       "  xxmaj mikhail xxmaj yuryevich xxmaj lermontov sinh ở xxmaj moskva trong một gia đình có gốc gác từ xxmaj scotland . xxmaj mẹ mất sớm nên xxmaj lermontov được bà ngoại nuôi dạy . xxmaj từ nhỏ đã thông thạo tiếng xxmaj pháp , tiếng xxmaj đức . xxmaj năm 1825 bà ngoại đưa xxmaj lermontov đi về vùng xxmaj kavkaz . xxmaj ký ức tuổi thơ trước phong cảnh thiên nhiên của vùng xxmaj kavkaz in đậm trong nhiều sáng tác của ông . xxmaj năm 1827 trở lại xxmaj moskva , xxmaj lermontov vào học tại học xá xxmaj moskva , đến năm 1830 học xá trở thành gymnazy thì nghỉ học , sau đó vào học xxmaj đại học xxmaj moskva nhưng hai năm sau lại nghỉ học . xxmaj theo lời khuyên của một người bạn , xxmaj lermontov vào học trường võ bị xxmaj sankt xxmaj peterburg . xxmaj sau khi tốt nghiệp đi về vùng xxmaj kavkaz phục vụ . xxmaj thời gian ở xxmaj kavkaz , trong một vụ xích mích với xxmaj xxunk , người trước đây từng là bạn học ở trường võ bị , đã quyết định đấu súng và bị giết chết . \n",
       " \n",
       "  xxmaj cuộc đời của xxmaj lermontov chỉ vỏn vẹn có 27 năm nhưng di sản thơ ca mà ông để lại cho đời vô cùng to lớn . xxmaj lermontov giữ một vị trí đặc biệt trong thơ ca xxmaj nga . \n",
       " \n",
       "  xxmaj nhà phê bình xxmaj xxunk viết : \" xxmaj trong thơ của xxmaj lermontov là tất cả sức mạnh , là tất cả yếu tố để làm nên cuộc đời và thơ ca : một sức mạnh bền vững của tâm hồn , sự nhún nhường của than vãn , mùi hương của lời cầu nguyện , một sự khích lệ như sóng gió ba đào , một nỗi buồn tĩnh lặng , một nỗi trầm tư dịu dàng , những lời thở than kêu hãnh , những tiếng kêu la tuyệt vọng , vẻ đằm thắm bí huyền của tình cảm , những ước mong táo bạo không thể ngăn kìm , sự trong trắng trinh nguyên , những bệnh tật của xã hội , những bức tranh của thế giới , những lời quở trách của lương tâm , sự hối hận đến mủi lòng , sự thổn thức của đam mê và những giọt nước mắt lặng lẽ rót vào sóng gió của con tim , sự hoan hỉ của tình , lo âu của ngày ly biệt , niềm vui của ngày gặp mặt , sự coi khinh vẻ đơn điệu của đời thường , sự khát khao điên cuồng của vẻ hân hoan , một lòng tin cháy bừng như ngọn lửa và nỗi khổ của sự trống vắng trong tâm hồn , tiếng kêu than xua đi cảm giác về một cuộc đời đang chết lặng , chất độc của phủ nhận , vẻ lạnh lùng của mối nghi ngờ , ác quỷ ngạo mạn và đứa bé ngây thơ , vẻ ngang tàng của kẻ rượu chè và cô gái ngây thơ trong trắng – tất cả , tất cả trong thơ này : và bầu trời , và mặt đất , và thiên đàng , và địa ngục \" . \n",
       "  xxmaj với vẻ phong phú về ý tưởng và mô - típ kể trên , có thể chia sáng tác của xxmaj lermontov thành 2 giai đoạn : giai đoạn thứ nhất đến năm 1835 và giai đoạn thứ hai là những năm còn lại của cuộc đời thơ ngắn ngủi . ở giai đoạn đầu xxmaj lermontov sáng tác bằng trí tưởng tưởng , bằng cảm nhận về thế giới xung quanh mình : sự đấu tranh không khoan nhượng của hai mặt đối lập giữa trời và đất , qua đó nhìn ra nguyên nhân của bi kịch cuộc đời mình . xxmaj giai đoạn thứ hai nhà thơ đã gần hơn với thực tế qua sự với tiếp xúc nhiều với những con người và đời sống xã hội . xxmaj như một người theo thuyết nhị nguyên luận , nhà thơ cảm nhận vẻ hai mặt của con người \" trong khoảng trung gian kinh hoàng giữa hai cuộc đời \" . \n",
       " \n",
       "  xxmaj tiếng xxmaj nga : \n",
       " \n",
       "  xxup i. \" xxmaj xxunk \" \n",
       " \n",
       " \n",
       "  xxup ii . \" xxmaj xxunk xxunk \" \n",
       "  а ) xxmaj xxunk xxunk . \" xxmaj xxunk xxup xxunk xxmaj xxunk - xxmaj xxunk \" ( \" xxmaj xxunk xxmaj xxunk \" , 1890 , кн . xxup viii ) ; \" xxmaj xxunk и xxunk xxunk - xxunk - xxup xxunk xxmaj xxunk \" ( \" xxmaj русская xxmaj xxunk \" , 1896 , кн . xxup vi ) ; \" xxmaj xxunk \" xxup xxunk xxmaj xxunk ( \" xxmaj русская xxmaj xxunk \" , 1884 , кн . xxup xii ) ; xxup xxunk xxmaj xxunk ( \" xxmaj xxunk xxmaj xxunk \" , 1884 , кн . v ) ; \" xxmaj xxunk \" xxup xxunk xxmaj xxunk ( xxunk . xxmaj xxunk ) , xxunk . xxup xxunk xxmaj xxunk ( xxunk . , 1871 ; xxunk xxunk о xxunk xxunk xxunk xxup xxunk xxmaj xxunk , \" xxmaj русский xxmaj xxunk \" , 1872 , кн . xxup ii ) . b ) xxmaj xxunk xxunk и xxunk xxunk . \" xxmaj xxunk xxmaj xxunk \" ; xxup а. xxmaj xxunk ( \" xxmaj русский xxmaj мир \" , 1872 , xxmaj no . 205 ) ; xxup xxunk xxmaj xxunk \" xxmaj русский xxmaj xxunk \" , 1893 , xxup ii [ 8 ] ; \" xxmaj xxunk xxunk xxmaj xxunk xxmaj xxunk xxunk \" ( xxunk . , 1873 ) ; xxup xxunk xxmaj xxunk \" xxmaj xxunk xxunk xxunk xxmaj xxunk xxunk \" ( xxunk . xxup iv ) ; xxup xxunk xxmaj xxunk \" xxmaj xxunk xxunk на xxmaj xxunk \" ( xxmaj xxunk , 1900 ) . с ) xxmaj xxunk - xxunk xxunk . \" xxmaj xxunk \" xxup xxunk xxmaj xxunk ( xxunk . xxup ii , xxunk . , 1897 ) ; \" xxmaj xxunk \" xxup xxunk xxmaj xxunk ( \" xxmaj xxunk \" . xxmaj xxunk xxmaj xxunk xxunk xxunk xxunk на 1895 г . ) ; xxup xxunk xxmaj xxunk ( \" xxmaj русская xxmaj xxunk \" , 1873 , кн . xxup iii и xxup iv ) ; xxunk xxup xxunk xxmaj xxunk ( \" xxmaj русская xxmaj xxunk \" , 1882 , кн . xxup ix ) ; xxmaj xxunk . xxmaj xxunk ( \" xxmaj xxunk \" , 1861 , кн . xxup ii , xxunk . 326 ) ; xxup xxunk xxmaj xxunk ( \" xxmaj xxunk \" , 1861 , кн . xxup ii , xxunk . 656 - 663 ) ; xxunk xxup xxunk xxmaj xxunk ( \" xxmaj xxunk xxmaj xxunk \" , 1886 , кн . xxup iv - xxup vi ) ; xxunk xxup xxunk xxmaj xxunk ( \" xxmaj русский xxmaj xxunk \" , 1900 , xxmaj no . 9 , xxunk . 80 - 81 ) ; xxup xxunk xxmaj xxunk - xxmaj xxunk ( \" xxmaj xxunk xxmaj xxunk \" , 1889 , кн . xxup ii , xxunk . 313 ) . d ) xxmaj xxunk xxunk xxunk xxmaj xxunk : \" xxmaj xxunk \" xxup xxunk xxmaj xxunk - xxmaj xxunk ( \" xxmaj русский xxmaj xxunk \" , 1889 , xxmaj no . 6 , xxunk . 315 - 320 ) ; \" xxmaj xxunk xxmaj xxunk \" , 1881 , xxmaj no . 1983 ; \" xxmaj xxunk \" , 1885 , xxmaj no . 20 ; \" xxmaj русский xxmaj xxunk \" , 1887 , xxmaj no . 11 ; \" xxmaj xxunk \" , 1891 , xxmaj no . 12 ; \" xxmaj xxunk xxmaj xxunk \" , 1891 , кн . xxup iv , xxunk . 707 - 712 ) ; xxunk xxup xxunk xxmaj xxunk ( \" xxmaj русский xxmaj xxunk \" , 1872 , xxmaj no . 1 ) ; xxup xxunk xxmaj xxunk ( \" xxmaj xxunk \" , 1885 , xxmaj no . 7 , 8) ; \" xxmaj xxunk xxunk xxunk о xxunk xxmaj xxunk с xxup xxunk xxmaj xxunk \" ( \" xxmaj русский xxmaj xxunk \" , 1893 , кн . xxup ii [ 8 ] , xxunk . 595 - 606 ) ; \" xxmaj xxunk о xxunk xxmaj xxunk \" ( \" xxmaj xxunk xxmaj xxunk \" , 1895 , кн . xxup ii , xxunk . 841 - 876 ) . \n",
       " \n",
       " \n",
       " \n",
       "  < / doc > \n",
       " \n",
       "y: LMLabelList\n",
       ",,,,\n",
       "Path: /home/projectx/Documents/Non-English sentiment analysis/viwiki/docs;\n",
       "\n",
       "Valid: LabelList (7349 items)\n",
       "x: LMTextList\n",
       "xxbos xxmaj phạm xxmaj bình xxmaj minh \n",
       " \n",
       "  xxmaj phạm xxmaj bình xxmaj minh ( sinh ngày 26 tháng 3 năm 1959 ) là một nhà ngoại giao và chính trị gia người xxmaj việt xxmaj nam . xxmaj ông hiện là xxmaj phó xxmaj thủ tướng xxmaj chính phủ kiêm xxmaj bộ trưởng xxmaj bộ xxmaj ngoại giao xxmaj việt xxmaj nam , đại biểu xxmaj quốc hội xxmaj việt xxmaj nam khóa xxup xiv nhiệm kì 2016 - 2021 , thuộc đoàn đại biểu quốc hội tỉnh xxmaj thái xxmaj nguyên . xxmaj ông đã trúng cử đại biểu xxmaj quốc hội năm 2016 ở đơn vị bầu cử số 3 , tỉnh xxmaj thái xxmaj nguyên gồm có thành phố xxmaj sông xxmaj công , thị xã xxmaj phổ xxmaj yên và huyện xxmaj phú xxmaj bình . xxmaj ông từng là đại biểu xxmaj quốc hội xxmaj việt xxmaj nam khóa xxup xiii nhiệm kì 2011 - 2016 , thuộc đoàn đại biểu quốc hội tỉnh xxmaj quảng xxmaj ninh . xxmaj trong xxmaj đảng xxmaj cộng sản xxmaj việt xxmaj nam , ông giữ chức vụ xxmaj ủy viên xxmaj bộ xxmaj chính trị khóa xxup xii , nguyên xxmaj ủy viên xxmaj ban xxmaj chấp hành xxmaj trung ương xxmaj đảng xxmaj cộng sản xxmaj việt xxmaj nam các khóa x , xxup xi . xxmaj ông là con trai của cố xxmaj ủy viên xxmaj bộ xxmaj chính trị , xxmaj phó xxmaj thủ tướng xxmaj chính phủ kiêm xxmaj bộ trưởng xxmaj bộ xxmaj ngoại giao xxmaj nguyễn xxmaj cơ xxmaj thạch . \n",
       " \n",
       "  xxmaj ông sinh ngày 26 tháng 3 năm 1959 , nguyên quán tại xã xxmaj liên xxmaj minh , huyện xxmaj vụ xxmaj bản , tỉnh xxmaj nam xxmaj định . xxmaj cha của ông là nhà ngoại giao xxmaj phạm xxmaj văn xxmaj cương , tức xxmaj nguyễn xxmaj cơ xxmaj thạch , bấy giờ đang giữ chức vụ xxmaj tổng lãnh sự nước xxmaj việt xxmaj nam xxmaj dân chủ xxmaj cộng hòa tại xxmaj ấn xxmaj độ . xxmaj mẹ của ông là bà xxmaj phan xxmaj thị xxmaj phúc . xxmaj ông hiện cư trú tại quận xxmaj ba xxmaj đình , thành phố xxmaj hà xxmaj nội . \n",
       " \n",
       "  xxmaj sau khi tốt nghiệp trường xxmaj đại học xxmaj ngoại giao , năm 1981 , ông được nhận vào làm xxmaj chuyên viên xxmaj vụ xxmaj đào tạo , xxmaj bộ xxmaj ngoại giao , bấy giờ cha ông đang giữ chức xxmaj bộ trưởng . \n",
       " \n",
       "  xxmaj một năm sau , năm 1982 , ông được bổ nhiệm làm xxmaj tùy viên xxmaj đại sứ quán xxmaj việt xxmaj nam tại xxmaj anh . xxmaj sau khi hoàn tất nhiệm kỳ công tác , năm 1986 , ông được triệu hồi về nước và được phân công làm xxmaj chuyên viên của xxmaj vụ xxmaj vấn đề chung , xxmaj bộ xxmaj ngoại giao . xxmaj năm 1991 , ông được thăng làm xxmaj phó xxmaj vụ trưởng xxmaj vụ các xxmaj tổ chức xxmaj quốc tế , xxmaj bộ xxmaj ngoại giao . xxmaj cùng năm đó , cha ông nghỉ hưu . \n",
       " \n",
       "  xxmaj năm 1999 , ông được bổ nhiệm làm xxmaj đại sứ , xxmaj phó trưởng phái đoàn đại diện thường trực xxmaj việt xxmaj nam bên cạnh xxmaj liên hợp quốc . xxmaj từ năm 2001 đến tháng 1 năm 2003 , ông được bổ nhiệm làm xxmaj công sứ , xxmaj phó xxmaj đại sứ của xxmaj đại sứ quán xxmaj việt xxmaj nam tại xxmaj hoa xxmaj kỳ . \n",
       " \n",
       "  xxmaj tháng 3 năm 2003 , ông được triệu hồi về nước và được bổ nhiệm làm xxmaj quyền xxmaj vụ trưởng xxmaj vụ xxmaj các xxmaj tổ chức xxmaj quốc tế . xxmaj đến tháng 8 cùng năm , ông được bổ nhiệm chính thức làm xxmaj vụ trưởng . \n",
       " \n",
       "  xxmaj tháng 4 năm 2006 , tại xxmaj đại hội xxmaj đại biểu xxmaj đảng xxmaj cộng sản xxmaj việt xxmaj nam khóa x , ông được bầu làm xxmaj ủy viên dự khuyết xxmaj ban xxmaj chấp hành xxmaj trung ương xxmaj đảng xxmaj cộng sản xxmaj việt xxmaj nam khoá xxup x. xxmaj tháng 9 cùng năm , ông được bổ nhiệm làm xxmaj trợ lý xxmaj bộ trưởng xxmaj ngoại giao cho xxmaj phó xxmaj thủ tướng xxmaj phạm xxmaj gia xxmaj khiêm vừa được phê chuẩn kiêm nhiệm chức vụ xxmaj bộ trưởng xxmaj bộ xxmaj ngoại giao . \n",
       " \n",
       "  xxmaj tháng 8 năm 2007 , ông được bổ nhiệm làm xxmaj thứ trưởng xxmaj ngoại giao . xxmaj tháng 11 cùng năm ông được bổ nhiệm làm xxmaj thứ trưởng xxmaj thường trực . xxmaj tại xxmaj hội nghị xxmaj lần thứ 9 xxmaj ban chấp hành xxmaj trung ương khóa x , ông được chuyển từ xxmaj ủy viên dự khuyết thành xxmaj ủy viên chính thức xxmaj ban xxmaj chấp hành xxmaj trung ương xxmaj đảng xxmaj cộng sản xxmaj việt xxmaj nam khoá x từ ngày 13 tháng 1 năm 2009 . \n",
       " \n",
       "  xxmaj ngày 29 tháng 03 năm 2010 , ông được xxmaj thủ tướng xxmaj nguyễn xxmaj tấn xxmaj dũng bổ nhiệm kiêm chức xxmaj phó xxmaj chủ tịch xxmaj ủy ban xxmaj sông xxmaj mê xxmaj công xxmaj việt xxmaj nam . \n",
       " \n",
       "  xxmaj tháng 1 năm 2011 , tại xxmaj đại hội xxmaj đảng xxmaj cộng sản xxmaj việt xxmaj nam xxup xi , ông được bầu làm xxmaj ủy viên xxmaj ban xxmaj chấp hành xxmaj trung ương xxmaj đảng xxmaj cộng sản xxmaj việt xxmaj nam khoá xxup xi . \n",
       "  xxmaj ngày 22 tháng 5 năm 2011 , ông đã trúng cử đại biểu xxmaj quốc hội xxmaj việt xxmaj nam khóa 13 nhiệm kì 2011 - 2016 ở đơn vị bầu cử số 3 tỉnh xxmaj quảng xxmaj ninh , gồm huyện xxmaj vân xxmaj đồn , huyện xxmaj cô xxmaj tô , huyện xxmaj tiên xxmaj yên , huyện xxmaj đầm xxmaj hà , huyện xxmaj hải xxmaj hà , huyện xxmaj bình xxmaj liêu , huyện xxmaj ba xxmaj chẽ và thành phố xxmaj móng xxmaj cái . \n",
       " \n",
       "  xxmaj tháng 8 năm 2011 , tại xxmaj kỳ họp thứ nhất của xxmaj quốc hội xxmaj việt xxmaj nam khóa xxup xiii , ông đã được phê chuẩn làm xxmaj bộ trưởng xxmaj bộ xxmaj ngoại giao thay cho ông xxmaj phạm xxmaj gia xxmaj khiêm . \n",
       " \n",
       "  xxmaj ngày 13 tháng 11 năm 2013 , ông được xxmaj quốc hội xxmaj việt xxmaj nam khóa 13 phê chuẩn làm xxmaj phó thủ tướng xxmaj chính phủ kiêm nhiệm chức xxmaj bộ trưởng xxmaj bộ xxmaj ngoại giao . \n",
       " \n",
       "  xxmaj tháng 1 năm 2016 , tại xxmaj đại hội đại biểu toàn quốc lần thứ xxup xii , được bầu vào xxmaj ban xxmaj chấp hành xxmaj trung ương xxmaj đảng xxmaj cộng sản xxmaj việt xxmaj nam , được xxmaj trung ương bầu vào xxmaj bộ xxmaj chính trị . \n",
       "  xxmaj ngày 22 tháng 5 năm 2016 , ông trúng cử đại biểu xxmaj quốc hội xxmaj việt xxmaj nam khóa 14 nhiệm kì 2016 - 2021 ở đơn vị bầu cử số 3 tỉnh xxmaj thái xxmaj nguyên gồm thành phố xxmaj sông xxmaj công , thị xã xxmaj phổ xxmaj yên và huyện xxmaj phú xxmaj bình , được xxunk phiếu , đạt tỷ lệ xxunk % số phiếu hợp lệ . \n",
       "  xxmaj sáng ngày 28 tháng 7 năm 2016 , xxmaj quốc hội xxmaj việt xxmaj nam khóa 14 đã tiến hành phê chuẩn đề nghị của xxmaj thủ tướng xxmaj chính phủ xxmaj nguyễn xxmaj xuân xxmaj phúc về việc bổ nhiệm ông xxmaj phạm xxmaj bình xxmaj minh làm xxmaj phó xxmaj thủ tướng xxmaj chính phủ kiêm xxmaj bộ trưởng xxmaj bộ xxmaj ngoại giao xxmaj việt xxmaj nam nhiệm kỳ 2016 - 2021 bằng hình thức bỏ phiếu kín , kết quả ông xxmaj phạm xxmaj bình xxmaj minh được phê chuẩn với 483 / 488 phiếu ( xxunk % ) . \n",
       " \n",
       " \n",
       " \n",
       "  xxmaj cùng với cha con ông xxmaj đoàn xxmaj trọng xxmaj truyến - xxmaj đoàn xxmaj mạnh xxmaj giao , cha con ông xxmaj phạm xxmaj văn xxmaj cương - xxmaj phạm xxmaj bình xxmaj minh là những trường hợp hiếm hoi cha con nối nghiệp cùng làm người đứng đầu một xxmaj bộ tại xxmaj việt xxmaj nam kể từ sau năm 1945 . \n",
       " \n",
       "  xxmaj vợ ông là bà xxmaj nguyễn xxmaj nguyệt xxmaj xxunk xxmaj nguyên xxmaj vụ trưởng xxmaj vụ xxmaj hợp tác xxmaj kinh tế đa phương , xxmaj bộ xxmaj ngoại giao , từng công tác tại xxmaj đại sứ quán xxmaj việt xxmaj nam tại xxmaj hoa xxmaj kỳ . xxmaj hiện bà là xxmaj phó xxmaj chủ tịch xxmaj nhóm xxmaj tầm nhìn xxup apec , xxmaj phó xxmaj chủ tịch xxmaj uỷ ban xxmaj quốc gia xxmaj việt xxmaj nam về xxmaj hợp tác kinh tế xxmaj thái xxmaj bình xxmaj dương , xxmaj chủ tịch danh dự xxmaj nhóm xxmaj phụ nữ xxmaj cộng đồng xxup asean tại xxmaj hà xxmaj nọi . \n",
       " \n",
       "  xxmaj ông bà có với nhau 2 người con trai . xxmaj con trai cả xxmaj phạm xxmaj bình xxmaj anh sinh năm 1987 hiện đang công tác tại xxmaj vụ xxmaj các xxmaj tổ chức xxmaj quốc tế , xxmaj bộ xxmaj ngoại giao - xxmaj vụ mà trước đây ông xxmaj phạm xxmaj bình xxmaj minh đã công tác . xxmaj con trai ông kết hôn tháng 4 / 2016 , con dâu ông xxmaj trâm xxmaj anh cũng làm tại xxmaj vụ xxmaj các xxmaj tổ chức xxmaj quốc tế . xxmaj con trai thứ xxmaj phạm xxmaj bình xxmaj nam hiện đang học xxmaj đại học xxup rmit xxmaj việt xxmaj nam tại học sở xxmaj hà xxmaj nội . \n",
       " \n",
       " \n",
       " \n",
       "  < / doc > \n",
       " ,xxbos xxmaj minecraft \n",
       " \n",
       "  xxmaj minecraft là một trò chơi điện tử độc lập trong một thế giới mở . xxmaj ban đầu nó được tạo ra bởi lập trình viên người xxmaj thụy xxmaj điển xxmaj markus \" xxmaj notch \" xxmaj persson và sau đó được phát triển và phát hành bởi xxmaj mojang . xxmaj khả năng sáng tạo và xây dựng xxmaj minecraft cho phép người chơi xây dựng các công trình bằng cách xây các khối kết cấu trong một thế giới xxup 3d. xxmaj các hoạt động khác trong game bao gồm tìm kiếm , thu thập tài nguyên , chế tạo và chiến đấu . xxmaj có nhiều chế độ chơi có sẵn , gồm chế độ sinh tồn , khi mà người chơi phải tìm tài nguyên để xây dựng thế giới và duy trì sức khỏe , chế độ sáng tạo , nơi người chơi có tài nguyên không giới hạn để xây dựng và có khả năng bay , chế độ phiêu lưu , nơi người chơi chơi các bản đồ được người khác tạo ra và chế độ khán giả , nơi người chơi có thể bay qua khối , nhưng không thể tương tác với các khối . xxmaj phiên bản xxup pc của trò chơi còn nổi tiếng với các mod của bên thứ ba , cho phép có thêm nhiều công cụ mới , nhân vật và nhiệm vụ cho trò chơi . xxmaj phiên bản xxup pe cũng nổi không kém với tính di động cao cùng hàng loạt các xxmaj xxunk có thể đổi hình ảnh và chức năng của các con vật và dụng cụ . \n",
       " \n",
       "  xxmaj ngày 15 tháng 9 năm 2014 , xxmaj microsoft đã công bố một thỏa thuận mua xxmaj mojang và quyền sở hữu của \" xxmaj minecraft \" , quyền sở hữu trí tuệ với giá 2,5 tỷ đô la xxmaj mỹ ; việc mua lại đã được hoàn tất vào ngày 06 tháng 11 năm 2014 . \n",
       " \n",
       "  xxmaj hiện nay , xxmaj minecraft đã trở thành trò chơi bán chạy nhất mọi thời đại ( 176 triệu bản ) \n",
       " \n",
       "  \" xxmaj minecraft \" là một trò chơi thế giới mở mà không có mục tiêu cụ thể cho người chơi để thực hiện , cho phép người chơi có thể tự do lựa chọn chơi như thế nào . xxmaj tuy nhiên , có một hệ thống thành tích trong \" xxmaj minecraft \" . xxmaj chế độ chơi mặc định ở góc nhìn thứ nhất , nhưng người chơi có thể lựa chọn để chơi ở góc nhìn thứ ba , hoặc ở góc nhìn ngay trước mặt mình . xxmaj chế độ chơi chính xoay quanh phá và đặt các khối . xxmaj thế giới trong trò chơi được tạo ra cho người chơi chủ yếu là các khối lập phương xxup 3d nằm trong lưới và tượng trưng cho các vật liệu khác nhau , chẳng hạn như đất , đá , quặng khác nhau , nước , và gỗ . xxmaj trong khi người chơi có thể di chuyển tự do trên toàn thế giới , các khối chỉ có thể được đặt ở một vị trí cố định nào đó . xxmaj người chơi có thể thu thập các khối vật chất và đặt chúng ở những nơi khác để xây dựng công trình khác nhau . \n",
       " \n",
       "  xxmaj vào lúc bắt đầu trò chơi , người chơi được tạo trên bề mặt của một thế giới hoang sơ và hầu như vô hạn . xxmaj thế giới được chia thành nhiều quần xã sinh vật khác nhau ( tiếng anh : xxunk ) , từ sa mạc đến rừng cho đến vùng đất tuyết . xxmaj người chơi có thể đi trên các địa hình đồng bằng , núi , rừng , hang động , khe vực , đầm lầy và các vùng nước khác nhau . xxmaj thời gian trong trò chơi được hệ thống theo một chu kỳ ngày đêm , với một chu kỳ đầy đủ kéo dài 20 phút thời gian thực . xxmaj trong suốt quá trình chơi game , người chơi sẽ được gặp nhiều sinh vật được gọi là \" xxunk \" , bao gồm động vật , dân làng và các quái vật . xxmaj những động vật như bò , lợn , gà , cừu có thể được săn bắt để ăn và chế tạo vật liệu , được sinh ra vào ban ngày . xxmaj ngược lại , những quái vật như nhện , bộ xương , và thây ma được sinh ra vào ban đêm hoặc trong những nơi tối tăm , như hang động . xxmaj một số sinh vật trong xxmaj minecraft đặc biệt và nguy hiểm chỉ có ở đây như , xxmaj xxunk , một sinh vật nổ lén đằng sau người chơi , xxmaj xxunk có thể xuất hiện vào ban ngày và ban đêm ; xxunk , sinh vật chỉ xuất hiện ở đầm lầy , có khả năng tấn công nhanh và xxmaj xxunk , một sinh vật có khả năng dịch chuyển và nhặt khối tự do . \n",
       "  xxmaj thế giới trong trò chơi được tạo ra một cách ngẫu nhiên trong lúc người chơi khám phá nó , bằng cách sử dụng một tọa xxunk là seed , cùng nghĩa với từ hạt giống , chính điều này khiến nhiều người lầm tưởng chúng là hạt giống ) tạo ra từ hệ thống , trừ khi người chơi muốn tạo tọa độ theo ý mình . xxmaj mặc dù có những hạn chế về di chuyển lên và xuống , \" xxmaj minecraft \" cho phép tạo ra một thế giới vô cùng lớn hoàn toàn phẳng nằm ngang . xxmaj trò chơi đạt được điều này bằng cách chỉnh sửa dữ liệu trong thế giới đang chơi thành các phần nhỏ hơn gọi là \" khối \" , mà chỉ được tạo ra hoặc được nạp vào bộ nhớ khi người chơi đang chơi . \n",
       " \n",
       "  xxmaj hệ thống vật lý của trò chơi thường được mô tả bởi các nhà bình luận là không thực tế . xxmaj hầu hết các khối rắn không bị ảnh hưởng bởi lực hấp dẫn . xxmaj chất lỏng chảy ra từ một nguồn nằm trong một khối , trong đó có thể được dừng dòng chảy bằng cách đặt một khối vững chắc ở nguồn của nó , hoặc bằng cách múc nó bằng một cái xô . xxmaj các hệ thống phức tạp có thể được xây dựng bằng cách sử dụng các thiết bị cơ khí thô sơ , mạch điện bằng , và các cánh cổng tự động được xây dựng bởi một vật liệu trong trò chơi được gọi là xxmaj đá đỏ \" ( redstone ) \" . \n",
       " \n",
       "  \" xxmaj minecraft \" có hai thế giới khác ngoài thế giới chính được là xxmaj xxunk \" ( xxmaj địa xxmaj ngục ) \" và xxmaj the xxmaj end ( \" xxmaj kết thúc \" ) . xxmaj xxunk là một thế giới mới được đi tới bằng một cánh cổng được người chơi xây bằng hắc diện thạch và khởi động bằng dụng cụ đánh lửa , nơi này chứa nhiều tài nguyên độc đáo , quái vật lạ , lâu đài và dung nham . xxmaj xxunk cũng rộng lớn như thế giới thực . xxmaj the xxmaj end là một vùng đất cằn cỗi , trong đó có một con boss là con rồng được gọi là xxmaj rồng xxmaj xxunk trú ngự . xxmaj sau khi giết chết con rồng văn bản kết thúc các điều khoản của trò chơi được viết bởi xxmaj irish xxmaj julian xxmaj gough được hiện ra . xxmaj người chơi sau đó được cho phép dịch chuyển trở lại điểm ban đầu của họ trong thế giới bình thường , và sẽ nhận được thành tích \" xxmaj the xxmaj end \" . xxmaj ngoài ra còn có một boss thứ hai được gọi là \" xxmaj the xxmaj wither \" ( \" khô héo \" ) , mà khi đánh bại nó , rơi ra một vật phẩm là sao địa ngục mà khi dùng nó có thể chế tạo ra \" đèn hiệu \" . \n",
       " \n",
       "  xxmaj trò chơi chủ yếu bao gồm bốn chế độ chơi : chế độ sinh tồn , sáng tạo , phiêu lưu , và khán giả . xxmaj nó cũng có một hệ thống độ khó có thể thay đổi gồm bốn cấp độ , từ khó đến dễ và dễ nhất là \" bình yên \" , loại bỏ bất kỳ sinh vật thù địch nào được tạo ra và sinh lực tự tăng . \n",
       " \n",
       "  ( xxmaj lệnh chuyển sang chế độ sinh tồn : / xxunk survival - xxmaj hiện phiên bản mới nhất đã không còn hỗ trợ / xxunk 0 ) . xxmaj người chơi phải tìm kiếm tài nguyên thiên nhiên như gỗ , và đá để tạo các khối và vật phẩm khác . xxmaj tùy thuộc vào độ khó , quái vật sẽ được sinh ra vào nơi tối và người chơi phải tìm một nơi trú ẩn . xxmaj chế độ này cũng có thanh máu , có thể bị đói ( trong độ khó dễ , trung bình , khó ) và mất máu nếu bị quái vật tấn công , bị ngã vào \" dung nham \" , ngạt thở , chết đói hoặc bị rơi từ trên cao ... \n",
       " \n",
       "  xxmaj có rất nhiều mặt hàng mà người chơi xxmaj minecraft có thể tạo ra một cách thủ công như vũ khí , đồ mặc và các vật dụng . xxmaj các vũ khí như kiếm giúp họ đánh các quái vật , động vật dễ dàng . xxmaj một số công cụ như rìu , cuốc , cúp , xẻng làm cho việc đốn cây , tìm quặng , đào đất nhanh hơn . xxmaj người chơi tìm gặp các dân làng để trao đổi hàng hóa như lúa mì , cà xxunk dân ) ; than , xxunk làm xxunk thối , xxunk mục ) ; xxunk làm đồ xxunk qua ngọc lục xxunk ) . \n",
       " \n",
       "  xxmaj trong xxmaj minecraft , người chơi chỉ được mang đồ với số lượng hạn chế . xxmaj sau khi chết , đồ sẽ rơi ở nơi mà người chơi chết và họ sẽ quay về địa điểm lúc bắt đầu vào game hoặc nếu có giường thì họ sẽ hồi sinh tại chính cái giường ( với điều kiện là bạn không phá hủy và thay đổi vị trí của chiếc giường ) . xxmaj người chơi kiếm điểm kinh nghiệm bằng cách giết động vật hoặc đánh quái vật . xxmaj điểm kinh nghiệm càng cao , người chơi càng có thể tạo các vũ khí hoặc áo giáp mạnh hơn và có nhiều hiệu ứng đặc biệt . xxmaj mục tiêu cao nhất của chế độ chơi này là đánh thắng xxmaj xxunk xxmaj dragon ( rồng xxmaj xxunk ) rồi sau đó là xxmaj wither . xxmaj sau khi đánh xong rồng xxmaj xxunk bạn sẽ được tiếp tục chơi như bình thường . \n",
       " \n",
       "  ( xxmaj lệnh chuyển sang chế độ sáng tạo : / xxunk creative - xxmaj hiện phiên bản mới nhất đã không còn hỗ trợ / xxunk 1 ) . xxmaj trong chế độ sáng tạo , người chơi có nguồn năng lượng vô hạn , có tất cả các tài nguyên và dụng cụ trong trò chơi . xxmaj họ có thể đặt hoặc phá bỏ chúng ngay lập tức . xxmaj người chơi còn có khả năng bay lượn tự do trên khắp thế giới trong trò chơi , không bị tấn công hay chết vì các nguyên nhân khác ( chỉ có thể chết bởi lệnh \" / kill \" , rơi vào một nơi gọi là \" xxmaj the void \" , nằm dưới đá nền - \" xxmaj xxunk hoặc bị chém bởi sword of xxunk xxunk mod xxunk ) \" và không bị ảnh hưởng bởi cơn đói . xxmaj chế độ này chủ yếu để người chơi sáng tạo và làm nên các công trình lớn . \n",
       " \n",
       "  ( xxmaj lệnh chuyển sang chế độ khán giả : / xxunk spectator - xxmaj hiện phiên bản mới nhất đã không còn hỗ trợ / xxunk 3 ) . xxmaj chế độ này cho phép người chơi bay xuyên qua các khối và nhìn mọi vật trong trò chơi nhưng không thể tương tác với chúng . xxmaj họ cũng có thể xem từ điểm nhìn của một người chơi khác hoặc các sinh vật khác ( có thể gọi là nhập vào nhưng không di chuyển được ) . xxmaj một số thứ có thể trông khác nhau từ góc nhìn của sinh vật khác . \n",
       " \n",
       "  ( xxmaj lệnh chuyển sang chế độ phiêu lưu : / xxunk adventure - xxmaj hiện phiên bản mới nhất đã không còn hỗ trợ / xxunk 2 ) . xxmaj chế độ phiêu lưu đã được thêm vào xxmaj minecraft từ phiên bản 1.3 ; nó được tạo ra đặc biệt để người chơi có thể trải nghiệm sử dụng các bản đồ được tạo ra tùy chỉnh và đi phiêu lưu . xxmaj cách chơi tương tự như chế độ sinh tồn nhưng có hạn chế cho người chơi về các cách đặt , phá khối khác nhau , có thể được sử dụng cho một thế giới trong game bởi các tác giả của bản đồ . xxmaj điều này là để người chơi có thể chơi và cuộc phiêu lưu đúng như những người tạo ra bản đồ dự định . xxmaj một bổ sung được thiết kế cho việc tùy chỉnh các bản đồ là khối lệnh ; khối này cho phép tạo ra bản đồ và mở rộng sự tương tác với người chơi thông qua các lệnh máy chủ nào đó . \n",
       " \n",
       "  xxmaj chế độ siêu khó ( hardcore ) là chế độ thứ 4 , cho người chơi trải nghiệm như xxmaj survival ( sinh tồn ) , nhưng như ngoài đời thật , bạn chỉ có 1 mạng . xxmaj trong chế độ này thì thanh thức ăn hết nhanh hơn . xxmaj nếu chết thì xxmaj game xxmaj over , sẽ không thể lấy lại thế giới trước đó ( nói chung thế giới đó sẽ bị xóa vĩnh viễn ) , cách để tiếp tục chơi là tạo ra thế giới khác . xxmaj nhưng nhiệm vụ vẫn như cũ , đánh bại xxmaj boss xxmaj xxunk xxmaj dragon . xxmaj chế độ này cho ta trải nghiệm hồi hộp , sợ hãi vì bất cứ thứ gì cũng có thể giết bạn . xxmaj markus đã định bỏ chế độ này , nhưng đã từ chối vì sợ người chơi than phiền là muốn trải nghiệm như đời thật . \n",
       " \n",
       "  xxmaj chế độ này cho phép người chơi có thể kết nối với các máy chủ khác để cùng xây dựng các công trình trong một thế giới duy nhất . xxmaj nhưng bạn cần xxup ip ( xxmaj internet xxmaj protocol ) , tạo máy chủ riêng hoặc dùng mạng lan ảo xxmaj xxunk , hoặc có thể tạo máy chủ trên các trang web khác ( ví dụ : xxunk , xxunk hay xxunk ) chỉ cần sao chép liên kết và vào xxmaj chơi mạng và nhập địa chỉ máy chủ vào . ở phiên bản xxmaj xxunk xxmaj edition thì người chơi có thể sử dụng tài khoản xxmaj microsoft để đăng nhập xxmaj xbox . \n",
       " \n",
       "  xxmaj chế độ này cho phép người chơi không cần ăn trong xxmaj minecraft vì thanh thức ăn không giảm , ngoài ra chế độ này còn loại bỏ quái vật thù địch và cả xxmaj wither xxmaj boss . xxmaj không loại bỏ các xxunk thù địch như xxunk và xxmaj xxunk xxmaj dragon , nhưng chúng sẽ không tấn công được . \n",
       " \n",
       "  xxmaj phiên bản xxmaj minecraft : xxmaj java xxmaj edition / xxmaj computer xxmaj edition được thiết kế để dành cho các máy tính chạy hệ điều hành xxmaj windows , xxmaj mac , hay xxmaj linux . xxmaj phiên bản này cần \" xxmaj java \" để chạy game . \n",
       " \n",
       "  xxmaj là một phiên bản xxmaj minecraft được phát hành cho các nền tảng khác nhau , viết bằng ngôn ngữ xxup c++ , hỗ trợ chơi trực tuyến đa nền tảng ( cross - platform multiplayer ) . xxmaj người chơi có thể mua / tải về các xxup dlc qua xxmaj minecraft xxmaj marketplace . xxmaj minecraft : xxmaj xxunk xxmaj edition bao gồm các phiên bản sau : \n",
       " \n",
       "  xxmaj minecraft : xxmaj legacy xxmaj console xxmaj edition từng là một nhóm phiên bản xxmaj minecraft dành cho các hệ máy game console , từng được phát triển bởi xxmaj mojang và xxup xxunk xxmaj studios . xxmaj bản xxmaj digital - xxmaj marketplace lần đầu tiên được phát hành cho hệ máy xxmaj xbox 360 vào ngày 9 tháng 5 năm 2012 , và bản xxmaj retail - xxup dvd đã được phát hành 1 năm sau đó . xxmaj hiện tại , bản xxmaj legacy xxmaj console xxmaj edition đã bị ngưng phát triển , do số lượng người chơi hiện nay quá thấp . xxmaj tuy nhiên , những bản cập nhật vẫn được phát hành cho hệ máy playstation 4 , còn hệ máy xxmaj xbox xxmaj one và xxmaj nintendo xxmaj switch thì được nhận các bản cập nhật qua phiên bản xxmaj minecraft độc lập khác , xxmaj minecraft : xxmaj xxunk xxmaj edition . xxmaj minecraft : xxmaj legacy xxmaj console xxmaj edition bao gồm các phiên bản sau đây : \n",
       " \n",
       " \n",
       "  xxmaj đây là phiên bản xxmaj minecraft dành cho giáo dục dành cho giáo viên và học sinh . xxmaj nhiều nước đã áp dụng phiên bản này như một môn học bắt buộc ( xxmaj trong đó có cả xxmaj việt xxmaj nam nhưng chưa được phổ biến rộng rãi ) . ở phiên bản này , chế độ xxup pvp đã bị loại bỏ và thêm vào các items , block và mob mới và các tính năng liên quan đến lập trình , đặc biệt là áp dụng với môn xxmaj hoá học . \n",
       " \n",
       "  xxmaj đây là phiên bản xxmaj minecraft được xxmaj mojang phát triển dành riêng cho bo mạch nhúng xxmaj raspberry xxmaj pi dựa trên một phiên bản cực kì cũ của xxmaj minecraft : xxmaj pocket xxmaj edition . ở phiên bản này , người chơi có thể sửa đổi thế giới của mình thông qua các dòng lệnh , thậm chí là thay đổi mã nguồn của game . xxmaj phiên bản này được phát hành chính thức vào ngày 11 tháng 2 năm 2013 \n",
       " \n",
       "  xxmaj đây là phiên bản xxmaj minecraft dành riêng cho thị trường xxmaj trung xxmaj quốc , được phát hành bởi xxmaj mojang xxup ab , netease và xxmaj microsoft xxmaj studio , hiện đang ở giai đoạn xxmaj closed xxmaj beta \n",
       " \n",
       "  xxmaj hiện phiên bản mới nhất là xxunk \n",
       " \n",
       "  xxmaj đây là phiên bản xxmaj minecraft dành cho hệ máy xxmaj new xxmaj nintendo xxup 3ds , xxmaj new xxmaj nintendo xxup 3ds xxup xl và xxmaj new xxmaj nintendo xxup 2ds xxup xl , phiên bản này lần đầu tiên được phát hành trên xxmaj nintendo eshop ở khu vực xxmaj bắc xxmaj mĩ và xxmaj nhật xxmaj bản vào ngày 13 tháng 9 năm 2017 . xxmaj sau đó , phiên bản này đã được phát hành toàn cầu vào ngày 20 tháng 9 năm 2018 , chỉ một năm và bảy ngày từ ngày phát hành đầu tiên . \n",
       " \n",
       "  xxmaj mặc dù phiên bản gốc chỉ là một phiên bản khác của xxmaj minecraft : xxmaj pocket xxmaj edition xxmaj alpha xxunk , nó có thêm vài tính năng mới và những sửa đổi mới so với xxmaj pocket xxmaj edition , và được phát triển chỉ dành riêng cho hệ máy xxmaj new xxmaj nintendo xxup 3ds . xxmaj nó không có mối liên hệ nào với xxmaj minecraft : xxmaj legacy xxmaj console xxmaj edition và khá tương đương với xxmaj minecraft : xxmaj pocket xxmaj edition xxunk . \n",
       " \n",
       "  xxmaj phiên bản này đã bị ngưng phát triển với phiên bản mới nhất là xxunk vào ngày 15 tháng 1 năm 2019 . \n",
       " \n",
       "  xxmaj bản xxmaj minecraft này lần đầu được giới thiệu vào ngày 17 tháng 5 năm 2019 , nhân kỉ niệm 10 năm lập trình ra xxmaj minecraft . xxmaj dự kiến sẽ ra mắt bản chính thức vào cuối năm nay trên nền tảng xxmaj android và ios ( theo sự kiện xxmaj xxunk xxmaj live xxunk đã có 10 quốc gia có thể trải nghiệm , trong đó có 5 quốc gia mới được cấp quyền trải nghiệm . \n",
       " \n",
       "  xxmaj phiên bản xxmaj minecraft này được giới thiệu lần đầu vào tháng 10 năm xxunk xxmaj minecraft này sẽ được phát hành chính thức vào quý 2 năm 2020 trên nền tảng xxmaj xxunk xxmaj double xxmaj eleven đang làm việc cho minecraft xxunk để trò chơi được chuyển sang các hệ máy cầm tay . xxmaj hiện đã có thể trải nghiệm bản early . \n",
       " \n",
       "  xxmaj markus \" xxmaj notch \" xxmaj persson đã bắt đầu phát triển xxmaj minecraft như một dự án . xxmaj ông đã được truyền cảm hứng bởi một số trò chơi khác như xxmaj dwarf xxmaj fortress , xxmaj dungeon xxmaj keeper , và sau đó là xxmaj xxunk . xxmaj vào thời điểm đó , ông đã hình dung một trò chơi xây dựng xxup 3d. xxmaj xxunk ảnh hưởng nhiều đến phong cách của trò chơi , bao gồm cả các khía cạnh người chơi , các \" khối ô vuông \" và các nguyên tắc cơ bản để xây dựng . xxmaj tuy nhiên , không giống như xxmaj xxunk , xxmaj persson muốn xxmaj minecraft có yếu tố \" xxup rpg \" . \n",
       " \n",
       "  xxmaj minecraft lần đầu tiên được phát hành cho công chúng vào ngày 17 tháng 5 năm 2009 , như là một phiên bản phát triển trên diễn đàn \" xxunk \" , sau đó trở nên nổi tiếng như là phiên bản cổ điển . xxmaj bản cập nhật lớn đầu tiên , được gọi là phiên bản \" alpha \" , đã được phát hành vào ngày 28 tháng 6 năm 2010 . xxmaj persson duy trì công việc với xxmaj minecraft bằng toàn bộ thời gian sau khi phiên bản alpha của trò chơi phát triển . xxmaj persson tiếp tục cập nhật những phiên bản mới của trò chơi cho người dùng một cách tự động . xxmaj những bản cập nhật bao gồm các tính năng như các mặt hàng mới , khối mới , quái vật mới , chế độ , và thay đổi hành vi của trò chơi ( như cách hoạt động của nước ) . \n",
       " \n",
       "  xxmaj để phát triển của xxmaj minecraft , xxmaj persson lập một công ty trò chơi tên là xxmaj mojang . xxmaj vào ngày 11 tháng 12 năm 2010 , xxmaj persson thông báo rằng xxmaj minecraft đã bước vào giai đoạn thử nghiệm beta của nó ngày 20 tháng 12 năm 2010 . xxmaj trong quá trình phát triển , xxmaj mojang đã thuê một số nhân viên mới để làm việc trên dự án . \n",
       " \n",
       "  xxmaj âm nhạc và các hiệu ứng âm thanh trong xxmaj minecraft được sản xuất bởi nhà thiết kế âm thanh người xxmaj đức xxmaj daniel \" xxup xxunk \" xxmaj rosenfeld . xxmaj ngày 4 tháng 3 năm 2011 , xxmaj rosenfeld phát hành một album mang tên \" xxmaj minecraft – xxmaj volume xxmaj alpha \" ; nó bao gồm hầu hết các âm thanh đặc trưng trong xxmaj minecraft , cũng như nhạc âm khác không có trong game . xxmaj blog video game xxmaj kotaku đã chọn âm nhạc trong xxmaj minecraft là một trong những album nhạc game hay nhất của năm 2011 . xxmaj ngày 9 xxmaj tháng 11 năm 2013 , xxmaj rosenfeld đã phát hành album chính thức thứ hai , mang tên \" xxmaj minecraft - xxmaj volume xxmaj beta \" , trong đó bao gồm các bản nhạc được thêm vào trong phiên bản mới của trò chơi . \n",
       " \n",
       "  xxmaj mojang phát hành phiên bản đầy đủ của xxmaj minecraft vào ngày 18 tháng 11 năm 2011 . xxmaj trò chơi đã được cập nhật liên tục kể từ khi phát hành , với những thay đổi khác nhau , từ nội dung mới đến các host máy chủ mới . xxmaj vào ngày 28 tháng 2 năm 2012 , xxmaj mojang thông báo rằng họ đã thuê được nhà phát triển của nền tảng máy chủ phổ biến \" xxunk \" để hỗ trợ thay đổi máy chủ xxmaj minecraft . xxmaj mojang dường như nắm quyền sở hữu đầy đủ cho việc sửa đổi xxunk . xxmaj ngày 15 tháng 9 năm 2014 , xxmaj microsoft đã công bố một thỏa thuận mua xxmaj minecraft với giá 2,5 tỷ đô la xxmaj mỹ , cùng với quyền sở hữu trí tuệ về xxmaj minecraft . xxmaj thỏa thuận này đã được đề xuất bởi xxmaj persson khi anh đăng một tweet trên xxmaj twitter hỏi một công ty mua cổ phần của mình và hiện tất cả phiên bản nâng cấp của xxmaj minecraft đều thuộc xxmaj microsoft \n",
       " \n",
       "  \" xxmaj minecraft \" nhận được năm giải thưởng xxmaj game xxmaj developers xxmaj conference trong năm 2011 . xxmaj nhà phát triển game là xxmaj mojang nhận được giải thưởng xxmaj game xxmaj developers xxmaj choice xxmaj awards , trong hạng mục sáng tạo , giải thưởng xxmaj best xxmaj xxunk xxmaj game , và hơn hết là giải thưởng xxmaj debut game ; từ xxmaj independent xxmaj games xxmaj festival , game đã giành được giải thưởng xxmaj khán giả và các giải thưởng xxmaj xxunk mcnally . xxmaj trong năm 2012 , \" xxmaj minecraft \" đã được trao giải xxmaj golden xxmaj joystick ở hạng mục xxmaj best xxmaj xxunk xxmaj game . xxmaj tính đến tháng 6 năm 2016 , hơn 106 triệu bản đã được bán ra , với hơn 40 triệu người chơi xxmaj minecraft mỗi tháng trên tất cả các nền tảng khác nhau đã làm cho \" xxmaj minecraft \" trở thành game xxup pc bán chạy nhất cho đến nay . xxmaj minecraft đã vượt qua xxmaj tetris để trở thành trở thành trò chơi bán chạy nhất mọi thời đại với hơn 176 triệu bản . \n",
       " \n",
       "  xxmaj hiện ứng dụng đã có trên xxup ch xxmaj play dành cho xxmaj android và xxmaj app xxmaj store dành cho ios . \n",
       " \n",
       " \n",
       " \n",
       "  < / doc > \n",
       " ,xxbos xxmaj rắn cạp nong \n",
       " \n",
       "  xxmaj rắn cạp nong hay còn gọi rắn đen vàng , rắn ăn tàn , tu cáp đổng ( dân tộc xxmaj tày ) , ngù tắm tàn ( dân tộc xxmaj thái ) ( danh pháp hai phần : xxmaj xxunk xxunk ) là một loài rắn cạp nia sinh sống ở xxmaj ấn xxmaj độ , xxmaj bangladesh , xxmaj nam xxmaj trung xxmaj quốc và xxmaj đông xxmaj nam xxup á. xxmaj nó là loài dài nhất trong chi xxmaj cạp nia . \n",
       " \n",
       "  xxmaj loài rắn cạp nong này có mặt ở toàn bộ tiểu vùng xxmaj ấn xxmaj độ - xxmaj trung xxmaj quốc , bán đảo xxmaj malaysia và quần đảo và xxmaj nam xxmaj trung xxmaj quốc . \n",
       " \n",
       "  xxmaj nó đã được ghi lại từ xxmaj ấn xxmaj độ thông qua xxmaj maharashtra , xxmaj bihar , xxmaj jharkhand , xxmaj madhya xxmaj pradesh , xxmaj chhattisgarh và xxmaj andhra xxmaj pradesh , qua xxmaj myanma , xxmaj campuchia , xxmaj thái xxmaj lan , xxmaj lào , xxmaj việt xxmaj nam và xxmaj trung xxmaj quốc ( bao gồm cả xxmaj hồng xxmaj kông ) phía xxmaj nam đến xxmaj malaysia và các đảo chính của xxmaj xxunk xxmaj indonesia ( xxmaj java và xxmaj sumatra ) , cũng như xxmaj singapore . \n",
       " \n",
       "  xxmaj tại xxmaj ấn xxmaj độ , nó đã được ghi nhận từ xxmaj đông xxmaj bắc xxmaj ấn xxmaj độ , xxmaj tây xxmaj bengal , xxmaj orissa , parts of xxmaj maharashtra , xxmaj bihar , xxmaj jharkhand , xxmaj madhya xxmaj pradesh , xxmaj chhattisgarh và xxmaj andhra xxmaj pradesh . xxmaj nó đã được ghi nhận ở xxmaj bihar và xxmaj orissa và xa về phía nam và phía tây như xxmaj hyderabad và xxmaj xxunk và các thung lũng xxmaj awadh , xxmaj godavari và xxmaj xxunk . xxmaj tại xxmaj maharashtra nó được tìm thấy ở các quận xxmaj xxunk & xxmaj xxunk . \n",
       " \n",
       "  xxmaj rắn cạp nong sinh sống ở nhiều loại môi trường sống , từ núi đất , rừng thưa , trảng cỏ , ven khe suối , nương rẫy . xxmaj chúng sinh sống trong gò mối và hang của động vật gặm nhấm , trong hốc cây , hẻm đá . \n",
       " \n",
       "  xxmaj rắn cặp nong sống đơn lẻ , ban ngày chúng cuộn mình trong các hang , đám cỏ , và chúng thường chậm chạp . xxmaj chúng thường được thấy khi trời mưa . xxmaj ban đêm rắn hoạt động và đi kiếm ăn ở bờ ruộng gần rừng , ven khe suối , vũng nước . xxmaj cạp nong không săn đuổi mồi mà chúng thường nằm chờ cho con mồi đi qua . xxmaj chúng bơi giỏi và thường bò theo ánh lửa . \n",
       " \n",
       "  xxmaj thức ăn chủ yếu của rắn cạp nong là con rắn khác , nhưng chúng cũng ăn cá , ếch , trứng rắn . xxmaj trong số những loài rắn bị loài cạp nong ăn là : \" xxmaj xxunk xxunk \" , \" xxmaj xxunk xxunk \" , \" xxmaj xxunk xxunk \" , \" xxmaj xxunk xxunk \" , \" xxmaj xxunk xxunk \" . \n",
       " \n",
       "  xxmaj rắn cạp nong cái đẻ và canh giữ trứng trong khoảng tháng 4 đến tháng 5 hàng năm . \n",
       " \n",
       " \n",
       " \n",
       "  < / doc > \n",
       " ,xxbos xxmaj delta xxup ii \n",
       " \n",
       "  xxmaj delta xxup ii là một tên lửa vũ trụ ( hay hệ thống phóng vào vụ xxunk ) nguyên được thiết kế và đóng bởi công ty mcdonnell xxmaj douglas , sau đó được đóng bởi xxmaj integrated xxmaj defense xxmaj systems là một bộ phận của xxmaj boeing . xxmaj delta xxup ii là một phần của gia đình tên lửa xxmaj delta và đã được sử dụng từ năm 1989 . xxmaj delta xxup ii bao gồm cả tên lửa đã không còn sử dụng xxmaj delta 6000 , xxmaj delta 7000 đang dùng , và hai biến thể 7000 khác ( nhẹ và nặng ) . xxmaj chương trình xxmaj delta xxup ii trở thành trách nhiệm của xxmaj united xxmaj launch xxmaj alliance vào 1 tháng 12 năm 2006 . \n",
       " \n",
       "  xxmaj tất cả các thiết bị phóng chỉ sử dụng một lần được dự tính là dần dần sẽ bị thay thế bởi tàu con thoi , nhưng vào năm 1986 sau tai nạn tàu \" xxmaj challenger \" xxmaj delta lại được phát triển trở lại . xxmaj delta xxup ii , đặc biệt , được sử dụng để chứa các vệ tinh xxmaj khối xxup ii của hệ thống xxup gps . xxmaj các tên lửa xxmaj delta xxup ii đã phóng thành công 125 chương trình ( tính đến tháng 8 năm 2007 ) , bao gồm cả một số phi vụ của xxup nasa lên xxmaj sao xxmaj hỏa : \n",
       " \n",
       "  xxmaj delta là loại thiết bị phóng được sử dụng một lần ( xxunk launch xxunk xxup xxunk ) . xxmaj mỗi tên lửa phóng bao gồm : \n",
       " \n",
       " \n",
       "  xxmaj gia đình xxmaj delta xxup ii được đặt tên kỹ thuật bằng một hệ thống xxunk số : \n",
       " \n",
       " \n",
       "  xxmaj ví dụ , xxmaj delta xxunk có tầng thứ nhất thuộc đời sau , có 9 tên lửa đẩy xxup gem , và tầng thứ 3 . xxmaj delta xxunk là tên lửa hai tầng với 3 tên lửa đẩy . \n",
       " \n",
       " \n",
       "  xxmaj hệ thống phóng xxmaj delta xxup ii được lắp ghép theo chiều thẳng đứng trên bệ phóng . xxmaj tầng thứ i được đưa vào vị trí , các tên lửa đẩy sử dụng nhiên liệu rắn được ghép vào tầng thứ nhất . xxmaj sau đó tầng thứ hai được lắp bên trên tầng thứ xxup i. \n",
       " \n",
       "  xxmaj hệ thống xxmaj delta xxup ii đã được sử dụng cho hơn 300 vụ phóng với nhiều nhiệm vụ của xxmaj bộ xxmaj quốc phòng xxmaj mỹ và xxup nasa . \n",
       " \n",
       "  xxmaj the xxmaj xxunk - built second - stage engine has been chosen by xxup nasa to be used as the main propulsion engine for the xxmaj orion xxunk that will xxunk the xxmaj space xxmaj shuttle after 2010 . xxmaj the engine was chosen due to its xxunk xxunk along with a switch from the original liquid oxygen / liquid methane ( xxup lox / xxup xxunk ) application to xxunk fuel and xxunk similar to that in use on the xxmaj shuttle 's xxup oms and xxup rcs systems . \n",
       " \n",
       " \n",
       " \n",
       "  < / doc > \n",
       " ,xxbos xxmaj khủng hoảng chính trị \n",
       " \n",
       "  xxmaj khủng hoảng chính trị là sự bất ổn chính trị diễn ra trong một đất nước có nguyên nhân từ mâu thuẫn giữa các đảng phái chính trị , giữa các giai cấp , giữa các sắc tộc , giữa các tầng lớp xã hội , xoay quanh vấn đề giành chính quyền ; duy trì và sử dụng quyền lực nhà nước ; tham gia vào công việc của nhà nước hoặc xác định hình thức tổ chức , nhiệm vụ , nội dung hoạt động của nhà nước . xxmaj khủng hoảng chính trị có thể diễn ra dưới hình thức bạo động hay bất bạo động . \n",
       " \n",
       "  xxmaj bản chất cốt lõi của chính trị là có chính quyền bằng việc nắm quyền lực xxmaj nhà nước một cách chính danh : xxmaj hành động trên cơ sở đúng hiến pháp , được nhân dân bầu chọn chính thống , các quốc gia trên thế giới công nhận hợp pháp . xxmaj chỉ một trong ba điều trên vi phạm thì có thể một lực lượng được lên nắm chính quyền nhưng đều gây ra những bất ổn và mâu thuẫn nội tại trong ngoài triền miên , nên thực tế không có ích gì cho đất nước khi nó tiếp tục tồn tại ngoại trừ nó cố giữ quyền lực vì chính nó . xxmaj nhưng có chính quyền có được cả ba điều trên rồi , nhưng chính quyền vẫn có thể tự gây ra khủng hoảng chính trị . xxmaj thực tế lịch sử cho thấy : các khủng hoảng chính trị luôn xảy ra từ các vấn đề xấu trong nước bị tích tụ , cộng hưởng với các áp lực quốc tế , cùng với những sự tranh giành ảnh hưởng lợi ích của các nước lớn có những quan tâm về địa kinh tế chính trị của họ . \n",
       "  xxmaj khủng hoảng chính trị với khởi điểm là vấn đề tranh giành quyền lực hay mâu thuẫn giai cấp gắn liền với sự ra đời của nhà nước . xxmaj với ý nghĩa đó thì khi chưa có nhà nước hay trong xã hội cộng sản theo lý luận chủ nghĩa xxmaj marx sẽ không có chính trị hay chính trị trở nên thừa thãi đồng nghĩa với việc không tồn tại khủng hoảng chính trị . \n",
       "  xxmaj khủng hoảng chính trị cũng có thể bắt nguồn bằng sự can thiệp vào tình hình chính trị nội bộ của một nước vào một nước đối thủ với các biểu hiện can thiệp về quân sự , kinh tế , chính trị , nhân quyền hay bằng các chiến lược diễn biến hòa bình , bạo loạn lật đổ nhằm gây sự lệ thuộc hay xóa bỏ chế độ hiện thời ở một quốc gia nào đó . \n",
       "  xxmaj qua các cuộc khủng hoảng chính trị trên thế giới cho thấy có những bài học chung về nguyên nhân như sau : \n",
       " \n",
       "  xxmaj chính quyền đi ngược lại mong muốn về lợi ích của nhân dân và quay lưng với tiến trình văn minh thể chế , tự đóng lại những cơ hội của đất nước . \n",
       " \n",
       "  xxmaj khước từ sự dân chủ xã hội thực sự , đi đến tập trung quá mức quyền lực vào tay một hay một nhóm người dễ dẫn đến sự “ biến dị của độc tài ” . \n",
       " \n",
       "  xxmaj hệ thống chính quyền bị mất lòng tin do lãnh đạo nhà nước yếu kém , suy thoái bởi các nhóm lợi ích nhũng loạn và đục khoét tài sản quốc gia . \n",
       " \n",
       "  xxmaj dẹp biểu tình bằng những phương pháp vi hiến sai trái , sử dụng côn đồ , đặc biệt là dùng lực lượng vũ trang bắn vào nhân dân của mình . \n",
       " \n",
       "  xxmaj đối đầu và gây mâu thuẫn sâu sắc với các nước khác trên thế giới để sa vào những cuộc cấm vận kinh tế ngoại giao , không dễ tháo nút . \n",
       " \n",
       "  xxmaj các cuộc khủng hoảng chính trị với nguồn gốc nội tại của một quốc gia thì khủng hoảng chính trị có thể là nền tảng để giải quyết các mâu thuẫn giai cấp mà mục tiêu cao nhất là thủ tiêu bộ máy nhà nước cũ , thiết lập nền chuyên chính mới và sử dụng chuyên chính đó để xây dựng xã hội mới . xxmaj điều đó khiến cho kết quả cuối cùng là có thể lập nên được một thể chế tốt hơn hay là sự thống nhất chính trị . \n",
       " \n",
       "  xxmaj với các cuộc khủng hoảng chính trị khởi nguồn có dấu hiệu can thiệp từ bên ngoài thì mục tiêu thường là khiến đất nước thù địch diễn ra cảnh hỗn loạn , mất ổn định , làm đổ vỡ nền kinh tế , làm cho quốc gia thù địch đó luôn trong tình trạng bất ổn , hay phụ thuộc vào quốc gia can thiệp . \n",
       " \n",
       "  xxmaj kịch bản có thể có sau khủng hoảng chính trị : \n",
       " \n",
       "  - xxmaj những bất ổn mọi mặt về an ninh , kinh tế xã hội kéo dài … có thể lây truyền , kéo đất nước xuống sâu tăm tối , loạn lạc , đặc biệt khi trong lòng nó chưa sẵn có những lực lượng xã hội chính danh có tính tổ chức cao với cương lĩnh tiến bộ và đủ uy tín rộng rãi hòng có thể kịp thời đứng lên phất cờ góp phần quan trọng chấn chỉnh và xây dựng mới tốt hơn . \n",
       " \n",
       "  - xxmaj rơi vào ảnh hưởng có tính chi phối của một quốc gia nào đó mà trở thành : mặt trận , vùng đệm , quân cờ , lực lượng , thế trận . xxmaj do họ bị giật dây bởi sức mạnh quyền lực mềm , những cương tỏa về chính trị và kinh tế mang tính “ nô dịch ” của thời đại “ đế quốc mềm ” . xxmaj điều này sẽ khó gỡ và nguy hiểm hơn nhiều so với tình cảnh thuộc địa cổ điển . \n",
       " \n",
       "  - xxmaj một chính quyền mới rồi sẽ phải ra đời , với những sửa đổi hiến pháp , cải cách kinh tế xã hội toàn diện với những cam kết rõ ràng mạnh mẽ với nhân dân và quốc tế . xxmaj nhưng nói chung sẽ rất yếu đuối và tự phân thân khi phải nhận rất nhiều sự trợ giúp của nhiều nước khác … xxmaj những lĩnh vực kinh tế cốt lõi của đất nước sẽ tuột khỏi tay doanh nghiệp trong nước . \n",
       "  xxmaj nguồn gốc của cuộc khủng hoảng chính trị hiện nay ở xxmaj mỹ có từ ít nhất là 2 thập niên trước . \n",
       " \n",
       "  xxmaj sự phân cực chính trị bắt đầu mạnh lên đáng kể trong những năm đầu đến giữa những năm 1990 sau khi ứng viên đảng xxmaj dân chủ xxmaj bill xxmaj clinton đắc cử tổng thống . xxmaj đảng xxmaj cộng hòa nắm quyền kiểm soát cả hai viện xxmaj quốc hội vào năm 1994 lần đầu tiên trong 40 năm . xxmaj những bất đồng trong vấn đề chi tiêu và vai trò của chính phủ đã khiến chính phủ phải ngừng hoạt động 2 lần . \n",
       " \n",
       "  xxmaj cuộc bầu cử tổng thống gây tranh cãi gay gắt năm 2000 mà xxmaj george xxup w. xxmaj bush đắc cử cũng làm trầm trọng thêm chia rẽ phe phái chính trị . \n",
       " \n",
       "  xxmaj giáo sư xxmaj larry xxmaj xxunk thuộc xxmaj đại học xxmaj virginia cho biết sự phân hóa sâu sắc đảng phái chính trị bắt đầu từ nhiệm kỳ thứ hai của xxmaj tổng thống xxmaj bush . xxmaj ông nhận định : \" xxmaj chắc chắn sự phân hóa lần đầu tiên tăng lên dưới thời xxmaj tổng thống xxmaj bush vì cuộc chiến xxmaj iraq và cách thức ông ta xử lý trận bão xxmaj katrina . xxmaj sự phân hóa này tăng nhanh khi xxmaj tổng thống xxmaj obama đắc cử . \" \n",
       " \n",
       "  xxmaj sự chia rẽ đảng phái trở nên lớn hơn khi xxmaj tổng thống xxmaj barack xxmaj obama thúc đẩy xxmaj quốc hội thông qua luật cải tổ chăm sóc y tế mang tính bước ngoặt vào năm 2010 mà không có lá phiếu nào của phe xxmaj cộng hòa . xxmaj sự kiện này góp phần làm nổi lên những nhóm bảo thủ xxmaj tea xxmaj party khắp nước , một nhóm bỏ phiếu quan trọng trong nội bộ đảng xxmaj cộng hòa . xxmaj luật chăm sóc sức khỏe , còn được gọi là xxmaj obamacare , là trung tâm của vụ tranh cãi giữa xxmaj tòa xxmaj bạch xxmaj ốc và xxmaj quốc hội làm chính phủ ngưng hoạt động . xxmaj phe xxmaj cộng hòa đã nhiều lần nỗ lực hoặc rút ngân quỹ hoặc trì hoãn thực thi bộ luật này . xxmaj tổng thống xxmaj obama tin rằng bộ luật là thành tích nổi bật trong nhiệm kỳ tổng thống của ông . xxmaj với sự hỗ trợ của phe xxmaj dân chủ ở xxmaj quốc hội , ông chống lại bất cứ nỗ lực nào nhằm ngăn chặn hay trì hoãn luật đó . \n",
       " \n",
       "  xxmaj trung tâm của cuộc tranh cãi về xxmaj obamacare là những ý kiến đối chọi nhau về vai trò của chính phủ , theo chuyên gia xxmaj peter xxmaj brown của tổ chức thăm dò dư luận xxmaj xxunk . xxmaj ông phân tích : \" xxmaj phe xxmaj cộng hòa muốn chính phủ nhỏ hơn và chi tiêu ít hơn và do đó chống đối xxmaj obamacare . xxmaj phe xxmaj dân chủ nhìn chung có khuynh hướng ủng hộ chính phủ giải quyết vấn đề và họ thấy xxmaj obamacare là điều nên làm để cải thiện vấn đề chăm sóc y tế \" . xxmaj một nhóm những dân biểu xxmaj cộng hòa bảo thủ trong xxmaj hạ viện dẫn đầu nỗ lực chống đối luật chăm sóc y tế . xxmaj nhiều người trong số họ dựa vào sự ủng hộ mạnh mẽ của những người hay tổ chức hoạt động của phong trào xxmaj tea xxmaj party . \n",
       " \n",
       "  xxmaj bắt nguồn từ các cuộc biểu tình chống chính phủ từ ngày 15 tháng 2 năm 2011 . xxmaj bất ổn này lây lan từ các sự kiện ở các nước láng giềng xxmaj ai xxmaj cập và xxmaj tunisia , góp phần vào một loạt các cuộc biểu tình tại thế giới ả xxmaj rập . \n",
       " \n",
       "  xxmaj một số nhà ngoại giao xxmaj libya đã từ chức trước sức ép của các cuộc biểu tình trong khi những người khác đã xin tách khỏi xxmaj gaddafi và chính phủ của ông ta . xxmaj họ tuyên bố chế độ hiện hành của xxmaj gaddafi là \" bất hợp pháp \" và cáo buộc ông \" tội diệt chủng \" và \" tội ác chống nhân loại \" trong các cuộc tấn công của ông chống lại các phe phái khác và một bộ phận người dân xxmaj libya . xxmaj trong đó xxup nato là tổ chức giúp xxmaj hội đồng chuyển tiếp xxmaj libya lật đổ chính quyền ông xxmaj gaddafi và đã hoàn thành nhiệm vụ , thực hiện rút quân vào ngày 31 tháng 10 năm 2011 . \n",
       " \n",
       "  xxmaj gaddafi đã cáo buộc rằng phe nổi dậy bao gồm những kẻ đã bị ảnh hưởng bởi các chất ma túy gây hoang tưởng có trong sữa , cà phê , xxmaj xxunk , và rượu . xxmaj ông ta cũng cho rằng xxmaj bin xxmaj laden và xxmaj al - xxmaj qaeda đã phân phát các thứ ma túy gây hoang tưởng này . \n",
       " \n",
       "  xxmaj nhiều quốc gia đã lên án chính phủ của xxmaj gaddafi vì đã sử dụng bạo lực chống lại người biểu tình và giết chết hàng trăm người xxmaj libya . xxmaj hoa xxmaj kỳ đã áp đặt lệnh trừng phạt đối với xxmaj gaddafi . xxmaj hội đồng xxmaj bảo an xxmaj liên hợp quốc đã thông qua một nghị quyết phong tỏa tài sản của xxmaj gaddafi , con trai và con gái của ông , cùng 10 thành viên thân cận của ông ta . xxmaj nghị quyết cũng áp đặt lệnh cấm đi lại đối với những người này . \n",
       " \n",
       "  xxmaj tuy nhiên một số chính phủ cánh tả ở xxmaj mỹ xxmaj latinh lại thể hiện sự ủng hộ cho xxmaj gaddafi . xxmaj tổng thống xxmaj venezuela xxmaj hugo xxmaj chavez ủng hộ chính phủ xxmaj libya với lý do ông nghi ngờ các báo cáo của phương tiện truyền thông . xxmaj bộ trưởng ngoại giao xxmaj venezuela xxmaj nicolás xxmaj maduro tin rằng một số nước phương xxmaj tây đang âm mưu phá vỡ chính phủ xxmaj libya . xxmaj quan điểm này được lặp lại bởi tổng thống cánh tả xxmaj nicaragua xxmaj daniel xxmaj ortega và cựu lãnh đạo đảng xxmaj cộng sản xxmaj cuba xxmaj fidel xxmaj castro . xxmaj những chính phủ cánh tả này và những nhà lãnh đạo của họ ( như xxmaj ortega và xxmaj chavez ) đã bị phê phán do ủng hộ xxmaj gaddafi . \n",
       " \n",
       "  xxmaj năm 2004 , xxmaj thủ tướng xxmaj viktor xxmaj xxunk đắc cử xxmaj tổng thống qua một cuộc bầu cử được xem là có nhiều sắp xếp trước . xxmaj quần chúng quay sang ủng hộ ứng cử viên đối lập xxmaj viktor xxmaj yushchenko và cuộc cách mạng ôn hòa được gọi là xxmaj cách mạng màu xxmaj da xxmaj cam diễn ra , xxmaj yushchenko trở thành xxmaj tổng thống và bà xxmaj yulia xxmaj tymoshenko là xxmaj thủ tướng . xxmaj năm 2006 , xxmaj xxunk trở lại quyền lực ở vị trí xxmaj thủ tướng trong xxmaj liên xxmaj minh xxmaj đoàn xxmaj kết xxmaj quốc gia và đắc cử xxmaj tổng thống năm 2010 với 48 % phiếu cử tri . xxmaj đất nước này có hai vùng dân tộc khác nhau và xu hướng chính trị khác nhau . xxmaj vùng phía xxmaj tây , dân chúng nói tiếng xxmaj ukraine , xxmaj ba xxmaj lan , xxmaj đức trong khi vùng phía xxmaj đông và xxmaj đông xxmaj nam dân chúng nói tiếng xxmaj nga . xxmaj xxunk được sự ủng hộ mạnh mẽ của dân xxmaj ukraine nói tiếng xxmaj nga và có khuynh hướng thân thiện với xxmaj nga trong khi dân chúng vùng phía xxmaj tây thiên về phía xxmaj âu xxmaj châu . \n",
       " \n",
       "  xxmaj về tính hợp hiến của chính quyền , do sự phân hoá xxmaj đông - xxmaj tây rất rõ rệt nên không một thế hệ cầm quyền nào ở xxmaj ukraine nhận được sự ủng hộ tuyệt đối của người dân . xxmaj việc người của khu vực nào lên lãnh đạo đất nước phụ thuộc vào sự thắng thế của khu vực đó chứ không phải sự lựa chọn của toàn dân . \n",
       "  xxmaj nói cách khác , không một đường lối đối lãnh đạo nào đáp ứng được cùng lúc nguyện vọng của người dân ở cả hai miền . xxmaj do vậy cho dù xxmaj tổng thống xxmaj xxunk xxmaj xxunk quyết định dừng hội nhập với xxup eu hay tham gia xxmaj liên minh hải quan với xxmaj nga , xxmaj belarus và xxmaj kazakhstan đều dẫn đến một kịch bản như hiện nay . \n",
       " \n",
       "  xxmaj sự can thiệp từ bên ngoài , có thể nói phương tây đã rất khôn ngoan trong việc đưa xxmaj tổng thống xxmaj xxunk vào cái bẫy hiện nay . xxup eu ra sức mời gọi xxmaj ukraine tham gia hội nhập châu xxmaj âu nhằm tạo ra tâm lý kỳ vọng , thậm chí là huyễn hoặc trong người dân các tỉnh phía xxmaj tây , nhất là giới trẻ xxmaj ukraine về một cuộc sống châu xxmaj âu văn minh và phồn thịnh song lại đưa ra những ràng buộc rất bất lợi , trong đó có những hậu quả kinh tế nhãn tiền và việc phóng thích bà cựu xxmaj thủ tướng xxmaj yulia xxmaj timoshenko , khiến ông xxmaj xxunk không thể đặt bút ký . \n",
       " \n",
       "  xxmaj vì vậy , quyết định dừng hội nhập của ông xxmaj xxunk ở hội nghị thượng đỉnh xxmaj vilnius vừa qua chỉ có thể được xem là thất bại chiến thuật của xxup eu trước xxmaj nga ở “ hiệp một ” song lại mở ra khả năng giành chiến thắng chiến lược của xxup eu ở “ hiệp hai ” này . xxmaj kết cục của trận đấu như thế nào phụ thuộc vào các bước đi sắp tới của xxmaj nga và xxup eu . xxmaj tuy nhiên cho đến lúc này người ta mới chỉ thấy sự can thiệp lộ liễu của phương xxmaj tây mà chưa được chứng kiến những “ đòn ” đáp trả từ xxmaj điện xxmaj kremlin . xxmaj có thông tin cho rằng sau khi tổ chức xong xxmaj thế vận hội thể thao mùa xxmaj đông tại xxmaj sochi , xxmaj nga sẽ quyết liệt vào cuộc . \n",
       " \n",
       "  ở một phương diện khác , một số nhà phân tích lại cho rằng xxmaj nga đã có sự can thiệp song tế nhị và kín đáo hơn so với phương xxmaj tây . xxmaj việc xxmaj nga cho xxmaj ukraine vay 15 tỷ xxup usd tín dụng , chấp nhận bán khí đốt với giá ưu đãi và đề nghị thành lập một số dự án liên doanh trong lĩnh vực vận chuyển khí đốt , chế tạo máy bay , luyện kim , năng lượng hạt nhân … chính là một cách can thiệp để giữ xxmaj ukraine không ngả về châu xxmaj âu . \n",
       " \n",
       "  xxmaj về mặt chiến lược có thể coi đây là cái “ bẫy ” của xxmaj điện xxmaj kremlin , bởi khi tham gia các dự án này với xxmaj nga thì xxmaj ukraine mặc nhiên vi phạm các điều kiện tiên quyết mà xxup eu đưa ra . \n",
       " \n",
       " \n",
       "  < / doc > \n",
       " \n",
       "y: LMLabelList\n",
       ",,,,\n",
       "Path: /home/projectx/Documents/Non-English sentiment analysis/viwiki/docs;\n",
       "\n",
       "Test: None>"
      ]
     },
     "execution_count": 16,
     "metadata": {},
     "output_type": "execute_result"
    }
   ],
   "source": [
    "data.show_batch"
   ]
  },
  {
   "cell_type": "code",
   "execution_count": 17,
   "metadata": {},
   "outputs": [],
   "source": [
    "data.save(f'{lang}_databunch_bwd')"
   ]
  },
  {
   "cell_type": "code",
   "execution_count": 8,
   "metadata": {},
   "outputs": [
    {
     "data": {
      "text/plain": [
       "PosixPath('/home/projectx/Documents/Non-English sentiment analysis/viwiki/docs')"
      ]
     },
     "execution_count": 8,
     "metadata": {},
     "output_type": "execute_result"
    }
   ],
   "source": [
    "data.path"
   ]
  },
  {
   "cell_type": "code",
   "execution_count": 7,
   "metadata": {},
   "outputs": [],
   "source": [
    "data = load_data(dest, f'{lang}_databunch_bwd', bs=bs, backwards=True)"
   ]
  },
  {
   "cell_type": "code",
   "execution_count": 14,
   "metadata": {},
   "outputs": [],
   "source": [
    "learn = language_model_learner(data, AWD_LSTM, drop_mult=1., pretrained=False)"
   ]
  },
  {
   "cell_type": "code",
   "execution_count": 15,
   "metadata": {},
   "outputs": [
    {
     "data": {
      "text/html": [],
      "text/plain": [
       "<IPython.core.display.HTML object>"
      ]
     },
     "metadata": {},
     "output_type": "display_data"
    },
    {
     "name": "stdout",
     "output_type": "stream",
     "text": [
      "LR Finder is complete, type {learner_name}.recorder.plot() to see the graph.\n"
     ]
    },
    {
     "data": {
      "image/png": "[encoded data removed]",
      "text/plain": [
       "<Figure size 432x288 with 1 Axes>"
      ]
     },
     "metadata": {
      "needs_background": "light"
     },
     "output_type": "display_data"
    }
   ],
   "source": [
    "learn.unfreeze()\n",
    "learn.lr_find()\n",
    "learn.recorder.plot()"
   ]
  },
  {
   "cell_type": "code",
   "execution_count": null,
   "metadata": {},
   "outputs": [
    {
     "data": {
      "text/html": [
       "\n",
       "    <div>\n",
       "        <style>\n",
       "            /* Turns off some styling */\n",
       "            progress {\n",
       "                /* gets rid of default border in Firefox and Opera. */\n",
       "                border: none;\n",
       "                /* Needs to be in here for Safari polyfill so background images work as expected. */\n",
       "                background-size: auto;\n",
       "            }\n",
       "            .progress-bar-interrupted, .progress-bar-interrupted::-webkit-progress-bar {\n",
       "                background: #F44336;\n",
       "            }\n",
       "        </style>\n",
       "      <progress value='1' class='' max='10', style='width:300px; height:20px; vertical-align: middle;'></progress>\n",
       "      10.00% [1/10 1:44:01<15:36:09]\n",
       "    </div>\n",
       "    \n",
       "<table border=\"1\" class=\"dataframe\">\n",
       "  <thead>\n",
       "    <tr style=\"text-align: left;\">\n",
       "      <th>epoch</th>\n",
       "      <th>train_loss</th>\n",
       "      <th>valid_loss</th>\n",
       "      <th>accuracy</th>\n",
       "      <th>time</th>\n",
       "    </tr>\n",
       "  </thead>\n",
       "  <tbody>\n",
       "    <tr>\n",
       "      <td>0</td>\n",
       "      <td>3.912467</td>\n",
       "      <td>3.755198</td>\n",
       "      <td>0.374601</td>\n",
       "      <td>1:44:01</td>\n",
       "    </tr>\n",
       "  </tbody>\n",
       "</table><p>\n",
       "\n",
       "    <div>\n",
       "        <style>\n",
       "            /* Turns off some styling */\n",
       "            progress {\n",
       "                /* gets rid of default border in Firefox and Opera. */\n",
       "                border: none;\n",
       "                /* Needs to be in here for Safari polyfill so background images work as expected. */\n",
       "                background-size: auto;\n",
       "            }\n",
       "            .progress-bar-interrupted, .progress-bar-interrupted::-webkit-progress-bar {\n",
       "                background: #F44336;\n",
       "            }\n",
       "        </style>\n",
       "      <progress value='13562' class='' max='34414', style='width:300px; height:20px; vertical-align: middle;'></progress>\n",
       "      39.41% [13562/34414 39:22<1:00:33 3.6611]\n",
       "    </div>\n",
       "    "
      ],
      "text/plain": [
       "<IPython.core.display.HTML object>"
      ]
     },
     "metadata": {},
     "output_type": "display_data"
    }
   ],
   "source": [
    "lr= 1e-3\n",
    "learn.fit_one_cycle(10, lr, moms=(0.8,0.7))"
   ]
  },
  {
   "cell_type": "code",
   "execution_count": null,
   "metadata": {},
   "outputs": [],
   "source": [
    "mdl_path = path/'models'\n",
    "mdl_path.mkdir(exist_ok=True)\n",
    "learn.to_fp32().save(mdl_path/lm_fns[0], with_opt=False)\n",
    "learn.data.vocab.save(mdl_path/(lm_fns[1] + '.pkl'))"
   ]
  }
 ],
 "metadata": {
  "kernelspec": {
   "display_name": "Python 3",
   "language": "python",
   "name": "python3"
  },
  "language_info": {
   "codemirror_mode": {
    "name": "ipython",
    "version": 3
   },
   "file_extension": ".py",
   "mimetype": "text/x-python",
   "name": "python",
   "nbconvert_exporter": "python",
   "pygments_lexer": "ipython3",
   "version": "3.6.8"
  }
 },
 "nbformat": 4,
 "nbformat_minor": 2
}
