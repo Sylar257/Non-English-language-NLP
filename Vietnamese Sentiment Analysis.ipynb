{
 "cells": [
  {
   "cell_type": "markdown",
   "metadata": {},
   "source": [
    "# Vietnamese Sentiment Analysis\n",
    "In this series, we will be laveraging deep learning base NLP methodologies on **Non-English language**.<br>\n",
    "The interesting thing about this project is that we gets to deploy what we know as efficient models as well as DL techniques on another language, check out the efficacy of the vanilla version and then make costomizations based on the idiosyncrasy of the language of choice.<br>\n",
    "We will be first looking at Vietnamese. The reason is because there are large amounts of Vietnamese article available on wikipedia that we can use for training our **language model** before actually building a classifier for *sentiment analysis*. Secondly, there is a [Vietnamese sentiment analysis competetion](https://www.aivivn.com/contests/1) available online so that we have a benchmark performance from the top competitors."
   ]
  },
  {
   "cell_type": "markdown",
   "metadata": {},
   "source": [
    "## Import relavant libraries and setup directories"
   ]
  },
  {
   "cell_type": "code",
   "execution_count": 1,
   "metadata": {},
   "outputs": [],
   "source": [
    "from fastai import *\n",
    "from fastai.text import *\n",
    "%matplotlib inline\n",
    "import os\n",
    "from pathlib import Path"
   ]
  },
  {
   "cell_type": "code",
   "execution_count": 2,
   "metadata": {},
   "outputs": [
    {
     "data": {
      "text/plain": [
       "PosixPath('/home/projectx/.fastai/data')"
      ]
     },
     "execution_count": 2,
     "metadata": {},
     "output_type": "execute_result"
    }
   ],
   "source": [
    "Config.data_path()"
   ]
  },
  {
   "cell_type": "code",
   "execution_count": 3,
   "metadata": {},
   "outputs": [
    {
     "data": {
      "text/plain": [
       "PosixPath('/home/projectx/Documents/Non-English sentiment analysis')"
      ]
     },
     "execution_count": 3,
     "metadata": {},
     "output_type": "execute_result"
    }
   ],
   "source": [
    "data_path = Path(os.getcwd())\n",
    "data_path"
   ]
  },
  {
   "cell_type": "code",
   "execution_count": 4,
   "metadata": {},
   "outputs": [],
   "source": [
    "lang = 'vi'\n",
    "name = f'{lang}wiki'\n",
    "path = data_path/name\n",
    "path.mkdir(exist_ok=True, parents=True)\n",
    "lm_fns = [f'{lang}_wt',f'{lang}_wt_vocab']"
   ]
  },
  {
   "cell_type": "markdown",
   "metadata": {},
   "source": [
    "## Create language_model trained on Vietnamese wikipedia"
   ]
  },
  {
   "cell_type": "markdown",
   "metadata": {},
   "source": [
    "### Download data\n",
    "Every language on wikipedia has its language representation, e.g English is 'eg'; Chinese is 'zh'; Vietnamese is 'vi'"
   ]
  },
  {
   "cell_type": "code",
   "execution_count": 5,
   "metadata": {},
   "outputs": [],
   "source": [
    "# import two handy functions a help us download large corpus of datafrom wikipedia and split it later\n",
    "from nlputils import split_wiki, get_wiki"
   ]
  },
  {
   "cell_type": "code",
   "execution_count": 13,
   "metadata": {},
   "outputs": [
    {
     "name": "stdout",
     "output_type": "stream",
     "text": [
      "unzipping...\n",
      "extracting...\n"
     ]
    }
   ],
   "source": [
    "# download our data into the path specified above\n",
    "# inside `get_wiki` function we will download the data, unzip it, and keep the corpus that have minimum length of 1800\n",
    "get_wiki(path, lang)"
   ]
  },
  {
   "cell_type": "code",
   "execution_count": 14,
   "metadata": {},
   "outputs": [
    {
     "data": {
      "text/plain": [
       "[PosixPath('/home/projectx/Documents/Non-English sentiment analysis/viwiki/viwiki-latest-pages-articles.xml.bz2'),\n",
       " PosixPath('/home/projectx/Documents/Non-English sentiment analysis/viwiki/wikiextractor'),\n",
       " PosixPath('/home/projectx/Documents/Non-English sentiment analysis/viwiki/viwiki'),\n",
       " PosixPath('/home/projectx/Documents/Non-English sentiment analysis/viwiki/log'),\n",
       " PosixPath('/home/projectx/Documents/Non-English sentiment analysis/viwiki/viwiki-latest-pages-articles.xml')]"
      ]
     },
     "execution_count": 14,
     "metadata": {},
     "output_type": "execute_result"
    }
   ],
   "source": [
    "path.ls()"
   ]
  },
  {
   "cell_type": "code",
   "execution_count": 19,
   "metadata": {},
   "outputs": [
    {
     "name": "stdout",
     "output_type": "stream",
     "text": [
      "0\n",
      "100000\n",
      "200000\n",
      "300000\n",
      "400000\n",
      "500000\n",
      "600000\n",
      "700000\n",
      "800000\n",
      "900000\n",
      "1000000\n",
      "1100000\n",
      "1200000\n",
      "1300000\n",
      "1400000\n",
      "1500000\n",
      "1600000\n",
      "1700000\n",
      "1800000\n",
      "1900000\n",
      "2000000\n",
      "2100000\n",
      "2200000\n",
      "2300000\n",
      "2400000\n",
      "2500000\n",
      "2600000\n"
     ]
    }
   ],
   "source": [
    "# This function splits the single wikipedia file into a separate file per article.\n",
    "dest = split_wiki(path, lang)"
   ]
  },
  {
   "cell_type": "code",
   "execution_count": 20,
   "metadata": {},
   "outputs": [
    {
     "data": {
      "text/plain": [
       "[PosixPath('/home/projectx/Documents/Non-English sentiment analysis/viwiki/docs'),\n",
       " PosixPath('/home/projectx/Documents/Non-English sentiment analysis/viwiki/viwiki-latest-pages-articles.xml.bz2'),\n",
       " PosixPath('/home/projectx/Documents/Non-English sentiment analysis/viwiki/wikiextractor'),\n",
       " PosixPath('/home/projectx/Documents/Non-English sentiment analysis/viwiki/viwiki'),\n",
       " PosixPath('/home/projectx/Documents/Non-English sentiment analysis/viwiki/log'),\n",
       " PosixPath('/home/projectx/Documents/Non-English sentiment analysis/viwiki/viwiki-latest-pages-articles.xml')]"
      ]
     },
     "execution_count": 20,
     "metadata": {},
     "output_type": "execute_result"
    }
   ],
   "source": [
    "# our splitted articales are stored in the /docs directory\n",
    "path.ls()"
   ]
  },
  {
   "cell_type": "code",
   "execution_count": 21,
   "metadata": {},
   "outputs": [
    {
     "data": {
      "text/plain": [
       "[PosixPath('/home/projectx/Documents/Non-English sentiment analysis/viwiki/docs/Thuyết hỗ sinh.txt'),\n",
       " PosixPath('/home/projectx/Documents/Non-English sentiment analysis/viwiki/docs/Mercedes AMG.txt'),\n",
       " PosixPath('/home/projectx/Documents/Non-English sentiment analysis/viwiki/docs/Daniel Padilla.txt'),\n",
       " PosixPath('/home/projectx/Documents/Non-English sentiment analysis/viwiki/docs/Doraemon: Nobita và binh đoàn người sắt.txt'),\n",
       " PosixPath('/home/projectx/Documents/Non-English sentiment analysis/viwiki/docs/Mikhail Yuryevich Lermontov.txt')]"
      ]
     },
     "execution_count": 21,
     "metadata": {},
     "output_type": "execute_result"
    }
   ],
   "source": [
    "dest.ls()[:5]"
   ]
  },
  {
   "cell_type": "code",
   "execution_count": null,
   "metadata": {},
   "outputs": [],
   "source": [
    "# Use this to convert Chinese traditional to simplified characters\n",
    "# ls *.txt | parallel -I% opencc -i % -o ../zhsdocs/% -c t2s.json"
   ]
  },
  {
   "cell_type": "markdown",
   "metadata": {},
   "source": [
    "### Create databunch for language model"
   ]
  },
  {
   "cell_type": "code",
   "execution_count": 30,
   "metadata": {},
   "outputs": [],
   "source": [
    "bs=32\n",
    "data = (TextList.from_folder(dest)\n",
    "            .split_by_rand_pct(0.1, seed=63)\n",
    "            .label_for_lm()           \n",
    "            .databunch(bs=bs))"
   ]
  },
  {
   "cell_type": "code",
   "execution_count": 31,
   "metadata": {},
   "outputs": [],
   "source": [
    "data.save(f'{lang}_databunch')"
   ]
  },
  {
   "cell_type": "code",
   "execution_count": 32,
   "metadata": {},
   "outputs": [
    {
     "data": {
      "text/plain": [
       "(60000, 66149)"
      ]
     },
     "execution_count": 32,
     "metadata": {},
     "output_type": "execute_result"
    }
   ],
   "source": [
    "len(data.vocab.itos), len(data.train_ds)"
   ]
  },
  {
   "cell_type": "code",
   "execution_count": 14,
   "metadata": {},
   "outputs": [
    {
     "data": {
      "text/plain": [
       "PosixPath('/home/projectx/Documents/Non-English sentiment analysis/viwiki')"
      ]
     },
     "execution_count": 14,
     "metadata": {},
     "output_type": "execute_result"
    }
   ],
   "source": [
    "bs=48\n",
    "data = load_data(path/'docs', f'{lang}_databunch', bs=bs)\n",
    "path"
   ]
  },
  {
   "cell_type": "code",
   "execution_count": 15,
   "metadata": {},
   "outputs": [
    {
     "data": {
      "text/plain": [
       "<bound method DataBunch.show_batch of TextLMDataBunch;\n",
       "\n",
       "Train: LabelList (66149 items)\n",
       "x: LMTextList\n",
       "xxbos xxmaj thuyết hỗ sinh \n",
       " \n",
       "  xxmaj thuyết hỗ sinh hay thuyết tương sinh ( \" xxmaj xxunk \" ) là lý thuyết sinh học mô tả sự tương tác sinh thái giữa hai hoặc nhiều loài trong đó mỗi loài đều được hưởng lợi từ việc này . xxmaj thuyết hỗ sinh được cho là loại tương tác sinh thái phổ biến nhất và nó thường chiếm ưu thế trong hầu hết các cộng đồng trên toàn thế giới . xxmaj thuyết hỗ sinh có thể tương phản với cạnh tranh giữa các quan thể , giống loài , trong đó mỗi loài có kinh nghiệm trong việc tiến kiệm sức lực , năng lượng , và cùng khai thác tài nguyên , hoặc ký sinh trùng , trong đó một loài được hưởng lợi từ \" \" công sức \" \" của loài kia . \n",
       "  xxmaj thuật ngữ tương sinh đã được xxmaj pierre - xxmaj joseph van xxmaj xxunk giới thiệu trong cuốn sách năm 1876 của ông xxmaj ký sinh trùng và động vật . xxmaj thuyết tương sinh thường bị bó hẹp với hai loại hiện tượng sinh thái khác : hợp tác và cộng sinh . xxmaj hợp tác đề cập đến sự gia tăng sức lực thông qua các tương tác bên trong loài ( xxunk ) . xxmaj sự cộng sinh liên quan đến hai loài sống gần nhau và có thể là tương sinh , ký sinh hoặc giao hợp , vì vậy mối quan hệ cộng sinh không phải lúc nào cũng là sụ tương hỗ . xxmaj các ví dụ nổi bật bao gồm hầu hết các thực vật có mạch tương tác với xxunk , còn thực vật có hoa được thụ phấn bởi động vật , thực vật có mạch được phân tán bởi động vật và san hô với xxunk . \n",
       " \n",
       "  xxmaj thuyết tương sinh đóng một phần quan trọng trong sinh thái học . xxmaj ví dụ , các tương tác lẫn nhau rất quan trọng đối với chức năng hệ sinh thái trên cạn vì hơn 48 % thực vật trên đất liền dựa vào mối quan hệ của nấm với nấm để cung cấp cho chúng các hợp chất vô cơ và các nguyên tố vi lượng . xxmaj một ví dụ khác , ước tính cây rừng nhiệt đới có sự tương tác phân tán hạt giống với động vật dao động từ xxunk % . xxmaj ngoài ra , sự tương hỗ được cho là đã thúc đẩy sự tiến hóa của phần lớn sự đa dạng sinh học , chẳng hạn như các dạng hoa ( quan trọng đối với sự tương tác thụ phấn ) và đồng tiến hóa giữa các nhóm loài . xxmaj tuy nhiên , chủ nghĩa tương hỗ trong lịch sử đã nhận được ít sự chú ý hơn so với các tương tác khác như ăn thịt và ký sinh trùng . \n",
       " \n",
       "  xxmaj sự đong đếm lợi ích về sức lực chính xác cho các cá thể trong mối quan hệ tương hỗ không phải lúc nào cũng đơn giản , đặc biệt khi các cá thể có thể nhận được lợi ích từ nhiều loài , ví dụ như hầu hết các loài tương tác thụ phấn - thực vật . xxmaj do đó , thông thường để phân loại các tương tác theo sự gần gũi của sự cộng tác này , sử dụng các thuật ngữ như nghĩa vụ và khoa học . xxmaj xác định \" sự gần gũi \" , tuy nhiên , cũng có vấn đề . xxmaj nó có thể đề cập đến sự phụ thuộc lẫn nhau ( loài này không thể sống mà không có nhau ) hoặc sự thân mật sinh học của mối quan hệ liên quan đến sự gần gũi về thể xác ( ví dụ : một loài sống trong các mô của loài khác ) . \n",
       " \n",
       "  xxmaj mối quan hệ tương hỗ có thể được coi là một dạng \" trao đổi sinh học \" trong mối liên hệ bệnh nấm giữa rễ cây và nấm , với việc cây cung cấp carbohydrate cho nấm để đổi lấy chủ yếu là hợp chất phốt phát mà còn là nitơ . xxmaj các ví dụ khác bao gồm vi khuẩn xxunk cố định nitơ cho cây họ đậu ( họ xxmaj fabaceae ) để đổi lấy carbohydrate chứa năng lượng . xxmaj mối quan hệ tài nguyên dịch vụ tức là phục vụ để đổi lấy và hưởng lợi là phổ biến . xxmaj ba loại quan trọng là thụ phấn , làm sạch cộng sinh và đeo đám đi nhờ . xxmaj trong việc thụ phấn , một tác nhân thụ phấn sử dụng các nguồn thực phẩm dưới dạng mật hoa hoặc phấn hoa để phục vụ phân tán phấn hoa . xxmaj xxunk là sự phân tán hạt giống của động vật . xxmaj điều này tương tự như thụ phấn ở chỗ cây tạo ra nguồn thức ăn ( ví dụ , quả thịt , thừa hạt ) cho động vật phát tán hạt . xxmaj một loại khác là kiến bảo vệ rệp , trong đó rệp sẽ tiết ra mật ong giàu đường ( sản phẩm phụ của chế độ ăn nhựa cây ) để đổi lấy sự bảo vệ chống lại kẻ săn mồi như bọ rùa . \n",
       " \n",
       "  xxmaj các tương tác về sự phục vụ đổi lấy sự phục vụ lại là rất hiếm , vì những lý do không rõ ràng . xxmaj một ví dụ là mối quan hệ giữa hải quỳ và cá hải quỳ trong họ xxmaj xxunk : hải quỳ cung cấp cho cá sự bảo vệ khỏi những kẻ săn mồi ( vì chúng không thể chịu đựng được các vết cắn của hải quỳ ) và cá bảo vệ hải quỳ chống lại cá bướm ( họ xxmaj chaetodontidae ) là loài chuyên ăn hải quỳ . xxmaj tuy nhiên , điểm chung của nhiều tương tác , có nhiều hơn một khía cạnh của nó : trong sự tương sinh giữa hải quỳ - cá hải quỳ , chất thải amoniac từ cá ăn tảo cộng sinh được tìm thấy trong các xúc tu của hải quỳ . xxmaj do đó , những gì dường như là một sự tương hỗ dịch vụ - dịch vụ trong thực tế có một thành phần tài nguyên dịch vụ . \n",
       " \n",
       "  xxmaj một ví dụ thứ hai là mối quan hệ giữa một số loài kiến trong chi xxmaj xxunk và cây trong chi keo , chẳng hạn như cây gai huýt sáo và cây keo sừng bò . xxmaj những con kiến làm tổ bên trong gai của cây . xxmaj để đổi lấy nơi trú ẩn , loài kiến bảo vệ cây xxunk khỏi sự tấn công của động vật ăn cỏ ( chúng thường ăn ) và cạnh tranh với các loài thực vật khác bằng cách cắt tỉa thảm thực vật che bóng cây keo . xxmaj trong hệ thần kinh , loài kiến xxmaj xxunk xxunk làm tổ của nó trong các hốc đặc biệt ở xxmaj xxunk xxunk . xxmaj thực vật trong vùng lân cận thuộc về các loài khác bị giết bằng axit formic . xxmaj việc làm vườn chọn lọc này có thể rất mạnh mẽ đến nỗi các khu vực nhỏ của rừng mưa nhiệt đới bị chi phối bởi người chăn gia súc xxmaj xxunk . xxmaj những miếng vá kỳ dị này được người dân địa phương gọi là \" khu vườn của quỷ \" . \n",
       " \n",
       "  xxmaj trong một số mối quan hệ này , chi phí cho việc bảo vệ của loài kiến có thể khá tốn kém . xxmaj các loài cây thuộc chi xxmaj xxunk sp . trong rừng nhiệt đới xxmaj amazon có mối quan hệ hợp tác với các loài kiến thuộc chủng xxmaj xxunk sp , làm cho tổ của chúng trong lá . xxmaj để tăng lượng không gian sống có sẵn , những con kiến sẽ phá hủy nụ hoa của cây . xxmaj những bông hoa chết và lá phát triển thay vào đó , cung cấp cho kiến nhiều nhà ở hơn . xxmaj một loại khác của xxmaj xxunk sp . xxmaj kiến sống với các loài xxmaj xxunk sp trong cùng một khu rừng , nhưng trong mối quan hệ này , khi cây đã sẵn sàng để ra hoa , những con kiến ở một số nhánh bắt đầu héo và co lại , buộc những kẻ cư ngụ phải chạy trốn , để lại những bông hoa xxmaj cây phát triển không bị kiến tấn công . \n",
       " \n",
       "  xxmaj thuật ngữ \" nhóm loài \" có thể được sử dụng để mô tả cách thức mà các sinh vật riêng lẻ nhóm lại với nhau . xxmaj trong bối cảnh phi phân loại này , người ta có thể đề cập đến \" các nhóm cùng loài \" và \" các nhóm loài hỗn hợp \" . xxmaj trong khi các nhóm cùng loài là chuẩn mực , ví dụ về các nhóm loài hỗn hợp rất nhiều . xxmaj ví dụ , ngựa vằn ( xxmaj equus xxunk ) và linh dương đầu bò ( xxmaj connochaetes taurinus ) có thể vẫn liên kết trong các giai đoạn di cư đường dài qua bình nguyên xxmaj serengeti như một chiến lược để ngăn chặn những kẻ săn mồi . xxmaj cercopithecus mitis và xxmaj cercopithecus ascanius , là các loài khỉ trong rừng xxmaj xxunk của xxmaj kenya , có thể ở gần nhau và đi dọc theo các tuyến đường chính xác trong rừng trong thời gian lên tới 12 giờ . xxmaj những nhóm loài hỗn hợp này không thể được giải thích bằng sự trùng hợp của việc chia sẻ cùng một môi trường sống . xxmaj thay vào đó , chúng được tạo ra bởi sự lựa chọn hành vi tích cực của ít nhất một trong số các loài được đề cập . \n",
       " \n",
       "  xxmaj các phương pháp toán học về sự tương hỗ , như nghiên cứu về sự tương hỗ nói chung , đã bị tụt hậu so với những kẻ săn mồi , hoặc động vật ăn thịt , người tiêu dùng , tài nguyên , tương tác . xxmaj trong các mô hình tương tác , các đáp ứng chức năng \" loại i \" và \" loại xxup ii \" đề cập đến mối quan hệ tuyến tính và bão hòa , tương ứng , giữa lợi ích cung cấp cho một cá thể của loài 1 ( trục y ) về mật độ của loài 2 ( x xxunk ) . \n",
       " \n",
       "  xxmaj năm 1989 , xxmaj david xxmaj hamilton xxmaj wright đã sửa đổi các xxmaj phương trình xxmaj lotka – xxmaj volterra bằng cách thêm một thuật ngữ mới , xxunk / k , để thể hiện mối quan hệ tương hỗ . xxmaj wright cũng đã xem xét khái niệm bão hòa , có nghĩa là với mật độ cao hơn , có những lợi ích giảm dần của sự gia tăng hơn nữa của quần thể tương hỗ . xxmaj nếu không bão hòa , mật độ của loài sẽ tăng lên vô hạn . xxmaj bởi vì điều đó là không thể do các hạn chế về môi trường và khả năng mang theo , một mô hình bao gồm độ bão hòa sẽ chính xác hơn . xxmaj lý thuyết toán học của xxmaj wright dựa trên tiền đề của mô hình tương sinh hai loài đơn giản , trong đó lợi ích của chủ nghĩa tương hỗ trở nên bão hòa do các giới hạn đặt ra bởi thời gian xử lý . xxmaj wright định nghĩa thời gian xử lý là thời gian cần thiết để xử lý một loại thức ăn , từ khi tương tác ban đầu đến khi bắt đầu tìm kiếm các thực phẩm mới và cho rằng chế biến thực phẩm và tìm kiếm thực phẩm là loại trừ lẫn nhau . xxmaj theo lý thuyết tương hỗ thể hiện hành vi tìm kiếm thức ăn được tiếp xúc với những hạn chế về thời gian xử lý . xxmaj thuyết tương sinh có thể được liên kết với sự cộng sinh . \n",
       " \n",
       "  xxmaj các mạng lưới tương hỗ được tạo ra từ sự tương tác giữa thực vật và côn trùng thụ phấn đã được tìm thấy có cấu trúc tương tự trong các hệ sinh thái rất khác nhau trên các lục địa khác nhau , bao gồm các loài hoàn toàn khác nhau . xxmaj cấu trúc của các mạng lưới tương hỗ này có thể có những hậu quả lớn đối với cách các cộng đồng thụ phấn phản ứng với các điều kiện ngày càng khắc nghiệt và khả năng chuyên chở của cộng đồng quần thể này . \n",
       "  xxmaj các mô hình toán học kiểm tra hậu quả của cấu trúc mạng này đối với sự ổn định của các cộng đồng thụ phấn cho thấy cách thức cụ thể trong đó mạng lưới thụ phấn thực vật được tổ chức giảm thiểu sự cạnh tranh giữa các loài thụ phấn , làm giảm sự lan truyền của các tác động gián tiếp và do đó tăng cường sự ổn định của hệ sinh thái và thậm chí có thể dẫn đến sự thuận lợi gián tiếp mạnh mẽ giữa các loài thụ phấn khi điều kiện khắc nghiệt . xxmaj điều này có nghĩa là các loài thụ phấn cùng nhau có thể tồn tại trong điều kiện khắc nghiệt . \n",
       " \n",
       "  xxmaj nhưng nó cũng có nghĩa là các loài thụ phấn sụp đổ đồng thời khi điều kiện vượt qua điểm tới hạn . xxmaj sự sụp đổ đồng thời này xảy ra , bởi vì các loài thụ phấn phụ thuộc lẫn nhau khi sống sót trong điều kiện khó khăn . xxmaj sự sụp đổ toàn cộng đồng như vậy , liên quan đến nhiều loài thụ phấn , có thể xảy ra đột ngột khi điều kiện ngày càng khắc nghiệt vượt qua điểm quan trọng và việc phục hồi từ sự sụp đổ như vậy có thể không dễ dàng . xxmaj sự cải thiện về điều kiện cần thiết cho các loài thụ phấn để phục hồi có thể lớn hơn đáng kể so với sự cải thiện cần thiết để trở lại các điều kiện mà cộng đồng thụ phấn bị sụp đổ . \n",
       "  xxmaj thuyết tương sinh không nằm ở trạng tái tĩnh mà luôn có sự vận động và đổi thay và có thể bị mất đi bởi quá trình tiến hóa . xxmaj sachs và xxmaj simms ( 2006 ) đề xuất rằng điều này có thể xảy ra thông qua 4 phương cách chính : \n",
       "  xxmaj có rất nhiều ví dụ về sự đổ vỡ lẫn nhau . xxmaj ví dụ , dòng dõi thực vật sống trong môi trường giàu chất dinh dưỡng đã dần dần từ bỏ sự tương tác xxunk nhiều lần một cách độc lập . \n",
       " \n",
       "  xxmaj con người có liên quan đến sự tương tác với các loài khác : hệ thực vật đường ruột của chúng rất cần thiết cho quá trình tiêu hóa hiệu quả . xxmaj nhiễm chấy có thể có lợi cho con người bằng cách thúc đẩy phản ứng miễn dịch giúp giảm nguy cơ mắc bệnh rận do cơ thể gây ra . xxmaj một số mối quan hệ giữa con người với động vật và thực vật được thuần hóa ở các mức độ khác nhau . xxmaj ví dụ , các giống ngô nông nghiệp cung cấp thức ăn cho con người và không thể sinh sản mà không có sự can thiệp của con người vì vỏ lá không bị mở ra và hạt giống ( \" ngô trên lõi ngô \" ) không bị vỡ để phân tán hạt một cách tự nhiên . \n",
       "  xxmaj trong nông nghiệp truyền thống , một số cây trồng có tính tương hỗ là cây đồng hành , cung cấp cho nhau nơi trú ẩn , độ phì nhiêu của đất và / hoặc kiểm soát dịch hại tự nhiên . xxmaj ví dụ , đậu có thể mọc lên trên thân cây ngô như một tấm lưới , trong khi cố định nitơ trong đất để lấy ngô . xxmaj một nhà nghiên cứu đã đề xuất rằng lợi thế chính của xxmaj homo sapiens so với người xxmaj neanderthal trong việc cạnh tranh với môi trường sống tương tự là sự tương hỗ của người với chó . xxmaj chó và cừu là một trong những động vật đầu tiên được thuần hóa . \n",
       " \n",
       " \n",
       " \n",
       "  < / doc > \n",
       " ,xxbos xxmaj mercedes xxup amg \n",
       " \n",
       "  xxmaj mercedes - xxup amg gmbh , thường được gọi là xxup amg , là một nhà thiết kế , sản xuất và lắp ráp các loại xe hơi thuộc thương hiệu xxmaj mercedes xxmaj benz . xxmaj mercedes xxup amg đặt trụ sở tại xxmaj xxunk , xxmaj baden - xxmaj württemberg , xxmaj cộng hòa xxmaj liên bang xxmaj đức . xxmaj trước đây là một nhà sản xuất động cơ độc lập chuyên nghiên cứu và nâng cấp các dòng xe của xxmaj mercedes . daimlerchrysler cho thấy sự quan tâm về việc giành quyền kiểm soát xxup amg vào năm 1990 và trở thành sở hữu của xxup amg vào năm 2005 . xxup amg hiện tại là một công ty con được sở hữu hoàn toàn bởi xxmaj daimler xxup ag . \n",
       " \n",
       "  xxmaj các mẫu xe của xxup amg thường có vẻ bề ngoài mạnh mẽ hơn , một công suất mạnh hơn , lái dễ dàng hơn , độ ổn định cao hơn và sử dụng một cách rộng rãi vật liệu sợi carbon so với những chiếc xe nguyên bản của xxmaj mercedes . xxmaj các mẫu xe của xxup amg thường là những mẫu xe đắt nhất và có hiệu suất cao nhất so với chiếc xe cùng dòng của xxmaj mercedes . \n",
       " \n",
       "  xxmaj những chiếc xe của xxup amg thường có tên mã với 2 chữ số so với 3 chữ số của xxmaj mercedes . \n",
       "  xxup amg được thành lập năm 1967 như một nhà sản xuất động cơ xe đua dưới cái tên là xxup amg xxmaj xxunk und xxmaj xxunk mbh ( xxmaj công ty trách nhiệm hữu hạn sản xuất và phát triển động cơ xxup amg ) bởi hai cựu kĩ sư của xxmaj mercedes tên là xxmaj hans xxmaj werner xxmaj xxunk và xxmaj erhard xxmaj xxunk ở xxmaj xxunk an der xxmaj xxunk , gần xxmaj stuttgart . xxmaj cái tên \" xxup amg \" là viết tắt của xxmaj xxunk , xxmaj xxunk và xxmaj xxunk ( nơi sinh của xxmaj xxunk ) . xxmaj vào năm 1976 hầu hết xxup amg chuyển đến xxmaj xxunk , với bộ phận nghiên cứu động cơ xe đua còn ở lại vị trí cũ ở xxmaj xxunk . xxmaj lúc này xxmaj erhard xxmaj xxunk không còn là thành viên hội đồng quản trị , nhưng vẫn tiếp tục làm việc như một nhân viên ở xxmaj xxunk . \n",
       " \n",
       "  xxmaj năm 1990 , xxup amg đã trở thành một nhà thầu cao cấp cung cấp việc chỉnh sửa , \" độ \" lại các mẫu xe của xxmaj mercedes . xxmaj daimler - xxmaj benz xxup ag và xxup amg đã ký một hợp đồng cho phép xxup amg sử dụng mạng lưới đại lý rộng khắp của xxmaj daimler - xxmaj benz và tiến tới phát triển hoàn toàn một mẫu xe ( mẫu xe đầu tiên là xxmaj mercedes - xxmaj benz xxup xxunk xxup amg ra đời năm 1993 ) . xxmaj vào ngày 1 tháng 1 năm 1999 , daimlerchrysler thâu tóm đủ 51 % cổ phần của xxup amg và đổi tên công ty thành xxmaj mercedes - xxup amg gmbh đồng thời thoái vốn khỏi bộ phận phát triển động cơ xe đua , bộ phận này tiếp tục tồn đại dưới cái tên xxup hwa . xxmaj vào ngày 1 tháng 1 năm 2005 , xxmaj xxunk bán phần cố phiếu còn lại cho daimlerchrysler , từ đó xxmaj mercedes - xxup amg gmbh trở thành một công ty con và thuộc sở hữu hoàn toàn của daimlerchrysler . \n",
       "  xxup amg bắt đầu bằng việc thiết kế và thử nghiệm các động cơ . xxmaj sau đó mở rộng sang thiết kế và tùy chỉnh các xe nguyên bản của xxmaj mercedes \n",
       " \n",
       " \n",
       " \n",
       "  < / doc > \n",
       " ,xxbos xxmaj daniel xxmaj padilla \n",
       " \n",
       "  xxmaj daniel xxmaj john xxmaj ford xxmaj padilla ( sinh ngày 26 tháng 4 năm 1995 ) , còn được gọi là xxmaj daniel xxmaj padilla , là một diễn viên người xxmaj philippines và nghệ sĩ thu âm / bassist ban nhạc , xxmaj xxunk 5 . xxmaj anh hiện đang   là một tài năng của xxup abs - xxup cbn và xxmaj star xxmaj magic và đã được chọn là một trong   những xxmaj đại sứ trẻ tuổi của xxmaj original xxmaj xxunk xxmaj music để phát triển âm nhạc địa phương đến những người trẻ . \n",
       " \n",
       "  xxmaj padilla , tên đầy đủ là xxmaj daniel xxmaj john xxmaj ford xxmaj padilla sinh ngày 26 tháng 4 năm 1995 ở xxmaj manila , xxmaj philippines . xxmaj anh   là con của diễn viên nổi tiếng   xxmaj rommel xxmaj padilla và xxmaj karla xxmaj estrada . xxmaj daniel cũng là cháu của ngôi sao phim hành động   xxmaj robin xxmaj padilla và xxmaj xxunk xxmaj padilla , được biết đến như là \" xxup bb xxmaj xxunk \" . \n",
       " \n",
       "  xxmaj padilla sống trong một năm ở xxmaj tacloban và học ở đó ( lớp 4 ) . xxmaj năm 2014 , anh đăng ký là sinh viên của hệ thống giáo dục xxup ama . xxmaj do lịch làm việc quá khắt khe nên anh đã lấy chương trình học tại nhà của xxmaj xxunk xxmaj college nhiều năm trước . xxmaj daniel xxmaj padilla đã chia sẻ kế hoạch của mình về việc trở lại trường học sau khi mẹ của mình , xxmaj karla xxmaj estrada , công bố trên \" xxmaj xxunk xxmaj xxunk \" rằng cô ấy muốn tất cả các con cô để hoàn thành việc học của chúng . \n",
       " \n",
       "  xxmaj padilla đã được phát hiện bởi nhà quản lý tài năng xxmaj douglas giới thiệu anh đến thử giọng với xxmaj star xxmaj magic . xxmaj ông đã được giới thiệu với giới truyền thông như là một thành viên của xxmaj star xxmaj magic xxmaj circle 203 . xxmaj tại một cuộc họp báo vào năm 2013 , xxmaj padilla nói anh đã nghĩ rằng anh không bao giờ tưởng tượng được mình sẽ làm trong lĩnh vực giải trí mà nghĩ rằng anh đáng ra sẽ làm công việc kinh doanh để lo cho gia đình anh từ khi họ trải qua những khó khăn về tài chính . \n",
       " \n",
       "  xxmaj daniel xxmaj padilla và xxmaj kathryn xxmaj bernardo ( còn gọi là xxunk nhau từ năm 2011 đến nay , họ rất hạnh phúc và không chỉ đơn thuần là một nửa của đối phương trên màn ảnh . xxup dj và xxmaj xxunk thực sự khiến mọi người nghi ngờ rằng họ là một đôi ngoài đời . \n",
       " \n",
       "  xxunk còn được công nhận là xxunk hàng đầu xxmaj philipines với những bộ phim truyền hình có tỉ suất người xem cao ngất ngưởng ( trung bình hơn 32 % ) và những bộ phim chiếu rạp bom tấn có doanh thu khủng . xxmaj fandom của họ cũng là một trong những fandom hùng mạnh nhất xxmaj philippines với lượng fan đông đảo cả trong và ngoài nước . \n",
       " \n",
       "  xxmaj padilla bắt đầu gây ấn tượng trong năm 2010 , khi anh góp một vai nhỏ trong \" xxmaj xxunk năm 2010 \" , một phiên bản làm lại của chương trình hướng tới giới trẻ gây hit năm 1990 và được kết hợp với xxmaj julia xxmaj montes . xxmaj anh cũng được chọn vào vai xxmaj patrick xxmaj rivero trong một chương trình có tựa đề xxmaj growing xxmaj up ,   thay thế xxmaj xxunk xxmaj xxunk ( người đưa   xxmaj kathryn xxmaj bernardo   thành công trong   \" xxmaj mara xxmaj clara \" ) cho vai diễn đó . \n",
       " \n",
       "  xxmaj sau hai chương trình liên tiếp về xxmaj sunday youth , xxmaj padilla cuối cùng cũng đã có được một vai trò quan trọng trong một bộ phim truyền hình vào giờ vàng mang tên   \" công xxmaj chúa xxmaj và tôi \" . xxmaj anh thử sức với nhân vật xxmaj gerald xxmaj antonio \" xxmaj gino \" xxunk xxmaj rosa hay xxmaj xxunk xxmaj yuan xxmaj rinpoche , một nhân vật mà anh miêu tả như \" một đứa trẻ giàu có và ngang tàng , người sẽ thay đổi và hy sinh rất nhiều vì lợi ích của tình yêu \" .   xxmaj bộ phim   lãng mạn - hài kịch hoàng tộc đã gây ấn tượng tốt ở bảng xếp hạng , đạt mức 40 % và đứng thứ hai sau   \" xxmaj xxunk xxmaj xxunk \" . \n",
       " \n",
       "  xxmaj vào ngày 28 tháng 5 năm 2012 , xxmaj padilla đã phát hành album đầu tay mang tên mình ,   \" xxmaj daniel xxmaj padilla \" . xxmaj album có sáu bài hát dấu với một single \" xxmaj xxunk - xxunk xxmaj kita \" , đó cũng là bài hát chủ đề trong   \" công xxmaj chúa xxmaj và tôi \" . xxmaj theo xxmaj star xxmaj records của nhà sản xuất xxmaj jonathan xxmaj xxunk , album đầu tay của xxmaj padilla bán được hơn 10.000 bản trong vòng chưa đầy một tuần . xxmaj vào ngày 17 tháng 6 cùng năm , xxmaj padilla được trao giài thưởng xxmaj gold xxmaj record xxmaj award cho album đầu tay của mình và sau này bán được hơn 30.000 bản và đạt xxmaj double xxmaj xxunk .   xxmaj vào ngày 14 xxmaj tháng xxmaj tư năm 2014 , xxmaj star xxmaj records phát hành album mới của xxmaj daniel xxmaj padilla , i xxmaj heart xxmaj you . i xxmaj heart xxmaj you   là một trong những single trong album đó . \n",
       " \n",
       " \n",
       " \n",
       " \n",
       "  < / doc > \n",
       " ,xxbos xxmaj doraemon : xxmaj nobita và binh đoàn người sắt \n",
       " \n",
       "  xxmaj câu chuyện được bắt đầu với việc xxmaj suneo khoe khoang về con robot xxmaj xxunk khiến xxmaj nobita cảm thấy ganh tị . xxmaj tình cờ , xxmaj nobita nhận được con robot xxmaj xxunk xxmaj xxunk bí ẩn cùng quả cầu - bộ não của xxmaj xxunk xxmaj xxunk , cậu ta và xxmaj doraemon lắp ráp hoàn chỉnh và đặt trong \" xxmaj thế giới gương soi \" - xxmaj một thế giới ảo không có người . xxmaj họ rủ thêm xxmaj shizuka cùng chơi với con xxunk ấy và phát hiện ra khả năng đặc biệt của nó nên hứa với nhau sẽ giữ i m lặng . xxmaj thế nhưng xxmaj nobita đã tiết lộ điều ấy với xxmaj xxunk - chủ nhân của xxmaj xxunk ' , tức là \" xxmaj xxunk xxmaj xxunk \" , và cô ta bảo cậu ta phải giữ bí mật . xxmaj với những bí ẩn về bọn xxunk , xxmaj nobita đã tiết lộ cho xxmaj doraemon tất cả . xxmaj họ phát hiện ra âm mưu thôn tính xxmaj địa cầu của bọn xxunk và bị truy sát . xxmaj cả hai báo cho những người lớn nhưng không ai tin . xxmaj họ báo cho xxmaj suneo và xxmaj jaian rồi cùng nhau cải tạo quả cầu nọ . xxmaj tất cả xuống \" xxmaj thế giới gương soi \" và cùng xxmaj xxunk phá hủy căn cứ xxunk . xxmaj tuy bị toán xxunk chống trả nhưng với vũ khí của mình họ đã làm chủ được tình hình và lập kế hoạch lừa bọn robot từ hành tinh xxmaj xxunk xuống \" xxmaj thế giới gương soi \" . \n",
       " \n",
       "  xxmaj trong lúc ấy , xxmaj shizuka cũng tìm đường đến \" xxmaj thế giới gương soi \" và đưa xxmaj xxunk trong đống đổ nát đang thương nặng về nhà ( cũng trong thế giới này ) chăm sóc và báo cho các bạn biết . xxmaj xxunk bảo loài người là hạ đẳng phải chịu làm nô lệ cho robot và đó là ý muốn của xxmaj thượng đế , sau đó cô ta đã bỏ trốn . xxmaj bọn robot bị lừa sang tấn công thế giới ảo bắt gặp xxmaj xxunk . xxmaj cảm động trước tấm lòng của loài người , cô ta đã khuyên tên xxunk chỉ huy dừng kế hoạch phi nghĩa này và xxmaj xxunk đã bị bắt giam . xxmaj thế nhưng xxmaj doraemon và xxmaj nobita đã cứu cô ta . \n",
       " \n",
       "  xxmaj bọn robot phát hiện ra kế hoạch của nhóm xxmaj doraemon nên tìm đường quay lại thế giới thực . xxmaj nhóm xxmaj doraemon đã phục kích và chiến đấu không cho chúng đến thế giới thực . xxmaj trong lúc ấy xxmaj shizuka nảy ra ý định cùng xxmaj xxunk trở về quá khứ gặp người chế tạo ra xxmaj amu và xxmaj emu - những cư dân xxunk đầu tiên ở hành tinh xxmaj xxunk . xxmaj biết được sai lầm trong tương lai của mình , ông đã cấy \" xxmaj tế bào nhân ái \" thay vì \" xxmaj bản năng cạnh tranh \" cho những cư dân ấy . xxmaj nhưng ông đã quá kiệt sức và được xxmaj xxunk giúp đỡ . xxmaj cuộc chiến giữa nhóm xxmaj doraemon với bọn xxunk đang quyết liệt thì bọn xxunk biến mất , xxmaj xxunk cũng tan biến theo . xxmaj khi xxmaj nobita chợt thấy hình bóng của xxmaj xxunk lướt qua cũng chính là lúc câu chuyện kết thúc . \n",
       " \n",
       "  xxmaj bộ phim là sản phẩm của : \n",
       " \n",
       "  xxmaj một phiên bản làm lại của bộ phim với nhiều thay đổi về mặt nội dung mang tên \" \" , được phát hành năm 2011 . \n",
       " \n",
       " \n",
       " \n",
       "  < / doc > \n",
       " ,xxbos xxmaj mikhail xxmaj xxunk xxmaj lermontov \n",
       " \n",
       "  xxmaj mikhail xxmaj xxunk xxmaj lermontov ( tiếng xxmaj nga : xxmaj xxunk xxmaj xxunk xxmaj xxunk , 15 tháng 10 năm 1814 – 27 tháng 7 năm 1841 ) – nhà thơ , nhà văn xxmaj nga . xxmaj là nhà thơ lớn của xxmaj nga sau xxmaj aleksandr xxmaj pushkin . \n",
       " \n",
       "  xxmaj mikhail xxmaj xxunk xxmaj lermontov sinh ở xxmaj moskva trong một gia đình có gốc gác từ xxmaj scotland . xxmaj mẹ mất sớm nên xxmaj lermontov được bà ngoại nuôi dạy . xxmaj từ nhỏ đã thông thạo tiếng xxmaj pháp , tiếng xxmaj đức . xxmaj năm 1825 bà ngoại đưa xxmaj lermontov đi về vùng xxmaj kavkaz . xxmaj ký ức tuổi thơ trước phong cảnh thiên nhiên của vùng xxmaj kavkaz in đậm trong nhiều sáng tác của ông . xxmaj năm 1827 trở lại xxmaj moskva , xxmaj lermontov vào học tại học xá xxmaj moskva , đến năm 1830 học xá trở thành gymnazy thì nghỉ học , sau đó vào học xxmaj đại học xxmaj moskva nhưng hai năm sau lại nghỉ học . xxmaj theo lời khuyên của một người bạn , xxmaj lermontov vào học trường võ bị xxmaj sankt xxmaj peterburg . xxmaj sau khi tốt nghiệp đi về vùng xxmaj kavkaz phục vụ . xxmaj thời gian ở xxmaj kavkaz , trong một vụ xích mích với xxmaj xxunk , người trước đây từng là bạn học ở trường võ bị , đã quyết định đấu súng và bị giết chết . \n",
       " \n",
       "  xxmaj cuộc đời của xxmaj lermontov chỉ vỏn vẹn có 27 năm nhưng di sản thơ ca mà ông để lại cho đời vô cùng to lớn . xxmaj lermontov giữ một vị trí đặc biệt trong thơ ca xxmaj nga . \n",
       " \n",
       "  xxmaj nhà phê bình xxmaj xxunk viết : \" xxmaj trong thơ của xxmaj lermontov là tất cả sức mạnh , là tất cả yếu tố để làm nên cuộc đời và thơ ca : một sức mạnh bền vững của tâm hồn , sự nhún nhường của than vãn , mùi hương của lời cầu nguyện , một sự khích lệ như sóng gió ba đào , một nỗi buồn tĩnh lặng , một nỗi trầm tư dịu dàng , những lời thở than kêu hãnh , những tiếng kêu la tuyệt vọng , vẻ đằm thắm bí huyền của tình cảm , những ước mong táo bạo không thể ngăn kìm , sự trong trắng trinh nguyên , những bệnh tật của xã hội , những bức tranh của thế giới , những lời quở trách của lương tâm , sự hối hận đến mủi lòng , sự thổn thức của đam mê và những giọt nước mắt lặng lẽ rót vào sóng gió của con tim , sự hoan hỉ của tình , lo âu của ngày ly biệt , niềm vui của ngày gặp mặt , sự coi khinh vẻ đơn điệu của đời thường , sự khát khao điên cuồng của vẻ hân hoan , một lòng tin cháy bừng như ngọn lửa và nỗi khổ của sự trống vắng trong tâm hồn , tiếng kêu than xua đi cảm giác về một cuộc đời đang chết lặng , chất độc của phủ nhận , vẻ lạnh lùng của mối nghi ngờ , ác quỷ ngạo mạn và đứa bé ngây thơ , vẻ ngang tàng của kẻ rượu chè và cô gái ngây thơ trong trắng – tất cả , tất cả trong thơ này : và bầu trời , và mặt đất , và thiên đàng , và địa ngục \" . \n",
       "  xxmaj với vẻ phong phú về ý tưởng và mô - típ kể trên , có thể chia sáng tác của xxmaj lermontov thành 2 giai đoạn : giai đoạn thứ nhất đến năm 1835 và giai đoạn thứ hai là những năm còn lại của cuộc đời thơ ngắn ngủi . ở giai đoạn đầu xxmaj lermontov sáng tác bằng trí tưởng tưởng , bằng cảm nhận về thế giới xung quanh mình : sự đấu tranh không khoan nhượng của hai mặt đối lập giữa trời và đất , qua đó nhìn ra nguyên nhân của bi kịch cuộc đời mình . xxmaj giai đoạn thứ hai nhà thơ đã gần hơn với thực tế qua sự với tiếp xúc nhiều với những con người và đời sống xã hội . xxmaj như một người theo thuyết nhị nguyên luận , nhà thơ cảm nhận vẻ hai mặt của con người \" trong khoảng trung gian kinh hoàng giữa hai cuộc đời \" . \n",
       " \n",
       "  xxmaj tiếng xxmaj nga : \n",
       " \n",
       "  xxup i. \" xxmaj xxunk \" \n",
       " \n",
       " \n",
       "  xxup ii . \" xxmaj xxunk xxunk \" \n",
       "  а ) xxmaj xxunk xxunk . \" xxmaj xxunk xxup xxunk xxmaj xxunk - xxmaj xxunk \" ( \" xxmaj xxunk xxmaj xxunk \" , 1890 , кн . xxup viii ) ; \" xxmaj xxunk и xxunk xxunk - xxunk - xxup xxunk xxmaj xxunk \" ( \" xxmaj xxunk xxmaj xxunk \" , 1896 , кн . xxup vi ) ; \" xxmaj xxunk \" xxup xxunk xxmaj xxunk ( \" xxmaj xxunk xxmaj xxunk \" , 1884 , кн . xxup xii ) ; xxup xxunk xxmaj xxunk ( \" xxmaj xxunk xxmaj xxunk \" , 1884 , кн . v ) ; \" xxmaj xxunk \" xxup xxunk xxmaj xxunk ( xxunk . xxmaj xxunk ) , xxunk . xxup xxunk xxmaj xxunk ( xxunk . , 1871 ; xxunk xxunk о xxunk xxunk xxunk xxup xxunk xxmaj xxunk , \" xxmaj русский xxmaj xxunk \" , 1872 , кн . xxup ii ) . b ) xxmaj xxunk xxunk и xxunk xxunk . \" xxmaj xxunk xxmaj xxunk \" ; xxup а. xxmaj xxunk ( \" xxmaj русский xxmaj xxunk \" , 1872 , xxmaj no . 205 ) ; xxup xxunk xxmaj xxunk \" xxmaj русский xxmaj xxunk \" , 1893 , xxup ii [ 8 ] ; \" xxmaj xxunk xxunk xxmaj xxunk xxmaj xxunk xxunk \" ( xxunk . , 1873 ) ; xxup xxunk xxmaj xxunk \" xxmaj xxunk xxunk xxunk xxmaj xxunk xxunk \" ( xxunk . xxup iv ) ; xxup xxunk xxmaj xxunk \" xxmaj xxunk xxunk на xxmaj xxunk \" ( xxmaj xxunk , 1900 ) . с ) xxmaj xxunk - xxunk xxunk . \" xxmaj xxunk \" xxup xxunk xxmaj xxunk ( xxunk . xxup ii , xxunk . , 1897 ) ; \" xxmaj xxunk \" xxup xxunk xxmaj xxunk ( \" xxmaj xxunk \" . xxmaj xxunk xxmaj xxunk xxunk xxunk xxunk на 1895 xxunk . ) ; xxup xxunk xxmaj xxunk ( \" xxmaj xxunk xxmaj xxunk \" , 1873 , кн . xxup iii и xxup iv ) ; xxunk xxup xxunk xxmaj xxunk ( \" xxmaj xxunk xxmaj xxunk \" , 1882 , кн . xxup ix ) ; xxmaj xxunk . xxmaj xxunk ( \" xxmaj xxunk \" , 1861 , кн . xxup ii , xxunk . 326 ) ; xxup xxunk xxmaj xxunk ( \" xxmaj xxunk \" , 1861 , кн . xxup ii , xxunk . 656 - 663 ) ; xxunk xxup xxunk xxmaj xxunk ( \" xxmaj xxunk xxmaj xxunk \" , 1886 , кн . xxup iv - xxup vi ) ; xxunk xxup xxunk xxmaj xxunk ( \" xxmaj русский xxmaj xxunk \" , 1900 , xxmaj no . 9 , xxunk . 80 - 81 ) ; xxup xxunk xxmaj xxunk - xxmaj xxunk ( \" xxmaj xxunk xxmaj xxunk \" , 1889 , кн . xxup ii , xxunk . 313 ) . d ) xxmaj xxunk xxunk xxunk xxmaj xxunk : \" xxmaj xxunk \" xxup xxunk xxmaj xxunk - xxmaj xxunk ( \" xxmaj русский xxmaj xxunk \" , 1889 , xxmaj no . 6 , xxunk . 315 - 320 ) ; \" xxmaj xxunk xxmaj xxunk \" , 1881 , xxmaj no . 1983 ; \" xxmaj xxunk \" , 1885 , xxmaj no . 20 ; \" xxmaj русский xxmaj xxunk \" , 1887 , xxmaj no . 11 ; \" xxmaj xxunk \" , 1891 , xxmaj no . 12 ; \" xxmaj xxunk xxmaj xxunk \" , 1891 , кн . xxup iv , xxunk . 707 - 712 ) ; xxunk xxup xxunk xxmaj xxunk ( \" xxmaj русский xxmaj xxunk \" , 1872 , xxmaj no . 1 ) ; xxup xxunk xxmaj xxunk ( \" xxmaj xxunk \" , 1885 , xxmaj no . 7 , 8) ; \" xxmaj xxunk xxunk xxunk о xxunk xxmaj xxunk с xxup xxunk xxmaj xxunk \" ( \" xxmaj русский xxmaj xxunk \" , 1893 , кн . xxup ii [ 8 ] , xxunk . 595 - 606 ) ; \" xxmaj xxunk о xxunk xxmaj xxunk \" ( \" xxmaj xxunk xxmaj xxunk \" , 1895 , кн . xxup ii , xxunk . 841 - 876 ) . \n",
       " \n",
       " \n",
       " \n",
       "  < / doc > \n",
       " \n",
       "y: LMLabelList\n",
       ",,,,\n",
       "Path: /home/projectx/Documents/Non-English sentiment analysis/viwiki/docs;\n",
       "\n",
       "Valid: LabelList (7349 items)\n",
       "x: LMTextList\n",
       "xxbos xxmaj đại học xxmaj xxunk \n",
       " \n",
       "  xxmaj đại học xxmaj xxunk ( xxunk xxunk xxunk xxmaj xxunk xxmaj daigaku , viết tắt là xxmaj xxunk và xxunk xxmaj xxunk ) là trường đại học tư ở xxmaj kyoto , xxmaj nhật xxmaj bản , có nguồn gốc từ năm 1869 . xxmaj với cơ sở xxmaj kinugasa ( xxup xxunk ) ở xxmaj kyoto và quận xxmaj kyoto , trường đại học cũng có vệ tinh được gọi là xxmaj xxunk - xxmaj xxunk xxmaj campus ( xxup xxunk ) và xxmaj osaka - xxmaj ibaraki xxmaj campus ( xxup oic ) . xxmaj lịch sử của xxmaj xxunk bắt đầu từ năm 1869 khi một học viện tư nhân cùng tên được thành lập tại xxmaj kyoto . \n",
       " \n",
       "  xxmaj ngày nay , trường đại học xxmaj xxunk được biết đến như một trong bốn trường đại học tư thục hàng đầu của miền xxmaj tây xxmaj nhật xxmaj bản . xxup kan - xxup kan - xxup do - xxup xxunk xxunk xxunk 同 xxunk ( xxmaj đại học xxmaj xxunk xxmaj gakuin , xxmaj đại học xxmaj kansai , xxmaj đại học xxmaj xxunk và xxmaj đại học xxmaj xxunk ) là viết tắt mà nhiều người nhắc đến khi nói về bốn trường đại học tư nhân hàng đầu trong khu vực ( 20 triệu người ) ) . xxmaj đại học xxmaj xxunk được coi là một trong những trường đại học tốt của xxmaj nhật xxmaj bản , và đặc biệt nổi tiếng với chương trình xxmaj quan hệ xxmaj quốc tế được xếp hạng nhất ở xxmaj nhật xxmaj bản . xxmaj trường có các chương trình trao đổi với các trường trên khắp thế giới , bao gồm xxmaj đại học xxmaj british xxmaj columbia , xxmaj đại học xxmaj melbourne , xxmaj đại học xxmaj sydney , xxmaj đại học xxmaj hồng xxmaj kông và xxmaj cao đẳng xxmaj king 's xxmaj london . xxmaj nhà trường cũng cung cấp một chương trình cử nhân kép và chương trình thạc sĩ kép phối hợp với xxmaj đại học xxmaj mỹ , và cung cấp một bằng cử nhân kép hợp tác với xxmaj đại học xxmaj british xxmaj columbia . xxmaj nó có một mạng lưới cựu sinh viên tương đối mạnh ở vùng xxmaj kansai và đã tạo ra một số xxup ceo trong các công ty xxmaj nhật xxmaj bản cũng như các chính trị gia . \n",
       " \n",
       "  xxmaj tháng 3 năm 2018 , trường xxmaj đại học xxmaj xxunk đã thành lập văn phòng xxmaj đại học xxmaj xxunk tại xxmaj việt xxmaj nam . \n",
       " \n",
       "  xxmaj năm 1869 , xxmaj hoàng tử xxmaj saionji xxmaj xxunk thành lập xxmaj học viện tư nhân \" xxmaj xxunk \" tại xxmaj kyoto . xxmaj ngày hôm nay , xxmaj đại học xxmaj xxunk cung cấp một loạt các khóa học nghiên cứu cao cấp tại xxmaj kinugasa xxmaj campus tại xxmaj kyoto và xxmaj xxunk xxmaj xxunk xxmaj campus ( xxup xxunk ) ở xxmaj shiga . xxmaj năm 2000 đánh dấu kỷ niệm 130 năm thành lập của trường tư thục xxmaj xxunk và 100 năm thành lập xxmaj đại học xxmaj xxunk . \n",
       " \n",
       "  xxmaj vào tháng 4 năm 2000 , lần thứ 100 kỷ niệm ngày thành lập , xxmaj xxunk mở một cơ sở giáo dục quốc tế là trường xxmaj đại học xxmaj xxunk xxmaj châu á xxmaj thái xxmaj bình xxmaj dương ( xxmaj xxunk xxmaj asia xxmaj pacific xxmaj university ) ở quận xxmaj xxunk . xxmaj xxunk phát triển thành một tổ chức giáo dục gồm 2 trường đại học , 3 trường trung học phổ thông và 3 trường trung học cơ sở . \n",
       " \n",
       "  xxmaj đại học xxmaj xxunk và xxmaj đại học xxmaj quốc gia xxmaj úc ( xxup anu ) với sự chứng kiến của xxmaj thủ tướng xxmaj shinzo xxmaj abe ký một bản ghi nhớ về việc liên kết / hợp tác . xxmaj dựa vào bản ghi nhớ này , xxmaj đại học xxmaj quốc gia xxmaj úc ( xxup anu ) có trụ sở tại thủ đô xxmaj canberra của xxmaj úc và xxmaj đại học xxmaj xxunk đã ký kết hiệp định về văn bằng kép ( bằng đại học kép ) có thể lấy bằng của cả hai trường đại học khi tốt nghiệp . \n",
       " \n",
       "  xxmaj số sinh viên của trường là xxunk người . xxmaj trường tập trung xxunk du học sinh đến từ 47 quận khắp xxmaj nhật xxmaj bản và 68 quốc gia trên thế giới . xxmaj đại học xxmaj xxunk có 4 campus tại xxmaj kyoto , xxmaj osaka và xxmaj shiga . xxmaj tại xxmaj đại học xxmaj xxunk sinh viên có thể tham gia các giờ học , kỳ thi chỉ bằng tiếng xxmaj anh , không cần thiết phải bằng tiếng xxmaj nhật . \n",
       " \n",
       "  xxmaj đại học xxmaj xxunk có 15 khoa đào tạo cử nhân với 22 chuyên ngành nghiên cứu . xxmaj đại học này còn có khoảng 2000 du học sinh đến từ 68 quốc gia . xxmaj trường cũng đã ký kết hiệp định với 65 quốc gia / vùng lãnh thổ trên thế giới và hơn 440 trường xxmaj đại học / cơ quan nghiên cứu . xxmaj năm 2014 , \" xxmaj dự án hỗ trợ sáng tạo xxmaj đại học xxmaj super xxmaj global ( xxmaj dự án xxmaj đại học xxmaj toàn cầu xxup xxunk ) \" đã được xxmaj bộ xxmaj giáo dục , xxmaj văn hóa , xxmaj thể thao , xxmaj khoa học và xxmaj công nghệ xxmaj nhật xxmaj bản thông qua . \n",
       " \n",
       "  xxmaj hiện nay , trường đang tổ chức 5 khóa học bằng tiếng xxmaj anh : . \n",
       " \n",
       "  xxmaj khuôn viên trường có tám trường đại học , 17.000 sinh viên đại học và 1.100 sinh viên sau đại học \n",
       " \n",
       " \n",
       " \n",
       " \n",
       " \n",
       " \n",
       " \n",
       " \n",
       " \n",
       "  < / doc > \n",
       " ,xxbos xxmaj john xxmaj xxunk xxmaj austin \n",
       " \n",
       "  xxmaj john xxmaj xxunk xxmaj austin ( 26 tháng 3 năm 1911 - 8 tháng 2 năm 1960 ) là một triết gia ngôn ngữ người xxmaj anh và là người đề xướng hàng đầu về triết học ngôn ngữ thông thường , có lẽ nổi tiếng nhất trong việc phát triển lý thuyết về hành vi lời nói . \n",
       " \n",
       "  xxmaj austin chỉ ra rằng chúng ta sử dụng ngôn ngữ để thực hiện mọi việc cũng như để khẳng định mọi thứ và rằng việc phát biểu một câu như \" xxmaj tôi hứa sẽ làm như vậy \" được hiểu là tốt nhất là thực hiện một điều gì đó - thực hiện một lời hứa - thay vì thực hiện một khẳng định về bất cứ điều gì . xxmaj do đó , tên của một trong những tác phẩm nổi tiếng nhất của ông xxmaj làm thế nào để làm mọi việc với từ ngữ . xxmaj austin , trong việc cung cấp lý thuyết về hành vi lời nói của mình , đưa ra một thách thức lớn đối với triết lý ngôn ngữ , vượt xa chỉ đơn thuần là làm sáng tỏ một lớp các hình thức câu hình thái có chức năng thực hiện những gì họ đặt tên . xxmaj công việc của xxmaj austin cuối cùng cho thấy rằng tất cả lời nói và mọi phát ngôn là việc làm một cái gì đó bằng lời nói và dấu hiệu , thách thức một siêu hình học của ngôn ngữ sẽ đặt ra biểu thị , khẳng định mệnh đề là bản chất của ngôn ngữ và ý nghĩa . \n",
       " \n",
       "  xxmaj austin được sinh ra ở xxmaj lancaster , xxmaj anh , con trai thứ hai của xxmaj geoffrey xxmaj xxunk xxmaj austin ( 1884 xxunk ) , một kiến ​​trúc sư , và vợ xxmaj mary xxmaj hutton xxmaj bowes - xxmaj wilson ( 1883 xxunk ; née xxmaj wilson ) . xxmaj năm 1921 , gia đình chuyển đến xxmaj scotland , nơi cha của xxmaj austin trở thành thư ký của xxmaj trường xxmaj st xxmaj xxunk , xxmaj st xxmaj andrew . xxmaj austin được giáo dục tại xxmaj trường xxmaj shrewsbury năm 1924 , kiếm được học bổng về xxmaj kinh điển , và tiếp tục học xxmaj kinh điển tại xxmaj đại học xxmaj balliol , xxmaj oxford năm 1929 . \n",
       " \n",
       "  xxmaj năm 1933 , ông đã nhận được giải xxmaj nhất trong xxmaj xxunk xxmaj xxunk ( xxmaj kinh điển và xxmaj triết học ) cũng như xxmaj giải thưởng xxmaj xxunk cho văn xuôi xxmaj hy xxmaj lạp và danh hiệu hạng nhất trong trận chung kết . xxmaj xxunk xxmaj xxunk đã giới thiệu cho ông triết lý nghiêm túc và khiến ông có hứng thú suốt đời với xxmaj aristotle . xxmaj ông đảm nhận vị trí giảng dạy đầu tiên vào năm 1935 , với tư cách là đồng nghiệp và gia sư tại xxmaj magdalen xxmaj college , xxmaj oxford . \n",
       " \n",
       "  xxmaj những sở thích ban đầu của xxmaj austin bao gồm xxmaj aristotle , xxmaj kant , xxmaj leibniz và xxmaj plato ( đặc biệt là xxmaj xxunk ) . xxmaj những ảnh hưởng đương đại hơn của ông bao gồm đặc biệt là xxup g. xxup e. xxmaj moore , xxmaj john xxmaj cook xxmaj wilson và xxup h. xxup a. xxmaj xxunk . xxmaj những ảnh hưởng đương đại đã định hình quan điểm của họ về các câu hỏi triết học nói chung trên cơ sở chú ý cẩn thận đến những đánh giá cụ thể hơn mà chúng ta đưa ra . xxmaj họ đã đưa ra những đánh giá cụ thể của chúng tôi để an toàn hơn những đánh giá chung hơn . xxmaj thật hợp lý khi một số khía cạnh của cách tiếp cận đặc biệt của xxmaj austin đối với các câu hỏi triết học xuất phát từ sự tham gia của anh ấy với ba người cuối cùng . \n",
       " \n",
       "  xxmaj trong xxmaj thế chiến xxup ii , xxmaj austin phục vụ trong xxmaj quân đoàn xxmaj tình báo xxmaj anh . xxmaj người ta đã nói với ông rằng , \" ông ta hơn bất kỳ ai chịu trách nhiệm về tính chính xác cứu mạng của trí thông minh d - xxmaj day \" ( báo cáo trong xxmaj xxunk 1963 : 9 ) . xxmaj austin rời quân đội với cấp bậc trung tá và được vinh danh vì công việc tình báo với một xxup obe ( xxmaj sĩ quan của xxmaj huân chương xxmaj anh ) , xxmaj croix de guerre của xxmaj pháp , và xxmaj sĩ quan xxmaj quân đoàn xxmaj hoa xxmaj kỳ . \n",
       " \n",
       "  xxmaj sau chiến tranh , xxmaj austin trở thành xxmaj giáo sư triết học đạo đức của xxmaj white tại xxmaj oxford , với tư cách là thành viên giáo sư của trường đại học xxmaj corpus xxmaj christi . xxmaj anh bắt đầu tổ chức \" xxmaj buổi sáng thứ bảy của xxmaj austin \" nổi tiếng , nơi các sinh viên và đồng nghiệp sẽ thảo luận về việc sử dụng ngôn ngữ ( và đôi khi là sách về ngôn ngữ ) qua trà và xxunk , nhưng được xuất bản rất ít . \n",
       " \n",
       "  xxmaj austin đã đến thăm xxmaj harvard và xxmaj berkeley vào giữa những năm 50 , vào năm 1955 , đưa ra các bài giảng của xxmaj william xxmaj james tại xxmaj harvard sẽ trở thành xxmaj cách thực hiện những điều có lời , và đưa ra một cuộc hội thảo về những lý do mà tài liệu của họ sẽ tìm đến \" xxmaj lời cầu xin \" . xxmaj chính tại thời điểm này , anh đã gặp và kết bạn với xxmaj noam xxmaj chomsky . xxmaj ông là chủ tịch của xxmaj hiệp hội xxmaj aristoteles từ năm 1956 đến 1957 . \n",
       " \n",
       "  xxmaj austin qua đời ở tuổi 48 vì bệnh ung thư phổi . xxmaj vào thời điểm đó , ông đang phát triển một lý thuyết ngữ nghĩa dựa trên biểu tượng âm thanh , sử dụng các từ ngữ tiếng xxmaj anh làm dữ liệu . \n",
       " \n",
       " \n",
       "  < / doc > \n",
       " ,xxbos xxmaj sông xxmaj maas \n",
       " \n",
       "  xxmaj sông xxmaj maas ( tiếng xxmaj hà xxmaj lan và tiếng xxmaj đức : \" xxmaj maas \" , tiếng xxmaj pháp : \" xxmaj meuse \" , tiếng xxmaj la tinh : \" xxmaj xxunk \" , tiếng xxmaj wallon : \" xxmaj xxunk \" ) là một sông chính ở châu xxmaj âu . xxmaj sông xxmaj maas bắt nguồn từ xxmaj pháp , chảy qua xxmaj bỉ và xxmaj hà xxmaj lan trước khi đổ ra biển xxmaj bắc . xxmaj sông này có tổng chiều dài 925   km . \n",
       " \n",
       "  xxmaj sông xxmaj maas đánh dấu biên giới phía tây của xxmaj đế quốc xxmaj la xxmaj mã xxmaj thần thánh từ khi ra đời của đế quốc này vào thế kỷ 9 cho đến khi có sự sáp nhập phần lớn xxmaj alsace và xxmaj lorraine vào xxmaj pháp theo xxmaj hiệp ước xxmaj westphalia ( 1648 ) và trong một chừng mực nào đó tới năm 1792 khi xxmaj công quốc - xxmaj giáo khu xxmaj liège được sáp nhập vào xxmaj pháp . xxmaj trong phần chia cho xxmaj bỉ , một phần của xxunk xxunk ( thung lũng công nghiệp ) , là khu vực công nghiệp hóa trọn vẹn đầu tiên tại châu xxmaj âu lục địa . xxmaj sông xxmaj maas cũng được đề cập tới đầy lưu luyến trong \" xxmaj das xxmaj lied der xxmaj deutschen \" . \n",
       " \n",
       "  xxmaj sông xxmaj maas bắt nguồn từ xxmaj xxunk - en - xxmaj xxunk , một công xã thuộc xxmaj le xxmaj châtelet - sur - xxmaj meuse trên cao nguyên xxmaj langres ở xxmaj pháp và chảy theo hướng bắc vượt qua xxmaj sedan ( nơi bắt đầu giao thông thủy ) và xxmaj xxunk - xxmaj mézières để vào xxmaj bỉ . xxmaj tại xxmaj namur nó nhận thêm nước từ sông xxmaj sambre . xxmaj phía dưới xxmaj namur sông xxmaj maas chuyển hướng về phía đông , men dọc theo xxmaj ardennes và vượt qua xxmaj liège trước khi đổi hướng thành hướng bắc . xxmaj sông xxmaj maas sau đó tạo thành một phần của biên giới xxmaj bỉ - xxmaj hà xxmaj lan , ngoại trừ tại xxmaj maastricht thì biên giới nằm xa hơn về phía tây . xxmaj tại xxmaj hà xxmaj lan nó tiếp tục chảy theo hướng bắc , vượt qua xxmaj venlo gần dọc theo biên giới với xxmaj đức , sau đó đổi hướng về phía tây , hòa vào sông xxmaj rhine để tạo thành một vùng châu thổ rộng lớn . xxmaj sông xxmaj maas phân chia gần xxmaj xxunk thành xxmaj xxunk xxmaj maas ở bên phải và xxmaj xxunk xxmaj maas ở bên trái . xxmaj xxunk xxmaj maas chảy tiếp qua xxmaj amer , một phần của xxmaj xxunk và hòa vào xxmaj nieuwe xxmaj xxunk để tạo thành xxmaj xxunk xxmaj xxunk , trước khi đổ vào biển xxmaj bắc qua vịnh xxmaj xxunk . \n",
       " \n",
       "  xxmaj một số cầu đường sắt vượt qua sông xxmaj maas để nối các nhà ga sau đây ( tương ứng là trên bờ trái và bờ phải ) : \n",
       " \n",
       "  xxmaj có nhiều cầu đường bộ và khoảng 32 bến phà trên sông xxmaj maas . \n",
       " \n",
       "  xxmaj sông xxmaj maas có thể phục vụ giao thông thủy trên một phần đáng kể của tổng chiều dài của nó : xxmaj tại xxmaj hà xxmaj lan và xxmaj bỉ , sông này là một phần của hạ tầng cơ sở giao thông nội thủy chính , nối liền khu vực cảng xxmaj rotterdam - xxmaj amsterdam - xxmaj antwerp với các khu vực công nghiệp ngược dòng sông : 's xxmaj xxunk , xxmaj venlo , xxmaj maastricht , xxmaj liège , xxmaj namur . xxmaj giữa xxmaj maastricht và xxmaj xxunk , đoạn không thích hợp cho tàu thuyền qua lại của sông xxmaj maas được vượt qua bằng 36   km kênh xxmaj juliana . xxmaj phía nam xxmaj namur , xa hơn về phía đầu nguồn , sông chỉ có thể phục vụ cho các tàu thuyền nhỏ hơn , mặc dù sà lan có thể dài tới 100 m vẫn có thể đi tới tận thị xã xxmaj xxunk trên biên giới xxmaj pháp . \n",
       " \n",
       "  xxmaj từ xxmaj xxunk , sông được kênh đào hóa trên một khoảng cách 272   km . xxmaj meuse kênh đào hóa đã từng được gọi là \" xxmaj canal de l'est — xxmaj xxunk xxmaj nord \" nhưng gần đây được đặt tên lại là \" xxmaj canal de la xxmaj meuse \" . xxmaj đường thủy chỉ có thể dùng được cho các sà lan nhỏ hiện còn đang sử dụng thương mại ( gần 40 m dài và rộng hơn 5 m một chút ) . xxmaj ngay phía trên thị xã xxmaj xxunk , xxmaj canal de la xxmaj meuse nối liền với xxmaj canal de la xxmaj marne au xxmaj rhin bằng một kênh đào ngắn . ( xxmaj nguồn : xxup csdl đường thủy xxunk ) \n",
       " \n",
       "  xxmaj nhóm bò sát biển kỷ xxmaj phấn xxmaj trắng gọi là xxmaj mosasaur được đặt tên theo tên xxmaj la tinh của sông xxmaj maas . xxmaj các hóa thạch đầu tiên của chúng được phát hiện gần xxmaj maastricht vào năm 1780 . \n",
       " \n",
       "  xxmaj các chi lưu chính của sông xxmaj maas : \n",
       " \n",
       "  xxmaj sông xxmaj maas chảy qua các đô thị và các tỉnh xxmaj pháp , tỉnh xxmaj bỉ và tỉnh xxmaj hà xxmaj lan : \n",
       " \n",
       " \n",
       " \n",
       "  < / doc > \n",
       " ,xxbos xxmaj hợp tác kinh doanh \n",
       " \n",
       "  xxmaj hợp tác kinh doanh là sự phát triển của các mối quan hệ chiến lược , thành công , lâu dài giữa khách hàng và nhà cung cấp , dựa trên việc đạt được thông lệ tốt nhất và lợi thế cạnh tranh bền vững . xxmaj trong mô hình đối tác kinh doanh , các chuyên gia nhân sự làm việc chặt chẽ với các nhà lãnh đạo doanh nghiệp và quản lý trực tuyến để đạt được các mục tiêu tổ chức chung . xxmaj trong thực tế , mô hình đối tác kinh doanh có thể được mở rộng để bao gồm các thành viên của bất kỳ chức năng kinh doanh nào , ví dụ : xxmaj tài chính , xxup cntt , xxmaj nhân sự , xxmaj pháp lý , xxmaj quan hệ đối ngoại , đóng vai trò là người kết nối , liên kết chức năng của họ với các đơn vị kinh doanh để đảm bảo rằng hoặc chức năng , chuyên môn họ phải cung cấp được đặt trong mối quan tâm thực sự và hiện tại của doanh nghiệp để tạo ra giá trị . \n",
       " \n",
       "  xxmaj nhiệm vụ hợp tác kinh doanh và các khía cạnh quan trọng của ngành học đã được phát triển gần đây trong lĩnh vực du lịch . xxmaj nhiệm vụ hợp tác kinh doanh ( cho du lịch ) bao gồm \" tạo ra , tổ chức , phát triển và thực thi \" hợp tác \" ( ngắn hạn ) , \" chiến thuật \" ( trung hạn ) và quan hệ đối tác \" chiến lược \" ( dài hạn ) \" ( xxmaj xxunk , 2007 ) . \" xxmaj hợp tác là quá trình hai hoặc nhiều thực thể tạo ra các giải pháp hiệp đồng cho các thách thức của họ . \" \n",
       " \n",
       "  xxmaj bán chung ( xxmaj joint selling ) là một ví dụ về hợp tác hoạt động . xxmaj chia sẻ thông tin tài khoản bán lại hoặc \" tích hợp chuỗi giá trị \" ( xxmaj child , xxmaj faulkner , 1998 ) là những ví dụ về các sáng kiến hợp tác chiến thuật . xxmaj phát triển sản phẩm chung là một hoạt động hợp tác chiến lược điển hình . xxmaj thỏa thuận hợp tác thường được sử dụng trong các loại quan hệ đối tác khác nhau . \n",
       " \n",
       "  xxmaj một ví dụ là hợp tác chiến lược trong lĩnh vực hàng không được xxmaj bộ xxmaj quốc phòng và xxunk kết hợp với nhau . xxmaj cả hai đối tác chia sẻ một mục tiêu chung đã thống nhất để cải thiện các dịch vụ trực thăng và hỗ trợ cho tiền tuyến . xxup mod cũng mong muốn cung cấp giá trị tiền tốt nhất cho người nộp thuế trong khi xxunk tìm cách cung cấp lợi nhuận tốt nhất cho các cổ đông của mình thông qua dòng thu nhập dài hạn , ổn định . \n",
       " \n",
       "  xxmaj giảm chi phí chung : hợp tác kinh doanh có thể rẻ hơn và linh hoạt hơn so với sáp nhập hoặc mua lại và có thể được sử dụng khi sáp nhập hoặc mua lại không khả thi . \n",
       " \n",
       "  xxmaj hợp tác kinh doanh làm tăng \" lợi thế cạnh tranh \" ( xxmaj porter , 1985 ) . xxmaj lợi ích trực tiếp của việc hợp tác kinh doanh bao gồm lợi thế cạnh tranh lớn hơn thông qua hợp tác ( lợi thế hợp tác ) và thậm chí là cơ hội tốt hơn về doanh thu , nghề nghiệp và đầu tư trong lĩnh vực ứng dụng . \n",
       " \n",
       "  xxmaj hợp tác kinh doanh tạo ra một sự đoàn kết dựa trên truyền thống hoặc \" hữu cơ \" , mà là một hình thức hợp lý của \" đoàn kết cơ học \" ( xxmaj durkheim , 1893 ) . xxmaj hợp tác có một cách tiếp cận mới để đạt được mục tiêu kinh doanh . xxmaj nó thay thế mô hình nhà cung cấp khách hàng truyền thống bằng cách tiếp cận hợp tác để đạt được mục tiêu chung ; điều này có thể là để xây dựng một bệnh viện , cải thiện hợp đồng dịch vụ hiện có hoặc khởi động một chương trình làm việc hoàn toàn mới . xxmaj về cơ bản , các xxmaj đối tác làm việc cùng nhau để đạt được mục tiêu chung đã thỏa thuận trong khi mỗi người tham gia vẫn có thể giữ các lý do khác nhau để đạt được mục tiêu chung đó . \n",
       " \n",
       "  xxmaj các công ty thường cần thiết lập quan hệ đối tác với các công ty khác để cho phép mô hình kinh doanh của họ ( xxmaj xxunk , 2010 ) . xxmaj để trở nên hấp dẫn đối với các doanh nghiệp khác , các công ty cần phải sắp xếp các tính năng bên trong của họ , chẳng hạn như phong cách quản lý và sản phẩm với tình hình thị trường . xxmaj trong nghiên cứu năm 2013 của họ , xxmaj xxunk và xxmaj linton phát triển hai hồ sơ lý tưởng , còn được gọi là cấu hình hoặc nguyên mẫu , để khởi nghiệp thương mại hóa các phát minh . xxmaj hồ sơ xxmaj người thừa kế yêu cầu phong cách quản lý không quá kinh doanh ( bảo thủ hơn ) và người khởi nghiệp nên có một phát minh gia tăng ( xây dựng theo tiêu chuẩn trước đó ) . xxmaj hồ sơ này được đặt ra để thành công hơn ( trong việc tìm kiếm đối tác kinh doanh ) trong một thị trường có thiết kế vượt trội ( một tiêu chuẩn rõ ràng được áp dụng trong thị trường này ) . xxmaj ngược lại với hồ sơ này là xxmaj originator có phong cách quản lý mang tính doanh nhân cao và có một phát minh cấp tiến ( tiêu chuẩn hoàn toàn mới ) . xxmaj hồ sơ này được đặt ra để thành công hơn ( trong việc tìm kiếm đối tác kinh doanh ) trong một thị trường không có thiết kế chi phối ( tiêu chuẩn được thiết lập ) . xxmaj các công ty mới thành lập nên liên kết với một trong những hồ sơ khi thương mại hóa một phát minh để có thể tìm thấy và hấp dẫn đối tác kinh doanh . xxmaj bằng cách tìm kiếm một đối tác kinh doanh , một công ty khởi nghiệp sẽ có nhiều cơ hội thành công hơn ( xxmaj xxunk & xxmaj linton , 2013 ) . \n",
       " \n",
       "  xxmaj thuật ngữ hợp tác kinh doanh tài chính được sử dụng để mô tả các giám đốc tài chính làm việc cùng với các bộ phận kinh doanh khác nhau bao gồm hoạt động , nhân sự , bán hàng và tiếp thị , trong số những người khác , cung cấp thông tin tài chính , công cụ , phân tích và hiểu biết , cho phép các công ty đưa ra quyết định sáng suốt hơn trong khi thúc đẩy kinh doanh chiến lược . xxmaj mặc dù hợp tác kinh doanh tài chính đã xuất hiện trong nhiều năm , nó đã có tầm quan trọng ngày càng tăng , đặc biệt là sau hậu quả của cuộc khủng hoảng tài chính năm 2007 - 2008 . \n",
       " \n",
       "  xxmaj theo nghiên cứu được thực hiện bởi xxmaj robert xxmaj half xxup uk , 81 % các công ty của xxmaj anh đang tìm cách hình thành mối quan hệ đối tác mạnh mẽ hơn giữa bộ phận tài chính và các bộ phận khác của doanh nghiệp . xxmaj matthew xxmaj xxunk , giám đốc tài chính của công ty ngoại hối xxmaj xxunk , báo cáo rằng những nỗ lực để hợp nhất đội ngũ tài chính chặt chẽ hơn vào việc kinh doanh đã mang lại kết quả . \n",
       " \n",
       "  xxmaj hợp tác đòi hỏi tất cả các đối tác để chuyển đổi doanh nghiệp của họ về các mối quan hệ , hành vi , quy trình , truyền thông và lãnh đạo . xxmaj không người tham gia nào có thể thành công mà không có người khác , vì vậy phương pháp được đề xuất là thực hiện chuyển đổi như một hoạt động chung bất cứ khi nào có thể . \n",
       " \n",
       "  xxmaj hợp tác đã tồn tại trong nhiều thế kỷ . xxmaj trong kinh tế , hợp tác kinh doanh đã đạt được động lực và sự tập trung đáng kể trong các doanh nghiệp hàng đầu toàn cầu , là \" phương tiện để đạt được tăng trưởng doanh thu đáng kể \" ( xxmaj xxunk , xxmaj hamel , 1998 ) . \n",
       " \n",
       " \n",
       " \n",
       " \n",
       "  < / doc > \n",
       " ,xxbos xxmaj tạp chí xxmaj lý luận chính trị \n",
       " \n",
       "  xxmaj tạp chí xxmaj lý luận chính trị thành lập ngày 1 tháng 9 năm 1976 , là cơ quan ngôn luận của xxmaj học viện xxmaj chính trị quốc gia xxmaj hồ xxmaj chí xxmaj minh . \n",
       " \n",
       "  xxmaj tạp chí xxmaj lý luận chính trị có quá trình phát triển 40 năm ( tính đến 2016 ) và có tiền thân là hai tạp chí \" xxmaj thông tin lý luận \" và \" xxmaj nghiên cứu lý \" \" luận \" .   \n",
       " \n",
       "  xxmaj tạp chí \" xxmaj thông tin lý luận \" được thành lập tháng 9 - 1976 , thuộc xxmaj viện xxmaj nghiên cứu chủ nghĩa xxmaj mác - xxmaj lênin và tư tưởng xxmaj hồ xxmaj chí xxmaj minh , có chức năng : thông tin về mặt lý luận , những vấn đề , quan điểm , đường lối của xxmaj đảng xxmaj cộng sản xxmaj việt xxmaj nam và công nhân trên thế giới để phục vụ nghiên cứu , thuyết minh chính sách , đường lối của xxmaj đảng xxmaj cộng sản xxmaj việt xxmaj nam . \n",
       " \n",
       "  xxmaj tạp chí \" xxmaj nghiên cứu lý luận \" lúc đầu có tên là \" xxmaj nghiên cứu \" đến năm 1988 đổi tên thành xxmaj tạp chí \" xxmaj nghiên cứu lý luận \" , trực thuộc xxmaj trường xxmaj đảng xxmaj nguyễn xxmaj ái xxmaj quốc .   \n",
       " \n",
       "  xxmaj khi xxmaj học viện xxmaj nguyễn xxmaj ái xxmaj quốc và xxmaj viện xxmaj nghiên cứu chủ nghĩa xxmaj mác - xxmaj lênin và tư tưởng xxmaj hồ xxmaj chí xxmaj minh hợp nhất thành xxmaj học viện xxmaj chính trị quốc gia xxmaj hồ xxmaj chí xxmaj minh , hai tạp chí \" xxmaj nghiên cứu lý luận \" và \" xxmaj thông tin lý luận \" hợp nhất , lấy tên là xxmaj tạp chí \" xxmaj lý luận chính trị \" và ra số đầu tiên vào tháng 1 - 2001 . xxmaj từ đó xxmaj tạp chí \" xxmaj lý luận chính trị \" trở thành cơ quan ngôn luận và nghiên cứu khoa học của xxmaj học viện xxmaj chính trị quốc gia xxmaj hồ xxmaj chí xxmaj minh , thực hiện những nhiệm vụ trong hoạt động nghiên cứu lý luận của các cơ quan của xxmaj đảng xxmaj cộng sản xxmaj việt xxmaj nam và xxmaj học viện xxmaj chính trị quốc gia xxmaj hồ xxmaj chí xxmaj minh . \n",
       " \n",
       "  xxmaj trong suốt 40 năm trưởng thành và phát triển , xxmaj tạp chí \" xxmaj lý luận chính trị \" đã có những thay đổi mạnh mẽ về hình thức và nội dung . xxmaj từ những ấn phẩm ban đầu còn khiêm tốn về hình thức in ấn , trình bày , xuất bản 3 tháng hoặc 2 tháng một kỳ / một số , số lượng trang còn ít , tạp chí \" xxmaj lý luận chính trị \" đã tiến tới xuất bản hàng tháng . xxmaj nhằm đáp ứng yêu cầu hội nhập quốc tế , xxmaj tạp chí xxmaj lý luận chính trị đã xây dựng thêm phiên bản điện tử và tiếng xxmaj anh , chính thức đi vào hoạt động từ ngày 24 - 2 - 2014 . \n",
       " \n",
       "  xxmaj tạp chí xxmaj lý luận chính trị có tôn chỉ , mục đích là : giới thiệu các kết quả nghiên cứu khoa học tổng kết thực tiễn của xxmaj học viện , góp phần thông tin giáo dục chủ nghĩa xxmaj mác - xxmaj lênin , tư tưởng xxmaj hồ xxmaj chí xxmaj minh , quan điểm , đường lối của xxmaj đảng xxmaj cộng sản xxmaj việt xxmaj nam , chính sách pháp luật của xxmaj nhà nước xxmaj cộng hòa xxmaj xã hội chủ nghĩa xxmaj việt xxmaj nam ; đấu tranh , phê phán các quan điểm tư tưởng sai trái với chủ trương , đường lối của xxmaj đảng xxmaj cộng sản xxmaj việt xxmaj nam và xxmaj nhà nước xxmaj cộng hòa xxmaj xã hội chủ nghĩa xxmaj việt xxmaj nam . \n",
       " \n",
       "  xxmaj tổng xxmaj biên tập : xxmaj phó xxmaj giáo sư , xxmaj tiến sĩ xxmaj vũ xxmaj hoàng xxmaj công . \n",
       " \n",
       "  - 1976 - 1982 : xxmaj nguyễn xxmaj quang xxmaj huy \n",
       " \n",
       "  - 1982 - 1987 : xxmaj nguyễn xxmaj ngọc xxmaj tú \n",
       " \n",
       "  - 1987 - 1989 : xxmaj nguyễn xxmaj thế xxmaj phấn \n",
       " \n",
       "  - 1989 - 1995 : xxup pgs , xxup ts xxmaj trần xxmaj quốc xxmaj toản \n",
       " \n",
       "  - 1995 - 2000 : xxup ts xxmaj đỗ xxmaj trọng xxmaj bá \n",
       " \n",
       "  - 1977 - 1983 : xxup gs xxmaj lê xxmaj minh xxmaj khoa \n",
       " \n",
       "  - 1983 - 1987 : xxup pgs xxmaj vũ xxmaj hữu xxmaj ngoạn \n",
       " \n",
       "  - 1990 - 1997 : xxup gs , xxup ts xxmaj trần xxmaj hữu xxmaj tiến \n",
       " \n",
       "  - 1998 - 2000 : xxup pgs , xxup ts xxmaj trần xxmaj khắc xxmaj việt \n",
       " \n",
       "  - 2001 - 2005 : xxup pgs , xxup ts xxmaj trần xxmaj khắc xxmaj việt \n",
       " \n",
       "  - 2005 - 2010 : xxup pgs , xxup ts xxmaj nguyễn xxmaj viết xxmaj thảo \n",
       " \n",
       "  - 2010 - nay : xxup pgs , xxup ts xxmaj vũ xxmaj hoàng xxmaj công \n",
       " \n",
       " \n",
       " \n",
       "  < / doc > \n",
       " \n",
       "y: LMLabelList\n",
       ",,,,\n",
       "Path: /home/projectx/Documents/Non-English sentiment analysis/viwiki/docs;\n",
       "\n",
       "Test: None>"
      ]
     },
     "execution_count": 15,
     "metadata": {},
     "output_type": "execute_result"
    }
   ],
   "source": [
    "data.show_batch"
   ]
  },
  {
   "cell_type": "markdown",
   "metadata": {},
   "source": [
    "#### model details\n",
    "Create language model with base-architecture being `AWD_LSTM`.<br>\n",
    "As introduced in `AWD_LSTM` there are different dropout rates being applied to different layers of this architecture. The `drop_mult=0.5` means we apply only 50% of these dropout_rate.<br>\n",
    "In addition, we specify `pretrained=False` so that we are not loading and pretrained weights. The model will be freshly initialized and train from scratch."
   ]
  },
  {
   "cell_type": "code",
   "execution_count": 16,
   "metadata": {},
   "outputs": [],
   "source": [
    "learn = language_model_learner(data, AWD_LSTM, drop_mult=0.5, pretrained=False).to_fp16()"
   ]
  },
  {
   "cell_type": "code",
   "execution_count": 19,
   "metadata": {},
   "outputs": [
    {
     "data": {
      "text/html": [],
      "text/plain": [
       "<IPython.core.display.HTML object>"
      ]
     },
     "metadata": {},
     "output_type": "display_data"
    },
    {
     "name": "stdout",
     "output_type": "stream",
     "text": [
      "LR Finder is complete, type {learner_name}.recorder.plot() to see the graph.\n"
     ]
    }
   ],
   "source": [
    "# learn.to_fp16()\n",
    "learn.lr_find()"
   ]
  },
  {
   "cell_type": "code",
   "execution_count": 20,
   "metadata": {},
   "outputs": [
    {
     "data": {
      "image/png": "[encoded data removed]",
      "text/plain": [
       "<Figure size 432x288 with 1 Axes>"
      ]
     },
     "metadata": {
      "needs_background": "light"
     },
     "output_type": "display_data"
    }
   ],
   "source": [
    "learn.recorder.plot()"
   ]
  },
  {
   "cell_type": "code",
   "execution_count": 21,
   "metadata": {
    "scrolled": true
   },
   "outputs": [
    {
     "data": {
      "text/html": [
       "<table border=\"1\" class=\"dataframe\">\n",
       "  <thead>\n",
       "    <tr style=\"text-align: left;\">\n",
       "      <th>epoch</th>\n",
       "      <th>train_loss</th>\n",
       "      <th>valid_loss</th>\n",
       "      <th>accuracy</th>\n",
       "      <th>time</th>\n",
       "    </tr>\n",
       "  </thead>\n",
       "  <tbody>\n",
       "    <tr>\n",
       "      <td>0</td>\n",
       "      <td>3.373679</td>\n",
       "      <td>3.452199</td>\n",
       "      <td>0.378547</td>\n",
       "      <td>1:42:50</td>\n",
       "    </tr>\n",
       "    <tr>\n",
       "      <td>1</td>\n",
       "      <td>3.443367</td>\n",
       "      <td>3.513484</td>\n",
       "      <td>0.368959</td>\n",
       "      <td>1:42:14</td>\n",
       "    </tr>\n",
       "    <tr>\n",
       "      <td>2</td>\n",
       "      <td>3.427792</td>\n",
       "      <td>3.507759</td>\n",
       "      <td>0.370032</td>\n",
       "      <td>1:41:35</td>\n",
       "    </tr>\n",
       "    <tr>\n",
       "      <td>3</td>\n",
       "      <td>3.419448</td>\n",
       "      <td>3.466735</td>\n",
       "      <td>0.373973</td>\n",
       "      <td>1:41:00</td>\n",
       "    </tr>\n",
       "    <tr>\n",
       "      <td>4</td>\n",
       "      <td>3.387247</td>\n",
       "      <td>3.413554</td>\n",
       "      <td>0.379778</td>\n",
       "      <td>1:41:10</td>\n",
       "    </tr>\n",
       "    <tr>\n",
       "      <td>5</td>\n",
       "      <td>3.345488</td>\n",
       "      <td>3.354875</td>\n",
       "      <td>0.386035</td>\n",
       "      <td>1:41:02</td>\n",
       "    </tr>\n",
       "    <tr>\n",
       "      <td>6</td>\n",
       "      <td>3.343568</td>\n",
       "      <td>3.278793</td>\n",
       "      <td>0.395489</td>\n",
       "      <td>1:41:08</td>\n",
       "    </tr>\n",
       "    <tr>\n",
       "      <td>7</td>\n",
       "      <td>3.280704</td>\n",
       "      <td>3.172098</td>\n",
       "      <td>0.408634</td>\n",
       "      <td>1:41:27</td>\n",
       "    </tr>\n",
       "    <tr>\n",
       "      <td>8</td>\n",
       "      <td>3.200455</td>\n",
       "      <td>3.094983</td>\n",
       "      <td>0.419219</td>\n",
       "      <td>1:41:29</td>\n",
       "    </tr>\n",
       "    <tr>\n",
       "      <td>9</td>\n",
       "      <td>3.190851</td>\n",
       "      <td>3.067885</td>\n",
       "      <td>0.423306</td>\n",
       "      <td>1:41:38</td>\n",
       "    </tr>\n",
       "  </tbody>\n",
       "</table>"
      ],
      "text/plain": [
       "<IPython.core.display.HTML object>"
      ]
     },
     "metadata": {},
     "output_type": "display_data"
    }
   ],
   "source": [
    "# Unfreeze the model since we are not transfer learning\n",
    "learn.unfreeze()\n",
    "lr=1e-2\n",
    "learn.fit_one_cycle(10,lr,moms=(0.8,0.7))"
   ]
  },
  {
   "cell_type": "markdown",
   "metadata": {},
   "source": [
    "### Model pre-training on wiki-text summary\n",
    "This step is to create a pre-trained AWD_LSTM model(because FastAI doesn't come with one) so that later we can make use of it's encoder.<br>\n",
    "Note that we have achieved 0.423 accuracy which means that given a sequence of words, the chance of **predicting the exact next word** is 42.3%"
   ]
  },
  {
   "cell_type": "code",
   "execution_count": 22,
   "metadata": {},
   "outputs": [],
   "source": [
    "# Swtich the model back to full floating point precision\n",
    "# Save the model itself\n",
    "# Save the vocabulaty of the model\n",
    "mdl_path = path/'models'\n",
    "mdl_path.mkdir(exist_ok=True)\n",
    "learn.to_fp32().save(mdl_path/lm_fns[0], with_opt=False)\n",
    "learn.data.vocab.save(mdl_path/(lm_fns[1] + '.pkl'))"
   ]
  },
  {
   "cell_type": "markdown",
   "metadata": {},
   "source": [
    "## Transfer learning language model on classification dataset\n",
    "What we have right now, is a language model that has been trained on massive data from wikitext.<br>\n",
    "The next step is to construct our classifier for **sentiment analysis**. But before that, we can perform a similar step that we have used in [our ULMFiT repo](https://github.com/Sylar257/ULMFiT-Sentiment-Analysis) to costumize our learner to this dataset we are going to use.<br>\n",
    "On the high level, we just need to combine all the text we have for the *target task*, both labelled and unlabelled.Fine-tune the language model on this new corpus to learn the subtlety of the language in question in the task context. Hence, in the next a few lines of code we will be combine our training and testing text."
   ]
  },
  {
   "cell_type": "markdown",
   "metadata": {},
   "source": [
    "##### Dataset intro\n",
    "As recommened by Jeremy Howard, we will be using this [Competition: comment nuances classification](https://www.aivivn.com/contests/1) which is a Vietnamese version sentiment analysis.<br>\n",
    "The top 3 f1 scores are: 0.900, 0.897, 0.897"
   ]
  },
  {
   "cell_type": "code",
   "execution_count": 23,
   "metadata": {},
   "outputs": [
    {
     "data": {
      "text/html": [
       "<div>\n",
       "<style scoped>\n",
       "    .dataframe tbody tr th:only-of-type {\n",
       "        vertical-align: middle;\n",
       "    }\n",
       "\n",
       "    .dataframe tbody tr th {\n",
       "        vertical-align: top;\n",
       "    }\n",
       "\n",
       "    .dataframe thead th {\n",
       "        text-align: right;\n",
       "    }\n",
       "</style>\n",
       "<table border=\"1\" class=\"dataframe\">\n",
       "  <thead>\n",
       "    <tr style=\"text-align: right;\">\n",
       "      <th></th>\n",
       "      <th>id</th>\n",
       "      <th>comment</th>\n",
       "      <th>label</th>\n",
       "    </tr>\n",
       "  </thead>\n",
       "  <tbody>\n",
       "    <tr>\n",
       "      <th>0</th>\n",
       "      <td>train_000000</td>\n",
       "      <td>Dung dc sp tot cam on \\nshop Đóng gói sản phẩm...</td>\n",
       "      <td>0</td>\n",
       "    </tr>\n",
       "    <tr>\n",
       "      <th>1</th>\n",
       "      <td>train_000001</td>\n",
       "      <td>Chất lượng sản phẩm tuyệt vời . Son mịn nhưng...</td>\n",
       "      <td>0</td>\n",
       "    </tr>\n",
       "    <tr>\n",
       "      <th>2</th>\n",
       "      <td>train_000002</td>\n",
       "      <td>Chất lượng sản phẩm tuyệt vời nhưng k có hộp ...</td>\n",
       "      <td>0</td>\n",
       "    </tr>\n",
       "    <tr>\n",
       "      <th>3</th>\n",
       "      <td>train_000003</td>\n",
       "      <td>:(( Mình hơi thất vọng 1 chút vì mình đã kỳ vọ...</td>\n",
       "      <td>1</td>\n",
       "    </tr>\n",
       "    <tr>\n",
       "      <th>4</th>\n",
       "      <td>train_000004</td>\n",
       "      <td>Lần trước mình mua áo gió màu hồng rất ok mà đ...</td>\n",
       "      <td>1</td>\n",
       "    </tr>\n",
       "  </tbody>\n",
       "</table>\n",
       "</div>"
      ],
      "text/plain": [
       "             id                                            comment  label\n",
       "0  train_000000  Dung dc sp tot cam on \\nshop Đóng gói sản phẩm...      0\n",
       "1  train_000001   Chất lượng sản phẩm tuyệt vời . Son mịn nhưng...      0\n",
       "2  train_000002   Chất lượng sản phẩm tuyệt vời nhưng k có hộp ...      0\n",
       "3  train_000003  :(( Mình hơi thất vọng 1 chút vì mình đã kỳ vọ...      1\n",
       "4  train_000004  Lần trước mình mua áo gió màu hồng rất ok mà đ...      1"
      ]
     },
     "execution_count": 23,
     "metadata": {},
     "output_type": "execute_result"
    }
   ],
   "source": [
    "train_df = pd.read_csv('data/train.csv')\n",
    "train_df.loc[pd.isna(train_df.comment),'comment']='NA'\n",
    "train_df.head()"
   ]
  },
  {
   "cell_type": "code",
   "execution_count": 24,
   "metadata": {},
   "outputs": [
    {
     "data": {
      "text/html": [
       "<div>\n",
       "<style scoped>\n",
       "    .dataframe tbody tr th:only-of-type {\n",
       "        vertical-align: middle;\n",
       "    }\n",
       "\n",
       "    .dataframe tbody tr th {\n",
       "        vertical-align: top;\n",
       "    }\n",
       "\n",
       "    .dataframe thead th {\n",
       "        text-align: right;\n",
       "    }\n",
       "</style>\n",
       "<table border=\"1\" class=\"dataframe\">\n",
       "  <thead>\n",
       "    <tr style=\"text-align: right;\">\n",
       "      <th></th>\n",
       "      <th>id</th>\n",
       "      <th>comment</th>\n",
       "    </tr>\n",
       "  </thead>\n",
       "  <tbody>\n",
       "    <tr>\n",
       "      <th>0</th>\n",
       "      <td>test_000000</td>\n",
       "      <td>Chưa dùng thử nên chưa biết</td>\n",
       "    </tr>\n",
       "    <tr>\n",
       "      <th>1</th>\n",
       "      <td>test_000001</td>\n",
       "      <td>Không đáng tiềnVì ngay đợt sale nên mới mua n...</td>\n",
       "    </tr>\n",
       "    <tr>\n",
       "      <th>2</th>\n",
       "      <td>test_000002</td>\n",
       "      <td>Cám ơn shop. Đóng gói sản phẩm rất đẹp và chắc...</td>\n",
       "    </tr>\n",
       "    <tr>\n",
       "      <th>3</th>\n",
       "      <td>test_000003</td>\n",
       "      <td>Vải đẹp.phom oki luôn.quá ưng</td>\n",
       "    </tr>\n",
       "    <tr>\n",
       "      <th>4</th>\n",
       "      <td>test_000004</td>\n",
       "      <td>Chuẩn hàng đóng gói đẹp</td>\n",
       "    </tr>\n",
       "  </tbody>\n",
       "</table>\n",
       "</div>"
      ],
      "text/plain": [
       "            id                                            comment\n",
       "0  test_000000                        Chưa dùng thử nên chưa biết\n",
       "1  test_000001   Không đáng tiềnVì ngay đợt sale nên mới mua n...\n",
       "2  test_000002  Cám ơn shop. Đóng gói sản phẩm rất đẹp và chắc...\n",
       "3  test_000003                      Vải đẹp.phom oki luôn.quá ưng\n",
       "4  test_000004                            Chuẩn hàng đóng gói đẹp"
      ]
     },
     "execution_count": 24,
     "metadata": {},
     "output_type": "execute_result"
    }
   ],
   "source": [
    "test_df = pd.read_csv('data/test.csv')\n",
    "test_df.loc[pd.isna(test_df.comment),'comment']='NA'\n",
    "test_df.head()"
   ]
  },
  {
   "cell_type": "code",
   "execution_count": 25,
   "metadata": {},
   "outputs": [],
   "source": [
    "# Combine two datasets\n",
    "df = pd.concat([train_df,test_df], sort=False)"
   ]
  },
  {
   "cell_type": "code",
   "execution_count": 26,
   "metadata": {},
   "outputs": [],
   "source": [
    "data_lm=(TextList.from_df(df, path, cols='comment')\n",
    "         .split_by_rand_pct(0.1, seed=62)\n",
    "         .label_for_lm()\n",
    "         .databunch(bs=bs))"
   ]
  },
  {
   "cell_type": "markdown",
   "metadata": {},
   "source": [
    "#### Create language model learner and load our pre-trained weights"
   ]
  },
  {
   "cell_type": "code",
   "execution_count": 27,
   "metadata": {},
   "outputs": [],
   "source": [
    "learn_lm = language_model_learner(data_lm, AWD_LSTM, pretrained_fnames=lm_fns, drop_mult=1)"
   ]
  },
  {
   "cell_type": "code",
   "execution_count": 28,
   "metadata": {},
   "outputs": [
    {
     "data": {
      "text/html": [],
      "text/plain": [
       "<IPython.core.display.HTML object>"
      ]
     },
     "metadata": {},
     "output_type": "display_data"
    },
    {
     "name": "stdout",
     "output_type": "stream",
     "text": [
      "LR Finder is complete, type {learner_name}.recorder.plot() to see the graph.\n"
     ]
    },
    {
     "data": {
      "image/png": "[encoded data removed]",
      "text/plain": [
       "<Figure size 432x288 with 1 Axes>"
      ]
     },
     "metadata": {
      "needs_background": "light"
     },
     "output_type": "display_data"
    }
   ],
   "source": [
    "learn_lm.lr_find()\n",
    "learn_lm.recorder.plot()"
   ]
  },
  {
   "cell_type": "code",
   "execution_count": 29,
   "metadata": {},
   "outputs": [
    {
     "data": {
      "text/html": [
       "<table border=\"1\" class=\"dataframe\">\n",
       "  <thead>\n",
       "    <tr style=\"text-align: left;\">\n",
       "      <th>epoch</th>\n",
       "      <th>train_loss</th>\n",
       "      <th>valid_loss</th>\n",
       "      <th>accuracy</th>\n",
       "      <th>time</th>\n",
       "    </tr>\n",
       "  </thead>\n",
       "  <tbody>\n",
       "    <tr>\n",
       "      <td>0</td>\n",
       "      <td>4.556986</td>\n",
       "      <td>4.026099</td>\n",
       "      <td>0.333532</td>\n",
       "      <td>00:13</td>\n",
       "    </tr>\n",
       "    <tr>\n",
       "      <td>1</td>\n",
       "      <td>4.315544</td>\n",
       "      <td>3.961268</td>\n",
       "      <td>0.336409</td>\n",
       "      <td>00:13</td>\n",
       "    </tr>\n",
       "    <tr>\n",
       "      <td>2</td>\n",
       "      <td>4.172538</td>\n",
       "      <td>3.874099</td>\n",
       "      <td>0.343226</td>\n",
       "      <td>00:13</td>\n",
       "    </tr>\n",
       "    <tr>\n",
       "      <td>3</td>\n",
       "      <td>4.000620</td>\n",
       "      <td>3.793410</td>\n",
       "      <td>0.351233</td>\n",
       "      <td>00:13</td>\n",
       "    </tr>\n",
       "    <tr>\n",
       "      <td>4</td>\n",
       "      <td>3.889075</td>\n",
       "      <td>3.773175</td>\n",
       "      <td>0.353302</td>\n",
       "      <td>00:13</td>\n",
       "    </tr>\n",
       "  </tbody>\n",
       "</table>"
      ],
      "text/plain": [
       "<IPython.core.display.HTML object>"
      ]
     },
     "metadata": {},
     "output_type": "display_data"
    }
   ],
   "source": [
    "lr = 5e-2\n",
    "learn_lm.fit_one_cycle(5, lr, moms=(0.8, 0.7))"
   ]
  },
  {
   "cell_type": "code",
   "execution_count": null,
   "metadata": {},
   "outputs": [],
   "source": [
    "learn_lm.unfreeze()"
   ]
  }
 ],
 "metadata": {
  "kernelspec": {
   "display_name": "Python 3",
   "language": "python",
   "name": "python3"
  },
  "language_info": {
   "codemirror_mode": {
    "name": "ipython",
    "version": 3
   },
   "file_extension": ".py",
   "mimetype": "text/x-python",
   "name": "python",
   "nbconvert_exporter": "python",
   "pygments_lexer": "ipython3",
   "version": "3.6.8"
  }
 },
 "nbformat": 4,
 "nbformat_minor": 2
}
